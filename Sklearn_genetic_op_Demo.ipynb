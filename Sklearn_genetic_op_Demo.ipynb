{
  "nbformat": 4,
  "nbformat_minor": 0,
  "metadata": {
    "colab": {
      "name": "Sklearn-genetic-op Demo.ipynb",
      "provenance": [],
      "collapsed_sections": [],
      "toc_visible": true,
      "authorship_tag": "ABX9TyPaDieUcrTSUoZcaVeEibSR",
      "include_colab_link": true
    },
    "kernelspec": {
      "name": "python3",
      "display_name": "Python 3"
    },
    "language_info": {
      "name": "python"
    }
  },
  "cells": [
    {
      "cell_type": "markdown",
      "metadata": {
        "id": "view-in-github",
        "colab_type": "text"
      },
      "source": [
        "<a href=\"https://colab.research.google.com/github/JOTOR/Examples_Python/blob/master/Sklearn_genetic_op_Demo.ipynb\" target=\"_parent\"><img src=\"https://colab.research.google.com/assets/colab-badge.svg\" alt=\"Open In Colab\"/></a>"
      ]
    },
    {
      "cell_type": "markdown",
      "source": [
        "#**Sklearn-genetic-opt Demo**\n",
        "\n",
        "By: jhonnatan.torres.suarez@gmail.com\n",
        "\n",
        "Created on: Feb 2022\n",
        "\n",
        "___"
      ],
      "metadata": {
        "id": "8TWFw_M2O9nt"
      }
    },
    {
      "cell_type": "markdown",
      "source": [
        "This notebook is a simple demo about how to use **Sklearn-genetic-opt**, a python library for hyperparameter tuning based on *evolutionary algorithms*, according to the [**Official Documentation**](https://sklearn-genetic-opt.readthedocs.io/en/stable/index.html):\n",
        "\n",
        ">This is meant to be an alternative to popular methods inside scikit-learn such as Grid Search and Randomized Grid Search for hyperparameters tuning, and from RFE, Select From Model for feature selection.\n",
        "\n",
        ">Sklearn-genetic-opt uses evolutionary algorithms from the deap package to choose a set of hyperparameters that optimizes (max or min) the cross-validation scores, it can be used for both regression and classification problems.\n",
        "\n",
        "As the library name suggests, it does support scikit-learn estimators but What about **Xgboost**?\n",
        "___"
      ],
      "metadata": {
        "id": "HgXaLXlWPNbA"
      }
    },
    {
      "cell_type": "markdown",
      "source": [
        "Installing the main library and importing the another required libraries"
      ],
      "metadata": {
        "id": "b311LtOfQYQN"
      }
    },
    {
      "cell_type": "code",
      "execution_count": null,
      "metadata": {
        "id": "VX-sxmcfccI5"
      },
      "outputs": [],
      "source": [
        "!pip install sklearn-genetic-opt -q"
      ]
    },
    {
      "cell_type": "code",
      "source": [
        "import numpy as np\n",
        "\n",
        "from sklearn.compose import ColumnTransformer\n",
        "from sklearn.datasets import fetch_openml\n",
        "from sklearn.pipeline import Pipeline\n",
        "from sklearn.impute import SimpleImputer\n",
        "from sklearn.preprocessing import StandardScaler, OneHotEncoder\n",
        "from sklearn.model_selection import train_test_split, StratifiedKFold\n",
        "from xgboost import XGBClassifier"
      ],
      "metadata": {
        "id": "vTSN-neocdcG"
      },
      "execution_count": null,
      "outputs": []
    },
    {
      "cell_type": "markdown",
      "source": [
        "## Data\n",
        "Since this is a simple demo, I am using the famous (*and probably overused*) **Titanic** dataset"
      ],
      "metadata": {
        "id": "eeOQk6j0QlwJ"
      }
    },
    {
      "cell_type": "code",
      "source": [
        "np.random.seed(1234)\n",
        "X, y = fetch_openml(\"titanic\", version=1, as_frame=True, return_X_y=True)"
      ],
      "metadata": {
        "id": "95sN_E2DdC5w"
      },
      "execution_count": null,
      "outputs": []
    },
    {
      "cell_type": "code",
      "source": [
        "numeric_features = [\"age\", \"fare\"]\n",
        "numeric_transformer = Pipeline(\n",
        "    steps=[(\"imputer\", SimpleImputer(strategy=\"median\")), (\"scaler\", StandardScaler())]\n",
        ")\n",
        "\n",
        "categorical_features = [\"embarked\", \"sex\", \"pclass\"]\n",
        "categorical_transformer = OneHotEncoder(handle_unknown=\"ignore\")\n",
        "\n",
        "preprocessor = ColumnTransformer(\n",
        "    transformers=[\n",
        "        (\"num\", numeric_transformer, numeric_features),\n",
        "        (\"cat\", categorical_transformer, categorical_features),\n",
        "    ]\n",
        ")"
      ],
      "metadata": {
        "id": "Zq5OOC0ndJlj"
      },
      "execution_count": null,
      "outputs": []
    },
    {
      "cell_type": "code",
      "source": [
        "SCALE_POS = y.value_counts()[0]/y.value_counts()[1]"
      ],
      "metadata": {
        "id": "E1S2xA3yhRW8"
      },
      "execution_count": null,
      "outputs": []
    },
    {
      "cell_type": "markdown",
      "source": [
        "Attaching the XGBClassifier into the pipeline"
      ],
      "metadata": {
        "id": "mTog00AYQ-el"
      }
    },
    {
      "cell_type": "code",
      "source": [
        "clf = Pipeline(\n",
        "    steps=[(\"preprocessor\", preprocessor), (\"classifier\", XGBClassifier(subsample=0.5, scale_pos_weight=SCALE_POS, max_depth=3, random_state=1234))]\n",
        ")"
      ],
      "metadata": {
        "id": "HiQTkMALdgSZ"
      },
      "execution_count": null,
      "outputs": []
    },
    {
      "cell_type": "code",
      "source": [
        "#clf.get_params()"
      ],
      "metadata": {
        "id": "Wu7EhNWBdyId"
      },
      "execution_count": null,
      "outputs": []
    },
    {
      "cell_type": "markdown",
      "source": [
        "## *Evolved Estimator*"
      ],
      "metadata": {
        "id": "ObYcVjwYRmzl"
      }
    },
    {
      "cell_type": "markdown",
      "source": [
        "Importing the evolutionary algorithms and defining the *search space*"
      ],
      "metadata": {
        "id": "BxSEB_KhRH9q"
      }
    },
    {
      "cell_type": "code",
      "source": [
        "from sklearn_genetic import GASearchCV\n",
        "from sklearn_genetic.space import Categorical, Integer, Continuous"
      ],
      "metadata": {
        "id": "XOYE4CXTd005"
      },
      "execution_count": null,
      "outputs": []
    },
    {
      "cell_type": "markdown",
      "source": [
        "You can use a **Continuous** *search space* with a *uniform* or *log-uniform* arguments, more info is available at https://sklearn-genetic-opt.readthedocs.io/en/stable/api/space.html"
      ],
      "metadata": {
        "id": "aOdmtZGYSsTm"
      }
    },
    {
      "cell_type": "code",
      "source": [
        "param_grid = {'classifier__reg_alpha': Continuous(0, 1),\n",
        "              'classifier__reg_lambda': Continuous(0.1, 1),\n",
        "              'classifier__n_estimators': Integer(3, 7),\n",
        "              'classifier__learning_rate': Continuous(0.1, 0.9)}"
      ],
      "metadata": {
        "id": "L3754bbPeJVq"
      },
      "execution_count": null,
      "outputs": []
    },
    {
      "cell_type": "code",
      "source": [
        "cv = StratifiedKFold(n_splits=5, shuffle=True)\n",
        "evolved_estimator = GASearchCV(estimator=clf,\n",
        "                              cv=cv,\n",
        "                              generations=10, \n",
        "                              scoring='accuracy',\n",
        "                              param_grid=param_grid,\n",
        "                              n_jobs=-1,\n",
        "                              verbose=True)"
      ],
      "metadata": {
        "id": "eZgqNgK2fNam"
      },
      "execution_count": null,
      "outputs": []
    },
    {
      "cell_type": "code",
      "source": [
        "X_train, X_test, y_train, y_test = train_test_split(X, y, test_size=0.30, random_state=1234)"
      ],
      "metadata": {
        "id": "NdKyw3G8fr41"
      },
      "execution_count": null,
      "outputs": []
    },
    {
      "cell_type": "markdown",
      "source": [
        "Fitting the **evolved estimator**, the process is similar than the randomized search available in scikit-learn, you can define the number of \"iterations\" with the **generations** parameter, in this case, I am working with 10 iterations"
      ],
      "metadata": {
        "id": "umLxHPCiRVCz"
      }
    },
    {
      "cell_type": "code",
      "source": [
        "evolved_estimator.fit(X_train, y_train)"
      ],
      "metadata": {
        "colab": {
          "base_uri": "https://localhost:8080/"
        },
        "id": "Xe7v63HGfZ-n",
        "outputId": "333b2d49-b551-44f9-f1ba-1c88bccc3a35"
      },
      "execution_count": null,
      "outputs": [
        {
          "output_type": "stream",
          "name": "stdout",
          "text": [
            "gen\tnevals\tfitness \tfitness_std\tfitness_max\tfitness_min\n",
            "0  \t50    \t0.776571\t0.00806688 \t0.798016   \t0.748901   \n",
            "1  \t100   \t0.783037\t0.00488093 \t0.792605   \t0.769672   \n",
            "2  \t100   \t0.785332\t0.00510705 \t0.794838   \t0.775125   \n",
            "3  \t100   \t0.787605\t0.00486925 \t0.800232   \t0.775065   \n",
            "4  \t100   \t0.787687\t0.00423861 \t0.794838   \t0.774014   \n",
            "5  \t100   \t0.788059\t0.00434059 \t0.79807    \t0.774044   \n",
            "6  \t100   \t0.788835\t0.00373696 \t0.794838   \t0.778326   \n",
            "7  \t100   \t0.789012\t0.004371   \t0.796911   \t0.778326   \n",
            "8  \t100   \t0.790127\t0.00451192 \t0.798064   \t0.778386   \n",
            "9  \t100   \t0.790536\t0.00421046 \t0.800208   \t0.781635   \n",
            "10 \t100   \t0.79075 \t0.00635205 \t0.803427   \t0.775042   \n"
          ]
        },
        {
          "output_type": "execute_result",
          "data": {
            "text/plain": [
              "GASearchCV(cv=StratifiedKFold(n_splits=5, random_state=None, shuffle=True),\n",
              "           estimator=Pipeline(steps=[('preprocessor',\n",
              "                                      ColumnTransformer(transformers=[('num',\n",
              "                                                                       Pipeline(steps=[('imputer',\n",
              "                                                                                        SimpleImputer(strategy='median')),\n",
              "                                                                                       ('scaler',\n",
              "                                                                                        StandardScaler())]),\n",
              "                                                                       ['age',\n",
              "                                                                        'fare']),\n",
              "                                                                      ('cat',\n",
              "                                                                       OneHotEncoder(handle_unknown='ignore'),\n",
              "                                                                       ['embarked',\n",
              "                                                                        'sex',\n",
              "                                                                        'pclass'])])),\n",
              "                                     ('classifie...\n",
              "           param_grid={'classifier__learning_rate': <sklearn_genetic.space.space.Continuous object at 0x7f66c73f9750>,\n",
              "                       'classifier__n_estimators': <sklearn_genetic.space.space.Integer object at 0x7f66c73f9710>,\n",
              "                       'classifier__reg_alpha': <sklearn_genetic.space.space.Continuous object at 0x7f66c73f9610>,\n",
              "                       'classifier__reg_lambda': <sklearn_genetic.space.space.Continuous object at 0x7f66c73f96d0>},\n",
              "           return_train_score=True, scoring='accuracy')"
            ]
          },
          "metadata": {},
          "execution_count": 12
        }
      ]
    },
    {
      "cell_type": "markdown",
      "source": [
        "##Using the best estimator"
      ],
      "metadata": {
        "id": "s2xmtFjVR-cW"
      }
    },
    {
      "cell_type": "markdown",
      "source": [
        "Getting the best parameters"
      ],
      "metadata": {
        "id": "pyv2NK2SVX6L"
      }
    },
    {
      "cell_type": "code",
      "source": [
        "print(evolved_estimator.best_params_)"
      ],
      "metadata": {
        "colab": {
          "base_uri": "https://localhost:8080/"
        },
        "id": "esbHHRz9fnp-",
        "outputId": "76fb22f4-8b84-498e-d142-d2f59febe044"
      },
      "execution_count": null,
      "outputs": [
        {
          "output_type": "stream",
          "name": "stdout",
          "text": [
            "{'classifier__reg_alpha': 0.49762234455838394, 'classifier__reg_lambda': 0.20242643909505617, 'classifier__n_estimators': 7, 'classifier__learning_rate': 0.36252028889729304}\n"
          ]
        }
      ]
    },
    {
      "cell_type": "code",
      "source": [
        "preds = evolved_estimator.predict(X_test)"
      ],
      "metadata": {
        "id": "yPeOkL34jQeq"
      },
      "execution_count": null,
      "outputs": []
    },
    {
      "cell_type": "code",
      "source": [
        "from sklearn.metrics import classification_report\n",
        "from sklearn.model_selection import cross_val_score\n",
        "print(classification_report(y_test, preds))"
      ],
      "metadata": {
        "colab": {
          "base_uri": "https://localhost:8080/"
        },
        "id": "gpvFJ9dFkSgQ",
        "outputId": "9d68763c-5a25-4586-fe09-cfe16089a90a"
      },
      "execution_count": null,
      "outputs": [
        {
          "output_type": "stream",
          "name": "stdout",
          "text": [
            "              precision    recall  f1-score   support\n",
            "\n",
            "           0       0.85      0.81      0.83       247\n",
            "           1       0.70      0.75      0.72       146\n",
            "\n",
            "    accuracy                           0.79       393\n",
            "   macro avg       0.77      0.78      0.77       393\n",
            "weighted avg       0.79      0.79      0.79       393\n",
            "\n"
          ]
        }
      ]
    },
    {
      "cell_type": "markdown",
      "source": [
        "## \"Plotting the evolution\""
      ],
      "metadata": {
        "id": "7NFdlon3SJ72"
      }
    },
    {
      "cell_type": "code",
      "source": [
        "import matplotlib.pyplot as plt\n",
        "from sklearn_genetic.plots import plot_fitness_evolution\n",
        "plt.figure(figsize=(8,4))\n",
        "plot_fitness_evolution(evolved_estimator)\n",
        "plt.show()"
      ],
      "metadata": {
        "colab": {
          "base_uri": "https://localhost:8080/",
          "height": 301
        },
        "id": "nh_2hY3Kk1xG",
        "outputId": "8ee4967e-cac0-4223-9231-dc528cdff172"
      },
      "execution_count": null,
      "outputs": [
        {
          "output_type": "display_data",
          "data": {
            "image/png": "[encoded data removed]",
            "text/plain": [
              "<Figure size 576x288 with 1 Axes>"
            ]
          },
          "metadata": {
            "needs_background": "light"
          }
        }
      ]
    },
    {
      "cell_type": "markdown",
      "source": [
        "## Closing Comments\n",
        "\n",
        "\n",
        "*   This library does support the scikit-learn wrapper of XGBoost; *I am pending to test if this library does support the [CatBoostClassifier](https://catboost.ai/en/docs/concepts/python-reference_catboostclassifier)* \n",
        "*   It can be a great alternative to the *GridSearchCV* and *RandomizedSearchCV* available in scikit-learn"
      ],
      "metadata": {
        "id": "Ni0GHBh3Tmvv"
      }
    },
    {
      "cell_type": "markdown",
      "source": [
        "## References\n",
        "\n",
        "\n",
        "*   This exampled was adapted from : https://sklearn-genetic-opt.readthedocs.io/en/stable/tutorials/basic_usage.html# \n",
        "*   Official Documentation: https://sklearn-genetic-opt.readthedocs.io/en/stable/index.html\n",
        "\n"
      ],
      "metadata": {
        "id": "XecC7YEjSXe-"
      }
    }
  ]
}