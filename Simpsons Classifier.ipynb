{
 "cells": [
  {
   "cell_type": "markdown",
   "metadata": {},
   "source": [
    "# Simpsons Characters Classifier\n",
    "Developed by jhonnatan.torres.suarez@gmail.com\n",
    "\n",
    "* Using a dataset available in Kaggle\n",
    "* In some frames of the training dataset there were two or three characters\n",
    "* Model Weights can be downloaded from https://www.kaggle.com/jhotor/simpsons\n",
    "* This notebook can be used in the Kaggle kernel\n",
    "***Note*** English is not my primary language, my apologies in advance for any grammar mistake or typo"
   ]
  },
  {
   "cell_type": "code",
   "execution_count": 1,
   "metadata": {
    "_cell_guid": "b1076dfc-b9ad-4769-8c92-a6c4dae69d19",
    "_uuid": "8f2839f25d086af736a60e9eeb907d3b93b6e0e5",
    "execution": {
     "iopub.execute_input": "2021-01-10T19:47:12.304666Z",
     "iopub.status.busy": "2021-01-10T19:47:12.303701Z",
     "iopub.status.idle": "2021-01-10T19:47:12.306725Z",
     "shell.execute_reply": "2021-01-10T19:47:12.306161Z"
    },
    "papermill": {
     "duration": 0.02027,
     "end_time": "2021-01-10T19:47:12.306840",
     "exception": false,
     "start_time": "2021-01-10T19:47:12.286570",
     "status": "completed"
    },
    "tags": []
   },
   "outputs": [],
   "source": [
    "import numpy as np # linear algebra\n",
    "import pandas as pd # data processing, CSV file I/O (e.g. pd.read_csv)"
   ]
  },
  {
   "cell_type": "code",
   "execution_count": 2,
   "metadata": {
    "_cell_guid": "79c7e3d0-c299-4dcb-8224-4455121ee9b0",
    "_uuid": "d629ff2d2480ee46fbb7e2d37f6b5fab8052498a",
    "execution": {
     "iopub.execute_input": "2021-01-10T19:47:12.331379Z",
     "iopub.status.busy": "2021-01-10T19:47:12.330595Z",
     "iopub.status.idle": "2021-01-10T19:47:12.333128Z",
     "shell.execute_reply": "2021-01-10T19:47:12.333757Z"
    },
    "papermill": {
     "duration": 0.016418,
     "end_time": "2021-01-10T19:47:12.333872",
     "exception": false,
     "start_time": "2021-01-10T19:47:12.317454",
     "status": "completed"
    },
    "tags": []
   },
   "outputs": [],
   "source": [
    "#Kaggle file system\n",
    "#/kaggle/input/the-simpsons-characters-dataset/simpsons_dataset/simpsons_dataset/"
   ]
  },
  {
   "cell_type": "code",
   "execution_count": 3,
   "metadata": {
    "execution": {
     "iopub.execute_input": "2021-01-10T19:47:12.360571Z",
     "iopub.status.busy": "2021-01-10T19:47:12.359872Z",
     "iopub.status.idle": "2021-01-10T19:47:17.071495Z",
     "shell.execute_reply": "2021-01-10T19:47:17.070588Z"
    },
    "papermill": {
     "duration": 4.727811,
     "end_time": "2021-01-10T19:47:17.071627",
     "exception": false,
     "start_time": "2021-01-10T19:47:12.343816",
     "status": "completed"
    },
    "tags": []
   },
   "outputs": [],
   "source": [
    "import os\n",
    "import keras\n",
    "import matplotlib.pyplot as plt\n",
    "from keras.layers import Dense,GlobalAveragePooling2D, MaxPooling2D, Conv2D, Flatten, Dropout\n",
    "from keras.preprocessing import image\n",
    "from keras.preprocessing.image import ImageDataGenerator, load_img, img_to_array\n",
    "from keras.models import Model, Sequential\n",
    "from keras.optimizers import RMSprop"
   ]
  },
  {
   "cell_type": "markdown",
   "metadata": {},
   "source": [
    "Using data augmentation"
   ]
  },
  {
   "cell_type": "code",
   "execution_count": 4,
   "metadata": {
    "execution": {
     "iopub.execute_input": "2021-01-10T19:47:17.105098Z",
     "iopub.status.busy": "2021-01-10T19:47:17.104157Z",
     "iopub.status.idle": "2021-01-10T19:47:22.133378Z",
     "shell.execute_reply": "2021-01-10T19:47:22.134017Z"
    },
    "papermill": {
     "duration": 5.051714,
     "end_time": "2021-01-10T19:47:22.134199",
     "exception": false,
     "start_time": "2021-01-10T19:47:17.082485",
     "status": "completed"
    },
    "tags": []
   },
   "outputs": [
    {
     "name": "stdout",
     "output_type": "stream",
     "text": [
      "Found 20933 images belonging to 42 classes.\n"
     ]
    }
   ],
   "source": [
    "IMG_SIZE = 224\n",
    "\n",
    "TRAINING_DIR = \"/kaggle/input/the-simpsons-characters-dataset/simpsons_dataset/simpsons_dataset/\"\n",
    "\n",
    "training_datagen = ImageDataGenerator(rescale=1./255, featurewise_center=False, # set input mean to 0 over the dataset\n",
    " samplewise_center=False, # set each sample mean to 0\n",
    " featurewise_std_normalization=False, # divide inputs by std \n",
    " samplewise_std_normalization=False, # divide each input by its std\n",
    " rotation_range=0, # randomly rotate images in the range \n",
    " width_shift_range=0.1, # randomly shift images horizontally \n",
    " height_shift_range=0.1, # randomly shift images vertically \n",
    " horizontal_flip=True, # randomly flip images\n",
    " vertical_flip=False)\n",
    "\n",
    "train_generator = training_datagen.flow_from_directory(TRAINING_DIR,\n",
    "                                                       target_size=(IMG_SIZE,IMG_SIZE) ,class_mode='categorical',\n",
    "                                                       batch_size=64, \n",
    "                                                       shuffle=True)"
   ]
  },
  {
   "cell_type": "markdown",
   "metadata": {},
   "source": [
    "There are **42** characters in the training data"
   ]
  },
  {
   "cell_type": "code",
   "execution_count": 5,
   "metadata": {
    "execution": {
     "iopub.execute_input": "2021-01-10T19:47:22.162887Z",
     "iopub.status.busy": "2021-01-10T19:47:22.162014Z",
     "iopub.status.idle": "2021-01-10T19:47:22.165253Z",
     "shell.execute_reply": "2021-01-10T19:47:22.164610Z"
    },
    "papermill": {
     "duration": 0.019162,
     "end_time": "2021-01-10T19:47:22.165371",
     "exception": false,
     "start_time": "2021-01-10T19:47:22.146209",
     "status": "completed"
    },
    "tags": []
   },
   "outputs": [],
   "source": [
    "class_map = train_generator.class_indices\n",
    "inv_class_map = {v: k for k, v in class_map.items()}"
   ]
  },
  {
   "cell_type": "markdown",
   "metadata": {},
   "source": [
    "A directory to be used in the \"translation\" of the prediction"
   ]
  },
  {
   "cell_type": "code",
   "execution_count": 6,
   "metadata": {
    "execution": {
     "iopub.execute_input": "2021-01-10T19:47:22.197062Z",
     "iopub.status.busy": "2021-01-10T19:47:22.196048Z",
     "iopub.status.idle": "2021-01-10T19:47:22.199899Z",
     "shell.execute_reply": "2021-01-10T19:47:22.200383Z"
    },
    "papermill": {
     "duration": 0.02345,
     "end_time": "2021-01-10T19:47:22.200504",
     "exception": false,
     "start_time": "2021-01-10T19:47:22.177054",
     "status": "completed"
    },
    "tags": []
   },
   "outputs": [
    {
     "data": {
      "text/plain": [
       "{0: 'abraham_grampa_simpson',\n",
       " 1: 'agnes_skinner',\n",
       " 2: 'apu_nahasapeemapetilon',\n",
       " 3: 'barney_gumble',\n",
       " 4: 'bart_simpson',\n",
       " 5: 'carl_carlson',\n",
       " 6: 'charles_montgomery_burns',\n",
       " 7: 'chief_wiggum',\n",
       " 8: 'cletus_spuckler',\n",
       " 9: 'comic_book_guy',\n",
       " 10: 'disco_stu',\n",
       " 11: 'edna_krabappel',\n",
       " 12: 'fat_tony',\n",
       " 13: 'gil',\n",
       " 14: 'groundskeeper_willie',\n",
       " 15: 'homer_simpson',\n",
       " 16: 'kent_brockman',\n",
       " 17: 'krusty_the_clown',\n",
       " 18: 'lenny_leonard',\n",
       " 19: 'lionel_hutz',\n",
       " 20: 'lisa_simpson',\n",
       " 21: 'maggie_simpson',\n",
       " 22: 'marge_simpson',\n",
       " 23: 'martin_prince',\n",
       " 24: 'mayor_quimby',\n",
       " 25: 'milhouse_van_houten',\n",
       " 26: 'miss_hoover',\n",
       " 27: 'moe_szyslak',\n",
       " 28: 'ned_flanders',\n",
       " 29: 'nelson_muntz',\n",
       " 30: 'otto_mann',\n",
       " 31: 'patty_bouvier',\n",
       " 32: 'principal_skinner',\n",
       " 33: 'professor_john_frink',\n",
       " 34: 'rainier_wolfcastle',\n",
       " 35: 'ralph_wiggum',\n",
       " 36: 'selma_bouvier',\n",
       " 37: 'sideshow_bob',\n",
       " 38: 'sideshow_mel',\n",
       " 39: 'snake_jailbird',\n",
       " 40: 'troy_mcclure',\n",
       " 41: 'waylon_smithers'}"
      ]
     },
     "execution_count": 6,
     "metadata": {},
     "output_type": "execute_result"
    }
   ],
   "source": [
    "inv_class_map"
   ]
  },
  {
   "cell_type": "code",
   "execution_count": 7,
   "metadata": {
    "execution": {
     "iopub.execute_input": "2021-01-10T19:47:22.229331Z",
     "iopub.status.busy": "2021-01-10T19:47:22.228593Z",
     "iopub.status.idle": "2021-01-10T19:47:25.119212Z",
     "shell.execute_reply": "2021-01-10T19:47:25.118066Z"
    },
    "papermill": {
     "duration": 2.907394,
     "end_time": "2021-01-10T19:47:25.119408",
     "exception": false,
     "start_time": "2021-01-10T19:47:22.212014",
     "status": "completed"
    },
    "tags": []
   },
   "outputs": [],
   "source": [
    "model = Sequential()"
   ]
  },
  {
   "cell_type": "code",
   "execution_count": 8,
   "metadata": {
    "execution": {
     "iopub.execute_input": "2021-01-10T19:47:25.182567Z",
     "iopub.status.busy": "2021-01-10T19:47:25.181488Z",
     "iopub.status.idle": "2021-01-10T19:47:25.359708Z",
     "shell.execute_reply": "2021-01-10T19:47:25.358977Z"
    },
    "papermill": {
     "duration": 0.228003,
     "end_time": "2021-01-10T19:47:25.359838",
     "exception": false,
     "start_time": "2021-01-10T19:47:25.131835",
     "status": "completed"
    },
    "tags": []
   },
   "outputs": [],
   "source": [
    "#Using 6 VGG-like blocks, based in the following post: \n",
    "#https://machinelearningmastery.com/how-to-develop-a-convolutional-neural-network-to-classify-photos-of-dogs-and-cats/\n",
    "model.add(Conv2D(filters=32, kernel_size=(3,3), input_shape=(IMG_SIZE, IMG_SIZE, 3), activation=\"relu\", padding=\"same\"))\n",
    "model.add(MaxPooling2D(pool_size=(2, 2)))\n",
    "\n",
    "model.add(Conv2D(filters=64, kernel_size=(3,3), activation=\"relu\", padding=\"same\"))\n",
    "model.add(MaxPooling2D(pool_size=(2, 2)))\n",
    "\n",
    "model.add(Conv2D(filters=128, kernel_size=(3,3), activation=\"relu\", padding=\"same\"))\n",
    "model.add(MaxPooling2D(pool_size=(2, 2)))\n",
    "\n",
    "model.add(Conv2D(filters=256, kernel_size=(3,3), activation=\"relu\", padding=\"same\"))\n",
    "model.add(MaxPooling2D(pool_size=(2, 2)))\n",
    "\n",
    "model.add(Conv2D(filters=512, kernel_size=(3,3), activation=\"relu\", padding=\"same\"))\n",
    "model.add(MaxPooling2D(pool_size=(2, 2)))\n",
    "\n",
    "model.add(Conv2D(filters=1024, kernel_size=(3,3), activation=\"relu\", padding=\"same\"))\n",
    "model.add(MaxPooling2D(pool_size=(2,2)))\n",
    "                                  \n",
    "model.add(Flatten())\n",
    "model.add(Dense(128, activation=\"relu\"))\n",
    "model.add(Dropout(0.25))\n",
    "model.add(Dense(42, activation=\"softmax\"))"
   ]
  },
  {
   "cell_type": "code",
   "execution_count": 9,
   "metadata": {
    "execution": {
     "iopub.execute_input": "2021-01-10T19:47:25.393999Z",
     "iopub.status.busy": "2021-01-10T19:47:25.393053Z",
     "iopub.status.idle": "2021-01-10T19:47:25.405147Z",
     "shell.execute_reply": "2021-01-10T19:47:25.404435Z"
    },
    "papermill": {
     "duration": 0.033214,
     "end_time": "2021-01-10T19:47:25.405313",
     "exception": false,
     "start_time": "2021-01-10T19:47:25.372099",
     "status": "completed"
    },
    "tags": []
   },
   "outputs": [
    {
     "name": "stdout",
     "output_type": "stream",
     "text": [
      "Model: \"sequential\"\n",
      "_________________________________________________________________\n",
      "Layer (type)                 Output Shape              Param #   \n",
      "=================================================================\n",
      "conv2d (Conv2D)              (None, 224, 224, 32)      896       \n",
      "_________________________________________________________________\n",
      "max_pooling2d (MaxPooling2D) (None, 112, 112, 32)      0         \n",
      "_________________________________________________________________\n",
      "conv2d_1 (Conv2D)            (None, 112, 112, 64)      18496     \n",
      "_________________________________________________________________\n",
      "max_pooling2d_1 (MaxPooling2 (None, 56, 56, 64)        0         \n",
      "_________________________________________________________________\n",
      "conv2d_2 (Conv2D)            (None, 56, 56, 128)       73856     \n",
      "_________________________________________________________________\n",
      "max_pooling2d_2 (MaxPooling2 (None, 28, 28, 128)       0         \n",
      "_________________________________________________________________\n",
      "conv2d_3 (Conv2D)            (None, 28, 28, 256)       295168    \n",
      "_________________________________________________________________\n",
      "max_pooling2d_3 (MaxPooling2 (None, 14, 14, 256)       0         \n",
      "_________________________________________________________________\n",
      "conv2d_4 (Conv2D)            (None, 14, 14, 512)       1180160   \n",
      "_________________________________________________________________\n",
      "max_pooling2d_4 (MaxPooling2 (None, 7, 7, 512)         0         \n",
      "_________________________________________________________________\n",
      "conv2d_5 (Conv2D)            (None, 7, 7, 1024)        4719616   \n",
      "_________________________________________________________________\n",
      "max_pooling2d_5 (MaxPooling2 (None, 3, 3, 1024)        0         \n",
      "_________________________________________________________________\n",
      "flatten (Flatten)            (None, 9216)              0         \n",
      "_________________________________________________________________\n",
      "dense (Dense)                (None, 128)               1179776   \n",
      "_________________________________________________________________\n",
      "dropout (Dropout)            (None, 128)               0         \n",
      "_________________________________________________________________\n",
      "dense_1 (Dense)              (None, 42)                5418      \n",
      "=================================================================\n",
      "Total params: 7,473,386\n",
      "Trainable params: 7,473,386\n",
      "Non-trainable params: 0\n",
      "_________________________________________________________________\n"
     ]
    }
   ],
   "source": [
    "model.summary()"
   ]
  },
  {
   "cell_type": "code",
   "execution_count": 10,
   "metadata": {
    "execution": {
     "iopub.execute_input": "2021-01-10T19:47:25.443738Z",
     "iopub.status.busy": "2021-01-10T19:47:25.442621Z",
     "iopub.status.idle": "2021-01-10T19:47:25.450368Z",
     "shell.execute_reply": "2021-01-10T19:47:25.449845Z"
    },
    "papermill": {
     "duration": 0.032115,
     "end_time": "2021-01-10T19:47:25.450470",
     "exception": false,
     "start_time": "2021-01-10T19:47:25.418355",
     "status": "completed"
    },
    "tags": []
   },
   "outputs": [],
   "source": [
    "model.compile(loss='categorical_crossentropy', optimizer=RMSprop(), metrics=['accuracy'])"
   ]
  },
  {
   "cell_type": "code",
   "execution_count": 11,
   "metadata": {
    "execution": {
     "iopub.execute_input": "2021-01-10T19:47:25.493063Z",
     "iopub.status.busy": "2021-01-10T19:47:25.491479Z",
     "iopub.status.idle": "2021-01-10T19:47:25.496197Z",
     "shell.execute_reply": "2021-01-10T19:47:25.496819Z"
    },
    "papermill": {
     "duration": 0.033179,
     "end_time": "2021-01-10T19:47:25.496962",
     "exception": false,
     "start_time": "2021-01-10T19:47:25.463783",
     "status": "completed"
    },
    "tags": []
   },
   "outputs": [
    {
     "name": "stdout",
     "output_type": "stream",
     "text": [
      "/device:GPU:0\n"
     ]
    }
   ],
   "source": [
    "import tensorflow\n",
    "print(tensorflow.test.gpu_device_name())"
   ]
  },
  {
   "cell_type": "code",
   "execution_count": 12,
   "metadata": {
    "execution": {
     "iopub.execute_input": "2021-01-10T19:47:25.530146Z",
     "iopub.status.busy": "2021-01-10T19:47:25.529496Z",
     "iopub.status.idle": "2021-01-10T21:16:08.296220Z",
     "shell.execute_reply": "2021-01-10T21:16:08.295557Z"
    },
    "papermill": {
     "duration": 5322.78598,
     "end_time": "2021-01-10T21:16:08.296388",
     "exception": false,
     "start_time": "2021-01-10T19:47:25.510408",
     "status": "completed"
    },
    "tags": []
   },
   "outputs": [
    {
     "name": "stdout",
     "output_type": "stream",
     "text": [
      "Epoch 1/15\n",
      "328/328 [==============================] - 506s 2s/step - loss: 3.2204 - accuracy: 0.1030\n",
      "Epoch 2/15\n",
      "328/328 [==============================] - 338s 1s/step - loss: 2.2752 - accuracy: 0.3792\n",
      "Epoch 3/15\n",
      "328/328 [==============================] - 339s 1s/step - loss: 1.3279 - accuracy: 0.6507\n",
      "Epoch 4/15\n",
      "328/328 [==============================] - 339s 1s/step - loss: 0.9079 - accuracy: 0.7624\n",
      "Epoch 5/15\n",
      "328/328 [==============================] - 341s 1s/step - loss: 0.7371 - accuracy: 0.8106\n",
      "Epoch 6/15\n",
      "328/328 [==============================] - 346s 1s/step - loss: 0.6223 - accuracy: 0.8419\n",
      "Epoch 7/15\n",
      "328/328 [==============================] - 344s 1s/step - loss: 0.5604 - accuracy: 0.8578\n",
      "Epoch 8/15\n",
      "328/328 [==============================] - 353s 1s/step - loss: 0.5325 - accuracy: 0.8706\n",
      "Epoch 9/15\n",
      "328/328 [==============================] - 349s 1s/step - loss: 0.5362 - accuracy: 0.8737\n",
      "Epoch 10/15\n",
      "328/328 [==============================] - 351s 1s/step - loss: 0.5092 - accuracy: 0.8790\n",
      "Epoch 11/15\n",
      "328/328 [==============================] - 347s 1s/step - loss: 0.5094 - accuracy: 0.8825\n",
      "Epoch 12/15\n",
      "328/328 [==============================] - 342s 1s/step - loss: 0.5193 - accuracy: 0.8816\n",
      "Epoch 13/15\n",
      "328/328 [==============================] - 338s 1s/step - loss: 0.5435 - accuracy: 0.8755\n",
      "Epoch 14/15\n",
      "328/328 [==============================] - 332s 1s/step - loss: 0.5753 - accuracy: 0.8749\n",
      "Epoch 15/15\n",
      "328/328 [==============================] - 332s 1s/step - loss: 0.6375 - accuracy: 0.8642\n"
     ]
    }
   ],
   "source": [
    "EPOCHS = 15\n",
    "with tensorflow.device('/device:GPU:0'):\n",
    "    history = model.fit(train_generator, batch_size=64, epochs=EPOCHS)"
   ]
  },
  {
   "cell_type": "markdown",
   "metadata": {},
   "source": [
    "Training process can take between **90** and **120** minutes"
   ]
  },
  {
   "cell_type": "code",
   "execution_count": 13,
   "metadata": {
    "execution": {
     "iopub.execute_input": "2021-01-10T21:16:11.926806Z",
     "iopub.status.busy": "2021-01-10T21:16:11.925777Z",
     "iopub.status.idle": "2021-01-10T21:16:12.061985Z",
     "shell.execute_reply": "2021-01-10T21:16:12.061418Z"
    },
    "papermill": {
     "duration": 1.944201,
     "end_time": "2021-01-10T21:16:12.062093",
     "exception": false,
     "start_time": "2021-01-10T21:16:10.117892",
     "status": "completed"
    },
    "tags": []
   },
   "outputs": [],
   "source": [
    "model.save('simpsons.h5')"
   ]
  }
 ],
 "metadata": {
  "kernelspec": {
   "display_name": "Python 3",
   "language": "python",
   "name": "python3"
  },
  "language_info": {
   "codemirror_mode": {
    "name": "ipython",
    "version": 3
   },
   "file_extension": ".py",
   "mimetype": "text/x-python",
   "name": "python",
   "nbconvert_exporter": "python",
   "pygments_lexer": "ipython3",
   "version": "3.8.5"
  },
  "papermill": {
   "duration": 5348.201625,
   "end_time": "2021-01-10T21:16:15.975495",
   "environment_variables": {},
   "exception": null,
   "input_path": "__notebook__.ipynb",
   "output_path": "__notebook__.ipynb",
   "parameters": {},
   "start_time": "2021-01-10T19:47:07.773870",
   "version": "2.1.0"
  }
 },
 "nbformat": 4,
 "nbformat_minor": 4
}
