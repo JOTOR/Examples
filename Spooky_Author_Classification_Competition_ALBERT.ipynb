{
  "nbformat": 4,
  "nbformat_minor": 0,
  "metadata": {
    "kernelspec": {
      "language": "python",
      "display_name": "Python 3",
      "name": "python3"
    },
    "language_info": {
      "pygments_lexer": "ipython3",
      "nbconvert_exporter": "python",
      "version": "3.6.4",
      "file_extension": ".py",
      "codemirror_mode": {
        "name": "ipython",
        "version": 3
      },
      "name": "python",
      "mimetype": "text/x-python"
    },
    "colab": {
      "name": "Spooky Author Classification Competition-ALBERT.ipynb",
      "provenance": [],
      "collapsed_sections": []
    },
    "accelerator": "GPU"
  },
  "cells": [
    {
      "cell_type": "markdown",
      "metadata": {
        "id": "C7Q2grF3hUFC"
      },
      "source": [
        "# ALBERT Model applied to the **Spooky Author Classification** competition on **Kaggle**\n",
        "\n",
        "- A more complete description of the Kaggle competition and dataset is available in the following link **https://www.kaggle.com/c/spooky-author-identification**\n",
        "- The goal of this notebook is to apply an ALBERT model to the competition dataset, I could apply it to a more simple dataset like the Yelp Comments, IMDB reviews or the 20newsgroup dataset, however, as a Machine Learning exercise and because I want to improve my skills in the Tensorflow library, I decided to use this dataset\n",
        "- The key reference for this notebook is available in the official TF Documentation **https://www.tensorflow.org/tutorials/text/classify_text_with_bert**\n",
        "<br><br>\n",
        "\n",
        "**Note:** English is not my primary language, my apologies in advance for any grammar mistake or typo<br>\n",
        "Developed by jhonnatan.torres.suarez@gmail.com"
      ]
    },
    {
      "cell_type": "code",
      "metadata": {
        "_uuid": "8f2839f25d086af736a60e9eeb907d3b93b6e0e5",
        "_cell_guid": "b1076dfc-b9ad-4769-8c92-a6c4dae69d19",
        "trusted": true,
        "id": "GV70Oy696KGX"
      },
      "source": [
        "import numpy as np # linear algebra\n",
        "import pandas as pd # data processing, CSV file I/O (e.g. pd.read_csv)"
      ],
      "execution_count": null,
      "outputs": []
    },
    {
      "cell_type": "code",
      "metadata": {
        "id": "WMZdXnv8hXwo"
      },
      "source": [
        "!pip install -U -q kaggle\n",
        "!mkdir -p ~/.kaggle"
      ],
      "execution_count": null,
      "outputs": []
    },
    {
      "cell_type": "code",
      "metadata": {
        "id": "bPYas-3Gha0D"
      },
      "source": [
        "from google.colab import files\n",
        "files.upload()"
      ],
      "execution_count": null,
      "outputs": []
    },
    {
      "cell_type": "code",
      "metadata": {
        "colab": {
          "base_uri": "https://localhost:8080/"
        },
        "id": "lqowQPOnhdNw",
        "outputId": "61ed8149-dc0f-4235-98ed-c7375bc9bb6f"
      },
      "source": [
        "!cp kaggle.json ~/.kaggle/\n",
        "!kaggle competitions download -c spooky-author-identification"
      ],
      "execution_count": null,
      "outputs": [
        {
          "output_type": "stream",
          "text": [
            "Warning: Your Kaggle API key is readable by other users on this system! To fix this, you can run 'chmod 600 /root/.kaggle/kaggle.json'\n",
            "Warning: Looks like you're using an outdated API Version, please consider updating (server 1.5.10 / client 1.5.4)\n",
            "Downloading sample_submission.zip to /content\n",
            "  0% 0.00/29.4k [00:00<?, ?B/s]\n",
            "100% 29.4k/29.4k [00:00<00:00, 26.9MB/s]\n",
            "Downloading test.zip to /content\n",
            "  0% 0.00/538k [00:00<?, ?B/s]\n",
            "100% 538k/538k [00:00<00:00, 74.8MB/s]\n",
            "Downloading train.zip to /content\n",
            "  0% 0.00/1.26M [00:00<?, ?B/s]\n",
            "100% 1.26M/1.26M [00:00<00:00, 85.6MB/s]\n"
          ],
          "name": "stdout"
        }
      ]
    },
    {
      "cell_type": "code",
      "metadata": {
        "colab": {
          "base_uri": "https://localhost:8080/"
        },
        "id": "8H-6EMAFhi8h",
        "outputId": "8127a19e-6ac2-4ebb-d370-339a2e4dc6df"
      },
      "source": [
        "!ls\n",
        "!pwd"
      ],
      "execution_count": null,
      "outputs": [
        {
          "output_type": "stream",
          "text": [
            "kaggle.json  sample_data  sample_submission.zip  test.zip  train.zip\n",
            "/content\n"
          ],
          "name": "stdout"
        }
      ]
    },
    {
      "cell_type": "code",
      "metadata": {
        "trusted": true,
        "id": "hF14FxyS6KGo"
      },
      "source": [
        "df = pd.read_csv('/content/train.zip')"
      ],
      "execution_count": null,
      "outputs": []
    },
    {
      "cell_type": "code",
      "metadata": {
        "trusted": true,
        "id": "SFFeRHjc6KGp"
      },
      "source": [
        "df.drop(columns='id', inplace=True)"
      ],
      "execution_count": null,
      "outputs": []
    },
    {
      "cell_type": "code",
      "metadata": {
        "trusted": true,
        "id": "SZfscKnD6KGq",
        "colab": {
          "base_uri": "https://localhost:8080/",
          "height": 111
        },
        "outputId": "68e60e61-2af9-4148-998d-6362e4f271f1"
      },
      "source": [
        "df.head(2)"
      ],
      "execution_count": null,
      "outputs": [
        {
          "output_type": "execute_result",
          "data": {
            "text/html": [
              "<div>\n",
              "<style scoped>\n",
              "    .dataframe tbody tr th:only-of-type {\n",
              "        vertical-align: middle;\n",
              "    }\n",
              "\n",
              "    .dataframe tbody tr th {\n",
              "        vertical-align: top;\n",
              "    }\n",
              "\n",
              "    .dataframe thead th {\n",
              "        text-align: right;\n",
              "    }\n",
              "</style>\n",
              "<table border=\"1\" class=\"dataframe\">\n",
              "  <thead>\n",
              "    <tr style=\"text-align: right;\">\n",
              "      <th></th>\n",
              "      <th>text</th>\n",
              "      <th>author</th>\n",
              "    </tr>\n",
              "  </thead>\n",
              "  <tbody>\n",
              "    <tr>\n",
              "      <th>0</th>\n",
              "      <td>This process, however, afforded me no means of...</td>\n",
              "      <td>EAP</td>\n",
              "    </tr>\n",
              "    <tr>\n",
              "      <th>1</th>\n",
              "      <td>It never once occurred to me that the fumbling...</td>\n",
              "      <td>HPL</td>\n",
              "    </tr>\n",
              "  </tbody>\n",
              "</table>\n",
              "</div>"
            ],
            "text/plain": [
              "                                                text author\n",
              "0  This process, however, afforded me no means of...    EAP\n",
              "1  It never once occurred to me that the fumbling...    HPL"
            ]
          },
          "metadata": {
            "tags": []
          },
          "execution_count": 8
        }
      ]
    },
    {
      "cell_type": "code",
      "metadata": {
        "trusted": true,
        "id": "zQll89v66KGr"
      },
      "source": [
        "df['text'] = df['text'].str.lower()"
      ],
      "execution_count": null,
      "outputs": []
    },
    {
      "cell_type": "code",
      "metadata": {
        "trusted": true,
        "id": "zEeSnN3X6KGs",
        "colab": {
          "base_uri": "https://localhost:8080/",
          "height": 111
        },
        "outputId": "8fc8062a-c7fb-4156-8d7b-67222ef5d941"
      },
      "source": [
        "df.head(2)"
      ],
      "execution_count": null,
      "outputs": [
        {
          "output_type": "execute_result",
          "data": {
            "text/html": [
              "<div>\n",
              "<style scoped>\n",
              "    .dataframe tbody tr th:only-of-type {\n",
              "        vertical-align: middle;\n",
              "    }\n",
              "\n",
              "    .dataframe tbody tr th {\n",
              "        vertical-align: top;\n",
              "    }\n",
              "\n",
              "    .dataframe thead th {\n",
              "        text-align: right;\n",
              "    }\n",
              "</style>\n",
              "<table border=\"1\" class=\"dataframe\">\n",
              "  <thead>\n",
              "    <tr style=\"text-align: right;\">\n",
              "      <th></th>\n",
              "      <th>text</th>\n",
              "      <th>author</th>\n",
              "    </tr>\n",
              "  </thead>\n",
              "  <tbody>\n",
              "    <tr>\n",
              "      <th>0</th>\n",
              "      <td>this process, however, afforded me no means of...</td>\n",
              "      <td>EAP</td>\n",
              "    </tr>\n",
              "    <tr>\n",
              "      <th>1</th>\n",
              "      <td>it never once occurred to me that the fumbling...</td>\n",
              "      <td>HPL</td>\n",
              "    </tr>\n",
              "  </tbody>\n",
              "</table>\n",
              "</div>"
            ],
            "text/plain": [
              "                                                text author\n",
              "0  this process, however, afforded me no means of...    EAP\n",
              "1  it never once occurred to me that the fumbling...    HPL"
            ]
          },
          "metadata": {
            "tags": []
          },
          "execution_count": 10
        }
      ]
    },
    {
      "cell_type": "code",
      "metadata": {
        "trusted": true,
        "id": "4MpnWZS76KGt",
        "colab": {
          "base_uri": "https://localhost:8080/"
        },
        "outputId": "f4f5e30b-f500-40d0-b804-d200a625b15a"
      },
      "source": [
        "df.author.value_counts()"
      ],
      "execution_count": null,
      "outputs": [
        {
          "output_type": "execute_result",
          "data": {
            "text/plain": [
              "EAP    7900\n",
              "MWS    6044\n",
              "HPL    5635\n",
              "Name: author, dtype: int64"
            ]
          },
          "metadata": {
            "tags": []
          },
          "execution_count": 11
        }
      ]
    },
    {
      "cell_type": "code",
      "metadata": {
        "trusted": true,
        "id": "vlMLoZvf6KGu"
      },
      "source": [
        "authors_dict = {'EAP' : 0,\n",
        "                'MWS' : 1,\n",
        "                'HPL' : 2}"
      ],
      "execution_count": null,
      "outputs": []
    },
    {
      "cell_type": "code",
      "metadata": {
        "trusted": true,
        "id": "SlsEYJqY6KGu"
      },
      "source": [
        "df['author'] = df['author'].map(authors_dict)"
      ],
      "execution_count": null,
      "outputs": []
    },
    {
      "cell_type": "code",
      "metadata": {
        "trusted": true,
        "id": "dJGfQPHi6KGv"
      },
      "source": [
        "from sklearn.feature_extraction.text import TfidfVectorizer, CountVectorizer\n",
        "from sklearn.naive_bayes import MultinomialNB, GaussianNB, BernoulliNB\n",
        "from sklearn.preprocessing import MaxAbsScaler\n",
        "from sklearn.svm import SVC\n",
        "from sklearn.pipeline import make_pipeline\n",
        "from sklearn.metrics import log_loss, confusion_matrix, classification_report\n",
        "from sklearn.model_selection import train_test_split"
      ],
      "execution_count": null,
      "outputs": []
    },
    {
      "cell_type": "code",
      "metadata": {
        "trusted": true,
        "id": "vqVuosag6KGw",
        "colab": {
          "base_uri": "https://localhost:8080/"
        },
        "outputId": "cab673f0-7194-490f-d3ea-ab8e8fe64d58"
      },
      "source": [
        "X_train, X_test, y_train, y_test = train_test_split(df['text'], df['author'], test_size=0.30, \n",
        "                                                    stratify=df['author'], random_state=1234)\n",
        "print(X_train.shape, X_test.shape, y_train.shape, y_test.shape)"
      ],
      "execution_count": null,
      "outputs": [
        {
          "output_type": "stream",
          "text": [
            "(13705,) (5874,) (13705,) (5874,)\n"
          ],
          "name": "stdout"
        }
      ]
    },
    {
      "cell_type": "code",
      "metadata": {
        "trusted": true,
        "id": "rD8q3lxe6KGx"
      },
      "source": [
        "vectorizer = TfidfVectorizer(ngram_range=(1,1), min_df=2, max_features=5000, lowercase=False, stop_words=None)\n",
        "scaler = MaxAbsScaler()\n",
        "classifier = BernoulliNB(binarize=0, alpha=1)"
      ],
      "execution_count": null,
      "outputs": []
    },
    {
      "cell_type": "code",
      "metadata": {
        "trusted": true,
        "id": "w1OlDm4_6KGy"
      },
      "source": [
        "pl = make_pipeline(vectorizer, classifier)"
      ],
      "execution_count": null,
      "outputs": []
    },
    {
      "cell_type": "code",
      "metadata": {
        "_uuid": "d629ff2d2480ee46fbb7e2d37f6b5fab8052498a",
        "_cell_guid": "79c7e3d0-c299-4dcb-8224-4455121ee9b0",
        "trusted": true,
        "id": "hCcqS_z46KGz",
        "colab": {
          "base_uri": "https://localhost:8080/"
        },
        "outputId": "4eb40d07-00f8-401d-a218-ed3e6d760829"
      },
      "source": [
        "pl.fit(X_train, y_train)"
      ],
      "execution_count": null,
      "outputs": [
        {
          "output_type": "execute_result",
          "data": {
            "text/plain": [
              "Pipeline(memory=None,\n",
              "         steps=[('tfidfvectorizer',\n",
              "                 TfidfVectorizer(analyzer='word', binary=False,\n",
              "                                 decode_error='strict',\n",
              "                                 dtype=<class 'numpy.float64'>,\n",
              "                                 encoding='utf-8', input='content',\n",
              "                                 lowercase=False, max_df=1.0, max_features=5000,\n",
              "                                 min_df=2, ngram_range=(1, 1), norm='l2',\n",
              "                                 preprocessor=None, smooth_idf=True,\n",
              "                                 stop_words=None, strip_accents=None,\n",
              "                                 sublinear_tf=False,\n",
              "                                 token_pattern='(?u)\\\\b\\\\w\\\\w+\\\\b',\n",
              "                                 tokenizer=None, use_idf=True,\n",
              "                                 vocabulary=None)),\n",
              "                ('bernoullinb',\n",
              "                 BernoulliNB(alpha=1, binarize=0, class_prior=None,\n",
              "                             fit_prior=True))],\n",
              "         verbose=False)"
            ]
          },
          "metadata": {
            "tags": []
          },
          "execution_count": 18
        }
      ]
    },
    {
      "cell_type": "code",
      "metadata": {
        "trusted": true,
        "id": "4jIKtkcd6KG0"
      },
      "source": [
        "preds_prob = pl.predict_proba(X_test)\n",
        "preds_class = pl.predict(X_test)"
      ],
      "execution_count": null,
      "outputs": []
    },
    {
      "cell_type": "code",
      "metadata": {
        "trusted": true,
        "id": "7LwHxXds6KG0",
        "colab": {
          "base_uri": "https://localhost:8080/"
        },
        "outputId": "84905615-be90-4a94-d09a-c7795a09466d"
      },
      "source": [
        "nb_loss = log_loss(y_test, preds_prob)\n",
        "print(nb_loss)"
      ],
      "execution_count": null,
      "outputs": [
        {
          "output_type": "stream",
          "text": [
            "0.530227192681336\n"
          ],
          "name": "stdout"
        }
      ]
    },
    {
      "cell_type": "code",
      "metadata": {
        "trusted": true,
        "id": "BHeKdKGk6KG2",
        "colab": {
          "base_uri": "https://localhost:8080/"
        },
        "outputId": "729bfc63-fa1c-4d7e-f1cb-5b8c15019a3d"
      },
      "source": [
        "print(confusion_matrix(y_test, preds_class))\n",
        "print('\\n')\n",
        "print(classification_report(y_test, preds_class))"
      ],
      "execution_count": null,
      "outputs": [
        {
          "output_type": "stream",
          "text": [
            "[[2058  178  134]\n",
            " [ 288 1435   90]\n",
            " [ 310   82 1299]]\n",
            "\n",
            "\n",
            "              precision    recall  f1-score   support\n",
            "\n",
            "           0       0.77      0.87      0.82      2370\n",
            "           1       0.85      0.79      0.82      1813\n",
            "           2       0.85      0.77      0.81      1691\n",
            "\n",
            "    accuracy                           0.82      5874\n",
            "   macro avg       0.82      0.81      0.82      5874\n",
            "weighted avg       0.82      0.82      0.82      5874\n",
            "\n"
          ],
          "name": "stdout"
        }
      ]
    },
    {
      "cell_type": "markdown",
      "metadata": {
        "id": "NugSxNSphUFP"
      },
      "source": [
        "These metrics can be used as a baseline, a pretty simple **Naive Bayes** model was fitted and achieved an accuracy of around **81%**, not bad for a very simple model"
      ]
    },
    {
      "cell_type": "code",
      "metadata": {
        "_kg_hide-output": true,
        "trusted": true,
        "id": "Fr0mW_rf6KG3",
        "colab": {
          "base_uri": "https://localhost:8080/"
        },
        "outputId": "f30cb1bd-450e-4042-bafc-0f4c91e56bf4"
      },
      "source": [
        "#This is a key step, you have to specify the version in order to avoid the Kaggle's kernel to upgrade tensorflow \n",
        "#and another dependencies that generate an error when Tensorflow tries to recognize the GPU\n",
        "#!pip install tensorflow_text==2.3\n",
        "!pip install tensorflow_text ## In Google Colab is not required to provide the required version"
      ],
      "execution_count": null,
      "outputs": [
        {
          "output_type": "stream",
          "text": [
            "Collecting tensorflow_text\n",
            "\u001b[?25l  Downloading https://files.pythonhosted.org/packages/55/b8/5884204f7c2da639a3061fe3a0c41a06bb80bf7976fa7d407e1d628e38e9/tensorflow_text-2.4.2-cp36-cp36m-manylinux1_x86_64.whl (3.4MB)\n",
            "\r\u001b[K     |                                | 10kB 22.6MB/s eta 0:00:01\r\u001b[K     |▏                               | 20kB 17.0MB/s eta 0:00:01\r\u001b[K     |▎                               | 30kB 15.5MB/s eta 0:00:01\r\u001b[K     |▍                               | 40kB 14.6MB/s eta 0:00:01\r\u001b[K     |▌                               | 51kB 11.6MB/s eta 0:00:01\r\u001b[K     |▋                               | 61kB 11.8MB/s eta 0:00:01\r\u001b[K     |▊                               | 71kB 11.8MB/s eta 0:00:01\r\u001b[K     |▉                               | 81kB 12.2MB/s eta 0:00:01\r\u001b[K     |▉                               | 92kB 12.1MB/s eta 0:00:01\r\u001b[K     |█                               | 102kB 12.2MB/s eta 0:00:01\r\u001b[K     |█                               | 112kB 12.2MB/s eta 0:00:01\r\u001b[K     |█▏                              | 122kB 12.2MB/s eta 0:00:01\r\u001b[K     |█▎                              | 133kB 12.2MB/s eta 0:00:01\r\u001b[K     |█▍                              | 143kB 12.2MB/s eta 0:00:01\r\u001b[K     |█▌                              | 153kB 12.2MB/s eta 0:00:01\r\u001b[K     |█▋                              | 163kB 12.2MB/s eta 0:00:01\r\u001b[K     |█▋                              | 174kB 12.2MB/s eta 0:00:01\r\u001b[K     |█▊                              | 184kB 12.2MB/s eta 0:00:01\r\u001b[K     |█▉                              | 194kB 12.2MB/s eta 0:00:01\r\u001b[K     |██                              | 204kB 12.2MB/s eta 0:00:01\r\u001b[K     |██                              | 215kB 12.2MB/s eta 0:00:01\r\u001b[K     |██▏                             | 225kB 12.2MB/s eta 0:00:01\r\u001b[K     |██▎                             | 235kB 12.2MB/s eta 0:00:01\r\u001b[K     |██▍                             | 245kB 12.2MB/s eta 0:00:01\r\u001b[K     |██▍                             | 256kB 12.2MB/s eta 0:00:01\r\u001b[K     |██▌                             | 266kB 12.2MB/s eta 0:00:01\r\u001b[K     |██▋                             | 276kB 12.2MB/s eta 0:00:01\r\u001b[K     |██▊                             | 286kB 12.2MB/s eta 0:00:01\r\u001b[K     |██▉                             | 296kB 12.2MB/s eta 0:00:01\r\u001b[K     |███                             | 307kB 12.2MB/s eta 0:00:01\r\u001b[K     |███                             | 317kB 12.2MB/s eta 0:00:01\r\u001b[K     |███▏                            | 327kB 12.2MB/s eta 0:00:01\r\u001b[K     |███▏                            | 337kB 12.2MB/s eta 0:00:01\r\u001b[K     |███▎                            | 348kB 12.2MB/s eta 0:00:01\r\u001b[K     |███▍                            | 358kB 12.2MB/s eta 0:00:01\r\u001b[K     |███▌                            | 368kB 12.2MB/s eta 0:00:01\r\u001b[K     |███▋                            | 378kB 12.2MB/s eta 0:00:01\r\u001b[K     |███▊                            | 389kB 12.2MB/s eta 0:00:01\r\u001b[K     |███▉                            | 399kB 12.2MB/s eta 0:00:01\r\u001b[K     |████                            | 409kB 12.2MB/s eta 0:00:01\r\u001b[K     |████                            | 419kB 12.2MB/s eta 0:00:01\r\u001b[K     |████                            | 430kB 12.2MB/s eta 0:00:01\r\u001b[K     |████▏                           | 440kB 12.2MB/s eta 0:00:01\r\u001b[K     |████▎                           | 450kB 12.2MB/s eta 0:00:01\r\u001b[K     |████▍                           | 460kB 12.2MB/s eta 0:00:01\r\u001b[K     |████▌                           | 471kB 12.2MB/s eta 0:00:01\r\u001b[K     |████▋                           | 481kB 12.2MB/s eta 0:00:01\r\u001b[K     |████▊                           | 491kB 12.2MB/s eta 0:00:01\r\u001b[K     |████▊                           | 501kB 12.2MB/s eta 0:00:01\r\u001b[K     |████▉                           | 512kB 12.2MB/s eta 0:00:01\r\u001b[K     |█████                           | 522kB 12.2MB/s eta 0:00:01\r\u001b[K     |█████                           | 532kB 12.2MB/s eta 0:00:01\r\u001b[K     |█████▏                          | 542kB 12.2MB/s eta 0:00:01\r\u001b[K     |█████▎                          | 552kB 12.2MB/s eta 0:00:01\r\u001b[K     |█████▍                          | 563kB 12.2MB/s eta 0:00:01\r\u001b[K     |█████▌                          | 573kB 12.2MB/s eta 0:00:01\r\u001b[K     |█████▌                          | 583kB 12.2MB/s eta 0:00:01\r\u001b[K     |█████▋                          | 593kB 12.2MB/s eta 0:00:01\r\u001b[K     |█████▊                          | 604kB 12.2MB/s eta 0:00:01\r\u001b[K     |█████▉                          | 614kB 12.2MB/s eta 0:00:01\r\u001b[K     |██████                          | 624kB 12.2MB/s eta 0:00:01\r\u001b[K     |██████                          | 634kB 12.2MB/s eta 0:00:01\r\u001b[K     |██████▏                         | 645kB 12.2MB/s eta 0:00:01\r\u001b[K     |██████▎                         | 655kB 12.2MB/s eta 0:00:01\r\u001b[K     |██████▎                         | 665kB 12.2MB/s eta 0:00:01\r\u001b[K     |██████▍                         | 675kB 12.2MB/s eta 0:00:01\r\u001b[K     |██████▌                         | 686kB 12.2MB/s eta 0:00:01\r\u001b[K     |██████▋                         | 696kB 12.2MB/s eta 0:00:01\r\u001b[K     |██████▊                         | 706kB 12.2MB/s eta 0:00:01\r\u001b[K     |██████▉                         | 716kB 12.2MB/s eta 0:00:01\r\u001b[K     |███████                         | 727kB 12.2MB/s eta 0:00:01\r\u001b[K     |███████                         | 737kB 12.2MB/s eta 0:00:01\r\u001b[K     |███████                         | 747kB 12.2MB/s eta 0:00:01\r\u001b[K     |███████▏                        | 757kB 12.2MB/s eta 0:00:01\r\u001b[K     |███████▎                        | 768kB 12.2MB/s eta 0:00:01\r\u001b[K     |███████▍                        | 778kB 12.2MB/s eta 0:00:01\r\u001b[K     |███████▌                        | 788kB 12.2MB/s eta 0:00:01\r\u001b[K     |███████▋                        | 798kB 12.2MB/s eta 0:00:01\r\u001b[K     |███████▊                        | 808kB 12.2MB/s eta 0:00:01\r\u001b[K     |███████▉                        | 819kB 12.2MB/s eta 0:00:01\r\u001b[K     |███████▉                        | 829kB 12.2MB/s eta 0:00:01\r\u001b[K     |████████                        | 839kB 12.2MB/s eta 0:00:01\r\u001b[K     |████████                        | 849kB 12.2MB/s eta 0:00:01\r\u001b[K     |████████▏                       | 860kB 12.2MB/s eta 0:00:01\r\u001b[K     |████████▎                       | 870kB 12.2MB/s eta 0:00:01\r\u001b[K     |████████▍                       | 880kB 12.2MB/s eta 0:00:01\r\u001b[K     |████████▌                       | 890kB 12.2MB/s eta 0:00:01\r\u001b[K     |████████▋                       | 901kB 12.2MB/s eta 0:00:01\r\u001b[K     |████████▋                       | 911kB 12.2MB/s eta 0:00:01\r\u001b[K     |████████▊                       | 921kB 12.2MB/s eta 0:00:01\r\u001b[K     |████████▉                       | 931kB 12.2MB/s eta 0:00:01\r\u001b[K     |█████████                       | 942kB 12.2MB/s eta 0:00:01\r\u001b[K     |█████████                       | 952kB 12.2MB/s eta 0:00:01\r\u001b[K     |█████████▏                      | 962kB 12.2MB/s eta 0:00:01\r\u001b[K     |█████████▎                      | 972kB 12.2MB/s eta 0:00:01\r\u001b[K     |█████████▍                      | 983kB 12.2MB/s eta 0:00:01\r\u001b[K     |█████████▌                      | 993kB 12.2MB/s eta 0:00:01\r\u001b[K     |█████████▌                      | 1.0MB 12.2MB/s eta 0:00:01\r\u001b[K     |█████████▋                      | 1.0MB 12.2MB/s eta 0:00:01\r\u001b[K     |█████████▊                      | 1.0MB 12.2MB/s eta 0:00:01\r\u001b[K     |█████████▉                      | 1.0MB 12.2MB/s eta 0:00:01\r\u001b[K     |██████████                      | 1.0MB 12.2MB/s eta 0:00:01\r\u001b[K     |██████████                      | 1.1MB 12.2MB/s eta 0:00:01\r\u001b[K     |██████████▏                     | 1.1MB 12.2MB/s eta 0:00:01\r\u001b[K     |██████████▎                     | 1.1MB 12.2MB/s eta 0:00:01\r\u001b[K     |██████████▎                     | 1.1MB 12.2MB/s eta 0:00:01\r\u001b[K     |██████████▍                     | 1.1MB 12.2MB/s eta 0:00:01\r\u001b[K     |██████████▌                     | 1.1MB 12.2MB/s eta 0:00:01\r\u001b[K     |██████████▋                     | 1.1MB 12.2MB/s eta 0:00:01\r\u001b[K     |██████████▊                     | 1.1MB 12.2MB/s eta 0:00:01\r\u001b[K     |██████████▉                     | 1.1MB 12.2MB/s eta 0:00:01\r\u001b[K     |███████████                     | 1.1MB 12.2MB/s eta 0:00:01\r\u001b[K     |███████████                     | 1.2MB 12.2MB/s eta 0:00:01\r\u001b[K     |███████████                     | 1.2MB 12.2MB/s eta 0:00:01\r\u001b[K     |███████████▏                    | 1.2MB 12.2MB/s eta 0:00:01\r\u001b[K     |███████████▎                    | 1.2MB 12.2MB/s eta 0:00:01\r\u001b[K     |███████████▍                    | 1.2MB 12.2MB/s eta 0:00:01\r\u001b[K     |███████████▌                    | 1.2MB 12.2MB/s eta 0:00:01\r\u001b[K     |███████████▋                    | 1.2MB 12.2MB/s eta 0:00:01\r\u001b[K     |███████████▊                    | 1.2MB 12.2MB/s eta 0:00:01\r\u001b[K     |███████████▉                    | 1.2MB 12.2MB/s eta 0:00:01\r\u001b[K     |███████████▉                    | 1.2MB 12.2MB/s eta 0:00:01\r\u001b[K     |████████████                    | 1.3MB 12.2MB/s eta 0:00:01\r\u001b[K     |████████████                    | 1.3MB 12.2MB/s eta 0:00:01\r\u001b[K     |████████████▏                   | 1.3MB 12.2MB/s eta 0:00:01\r\u001b[K     |████████████▎                   | 1.3MB 12.2MB/s eta 0:00:01\r\u001b[K     |████████████▍                   | 1.3MB 12.2MB/s eta 0:00:01\r\u001b[K     |████████████▌                   | 1.3MB 12.2MB/s eta 0:00:01\r\u001b[K     |████████████▋                   | 1.3MB 12.2MB/s eta 0:00:01\r\u001b[K     |████████████▋                   | 1.3MB 12.2MB/s eta 0:00:01\r\u001b[K     |████████████▊                   | 1.3MB 12.2MB/s eta 0:00:01\r\u001b[K     |████████████▉                   | 1.4MB 12.2MB/s eta 0:00:01\r\u001b[K     |█████████████                   | 1.4MB 12.2MB/s eta 0:00:01\r\u001b[K     |█████████████                   | 1.4MB 12.2MB/s eta 0:00:01\r\u001b[K     |█████████████▏                  | 1.4MB 12.2MB/s eta 0:00:01\r\u001b[K     |█████████████▎                  | 1.4MB 12.2MB/s eta 0:00:01\r\u001b[K     |█████████████▍                  | 1.4MB 12.2MB/s eta 0:00:01\r\u001b[K     |█████████████▍                  | 1.4MB 12.2MB/s eta 0:00:01\r\u001b[K     |█████████████▌                  | 1.4MB 12.2MB/s eta 0:00:01\r\u001b[K     |█████████████▋                  | 1.4MB 12.2MB/s eta 0:00:01\r\u001b[K     |█████████████▊                  | 1.4MB 12.2MB/s eta 0:00:01\r\u001b[K     |█████████████▉                  | 1.5MB 12.2MB/s eta 0:00:01\r\u001b[K     |██████████████                  | 1.5MB 12.2MB/s eta 0:00:01\r\u001b[K     |██████████████                  | 1.5MB 12.2MB/s eta 0:00:01\r\u001b[K     |██████████████▏                 | 1.5MB 12.2MB/s eta 0:00:01\r\u001b[K     |██████████████▏                 | 1.5MB 12.2MB/s eta 0:00:01\r\u001b[K     |██████████████▎                 | 1.5MB 12.2MB/s eta 0:00:01\r\u001b[K     |██████████████▍                 | 1.5MB 12.2MB/s eta 0:00:01\r\u001b[K     |██████████████▌                 | 1.5MB 12.2MB/s eta 0:00:01\r\u001b[K     |██████████████▋                 | 1.5MB 12.2MB/s eta 0:00:01\r\u001b[K     |██████████████▊                 | 1.5MB 12.2MB/s eta 0:00:01\r\u001b[K     |██████████████▉                 | 1.6MB 12.2MB/s eta 0:00:01\r\u001b[K     |███████████████                 | 1.6MB 12.2MB/s eta 0:00:01\r\u001b[K     |███████████████                 | 1.6MB 12.2MB/s eta 0:00:01\r\u001b[K     |███████████████                 | 1.6MB 12.2MB/s eta 0:00:01\r\u001b[K     |███████████████▏                | 1.6MB 12.2MB/s eta 0:00:01\r\u001b[K     |███████████████▎                | 1.6MB 12.2MB/s eta 0:00:01\r\u001b[K     |███████████████▍                | 1.6MB 12.2MB/s eta 0:00:01\r\u001b[K     |███████████████▌                | 1.6MB 12.2MB/s eta 0:00:01\r\u001b[K     |███████████████▋                | 1.6MB 12.2MB/s eta 0:00:01\r\u001b[K     |███████████████▊                | 1.6MB 12.2MB/s eta 0:00:01\r\u001b[K     |███████████████▊                | 1.7MB 12.2MB/s eta 0:00:01\r\u001b[K     |███████████████▉                | 1.7MB 12.2MB/s eta 0:00:01\r\u001b[K     |████████████████                | 1.7MB 12.2MB/s eta 0:00:01\r\u001b[K     |████████████████                | 1.7MB 12.2MB/s eta 0:00:01\r\u001b[K     |████████████████▏               | 1.7MB 12.2MB/s eta 0:00:01\r\u001b[K     |████████████████▎               | 1.7MB 12.2MB/s eta 0:00:01\r\u001b[K     |████████████████▍               | 1.7MB 12.2MB/s eta 0:00:01\r\u001b[K     |████████████████▌               | 1.7MB 12.2MB/s eta 0:00:01\r\u001b[K     |████████████████▌               | 1.7MB 12.2MB/s eta 0:00:01\r\u001b[K     |████████████████▋               | 1.8MB 12.2MB/s eta 0:00:01\r\u001b[K     |████████████████▊               | 1.8MB 12.2MB/s eta 0:00:01\r\u001b[K     |████████████████▉               | 1.8MB 12.2MB/s eta 0:00:01\r\u001b[K     |█████████████████               | 1.8MB 12.2MB/s eta 0:00:01\r\u001b[K     |█████████████████               | 1.8MB 12.2MB/s eta 0:00:01\r\u001b[K     |█████████████████▏              | 1.8MB 12.2MB/s eta 0:00:01\r\u001b[K     |█████████████████▎              | 1.8MB 12.2MB/s eta 0:00:01\r\u001b[K     |█████████████████▎              | 1.8MB 12.2MB/s eta 0:00:01\r\u001b[K     |█████████████████▍              | 1.8MB 12.2MB/s eta 0:00:01\r\u001b[K     |█████████████████▌              | 1.8MB 12.2MB/s eta 0:00:01\r\u001b[K     |█████████████████▋              | 1.9MB 12.2MB/s eta 0:00:01\r\u001b[K     |█████████████████▊              | 1.9MB 12.2MB/s eta 0:00:01\r\u001b[K     |█████████████████▉              | 1.9MB 12.2MB/s eta 0:00:01\r\u001b[K     |██████████████████              | 1.9MB 12.2MB/s eta 0:00:01\r\u001b[K     |██████████████████              | 1.9MB 12.2MB/s eta 0:00:01\r\u001b[K     |██████████████████▏             | 1.9MB 12.2MB/s eta 0:00:01\r\u001b[K     |██████████████████▏             | 1.9MB 12.2MB/s eta 0:00:01\r\u001b[K     |██████████████████▎             | 1.9MB 12.2MB/s eta 0:00:01\r\u001b[K     |██████████████████▍             | 1.9MB 12.2MB/s eta 0:00:01\r\u001b[K     |██████████████████▌             | 1.9MB 12.2MB/s eta 0:00:01\r\u001b[K     |██████████████████▋             | 2.0MB 12.2MB/s eta 0:00:01\r\u001b[K     |██████████████████▊             | 2.0MB 12.2MB/s eta 0:00:01\r\u001b[K     |██████████████████▉             | 2.0MB 12.2MB/s eta 0:00:01\r\u001b[K     |███████████████████             | 2.0MB 12.2MB/s eta 0:00:01\r\u001b[K     |███████████████████             | 2.0MB 12.2MB/s eta 0:00:01\r\u001b[K     |███████████████████             | 2.0MB 12.2MB/s eta 0:00:01\r\u001b[K     |███████████████████▏            | 2.0MB 12.2MB/s eta 0:00:01\r\u001b[K     |███████████████████▎            | 2.0MB 12.2MB/s eta 0:00:01\r\u001b[K     |███████████████████▍            | 2.0MB 12.2MB/s eta 0:00:01\r\u001b[K     |███████████████████▌            | 2.0MB 12.2MB/s eta 0:00:01\r\u001b[K     |███████████████████▋            | 2.1MB 12.2MB/s eta 0:00:01\r\u001b[K     |███████████████████▊            | 2.1MB 12.2MB/s eta 0:00:01\r\u001b[K     |███████████████████▊            | 2.1MB 12.2MB/s eta 0:00:01\r\u001b[K     |███████████████████▉            | 2.1MB 12.2MB/s eta 0:00:01\r\u001b[K     |████████████████████            | 2.1MB 12.2MB/s eta 0:00:01\r\u001b[K     |████████████████████            | 2.1MB 12.2MB/s eta 0:00:01\r\u001b[K     |████████████████████▏           | 2.1MB 12.2MB/s eta 0:00:01\r\u001b[K     |████████████████████▎           | 2.1MB 12.2MB/s eta 0:00:01\r\u001b[K     |████████████████████▍           | 2.1MB 12.2MB/s eta 0:00:01\r\u001b[K     |████████████████████▌           | 2.2MB 12.2MB/s eta 0:00:01\r\u001b[K     |████████████████████▌           | 2.2MB 12.2MB/s eta 0:00:01\r\u001b[K     |████████████████████▋           | 2.2MB 12.2MB/s eta 0:00:01\r\u001b[K     |████████████████████▊           | 2.2MB 12.2MB/s eta 0:00:01\r\u001b[K     |████████████████████▉           | 2.2MB 12.2MB/s eta 0:00:01\r\u001b[K     |█████████████████████           | 2.2MB 12.2MB/s eta 0:00:01\r\u001b[K     |█████████████████████           | 2.2MB 12.2MB/s eta 0:00:01\r\u001b[K     |█████████████████████▏          | 2.2MB 12.2MB/s eta 0:00:01\r\u001b[K     |█████████████████████▎          | 2.2MB 12.2MB/s eta 0:00:01\r\u001b[K     |█████████████████████▎          | 2.2MB 12.2MB/s eta 0:00:01\r\u001b[K     |█████████████████████▍          | 2.3MB 12.2MB/s eta 0:00:01\r\u001b[K     |█████████████████████▌          | 2.3MB 12.2MB/s eta 0:00:01\r\u001b[K     |█████████████████████▋          | 2.3MB 12.2MB/s eta 0:00:01\r\u001b[K     |█████████████████████▊          | 2.3MB 12.2MB/s eta 0:00:01\r\u001b[K     |█████████████████████▉          | 2.3MB 12.2MB/s eta 0:00:01\r\u001b[K     |██████████████████████          | 2.3MB 12.2MB/s eta 0:00:01\r\u001b[K     |██████████████████████          | 2.3MB 12.2MB/s eta 0:00:01\r\u001b[K     |██████████████████████          | 2.3MB 12.2MB/s eta 0:00:01\r\u001b[K     |██████████████████████▏         | 2.3MB 12.2MB/s eta 0:00:01\r\u001b[K     |██████████████████████▎         | 2.3MB 12.2MB/s eta 0:00:01\r\u001b[K     |██████████████████████▍         | 2.4MB 12.2MB/s eta 0:00:01\r\u001b[K     |██████████████████████▌         | 2.4MB 12.2MB/s eta 0:00:01\r\u001b[K     |██████████████████████▋         | 2.4MB 12.2MB/s eta 0:00:01\r\u001b[K     |██████████████████████▊         | 2.4MB 12.2MB/s eta 0:00:01\r\u001b[K     |██████████████████████▉         | 2.4MB 12.2MB/s eta 0:00:01\r\u001b[K     |██████████████████████▉         | 2.4MB 12.2MB/s eta 0:00:01\r\u001b[K     |███████████████████████         | 2.4MB 12.2MB/s eta 0:00:01\r\u001b[K     |███████████████████████         | 2.4MB 12.2MB/s eta 0:00:01\r\u001b[K     |███████████████████████▏        | 2.4MB 12.2MB/s eta 0:00:01\r\u001b[K     |███████████████████████▎        | 2.4MB 12.2MB/s eta 0:00:01\r\u001b[K     |███████████████████████▍        | 2.5MB 12.2MB/s eta 0:00:01\r\u001b[K     |███████████████████████▌        | 2.5MB 12.2MB/s eta 0:00:01\r\u001b[K     |███████████████████████▋        | 2.5MB 12.2MB/s eta 0:00:01\r\u001b[K     |███████████████████████▋        | 2.5MB 12.2MB/s eta 0:00:01\r\u001b[K     |███████████████████████▊        | 2.5MB 12.2MB/s eta 0:00:01\r\u001b[K     |███████████████████████▉        | 2.5MB 12.2MB/s eta 0:00:01\r\u001b[K     |████████████████████████        | 2.5MB 12.2MB/s eta 0:00:01\r\u001b[K     |████████████████████████        | 2.5MB 12.2MB/s eta 0:00:01\r\u001b[K     |████████████████████████▏       | 2.5MB 12.2MB/s eta 0:00:01\r\u001b[K     |████████████████████████▎       | 2.5MB 12.2MB/s eta 0:00:01\r\u001b[K     |████████████████████████▍       | 2.6MB 12.2MB/s eta 0:00:01\r\u001b[K     |████████████████████████▍       | 2.6MB 12.2MB/s eta 0:00:01\r\u001b[K     |████████████████████████▌       | 2.6MB 12.2MB/s eta 0:00:01\r\u001b[K     |████████████████████████▋       | 2.6MB 12.2MB/s eta 0:00:01\r\u001b[K     |████████████████████████▊       | 2.6MB 12.2MB/s eta 0:00:01\r\u001b[K     |████████████████████████▉       | 2.6MB 12.2MB/s eta 0:00:01\r\u001b[K     |█████████████████████████       | 2.6MB 12.2MB/s eta 0:00:01\r\u001b[K     |█████████████████████████       | 2.6MB 12.2MB/s eta 0:00:01\r\u001b[K     |█████████████████████████▏      | 2.6MB 12.2MB/s eta 0:00:01\r\u001b[K     |█████████████████████████▏      | 2.7MB 12.2MB/s eta 0:00:01\r\u001b[K     |█████████████████████████▎      | 2.7MB 12.2MB/s eta 0:00:01\r\u001b[K     |█████████████████████████▍      | 2.7MB 12.2MB/s eta 0:00:01\r\u001b[K     |█████████████████████████▌      | 2.7MB 12.2MB/s eta 0:00:01\r\u001b[K     |█████████████████████████▋      | 2.7MB 12.2MB/s eta 0:00:01\r\u001b[K     |█████████████████████████▊      | 2.7MB 12.2MB/s eta 0:00:01\r\u001b[K     |█████████████████████████▉      | 2.7MB 12.2MB/s eta 0:00:01\r\u001b[K     |██████████████████████████      | 2.7MB 12.2MB/s eta 0:00:01\r\u001b[K     |██████████████████████████      | 2.7MB 12.2MB/s eta 0:00:01\r\u001b[K     |██████████████████████████      | 2.7MB 12.2MB/s eta 0:00:01\r\u001b[K     |██████████████████████████▏     | 2.8MB 12.2MB/s eta 0:00:01\r\u001b[K     |██████████████████████████▎     | 2.8MB 12.2MB/s eta 0:00:01\r\u001b[K     |██████████████████████████▍     | 2.8MB 12.2MB/s eta 0:00:01\r\u001b[K     |██████████████████████████▌     | 2.8MB 12.2MB/s eta 0:00:01\r\u001b[K     |██████████████████████████▋     | 2.8MB 12.2MB/s eta 0:00:01\r\u001b[K     |██████████████████████████▊     | 2.8MB 12.2MB/s eta 0:00:01\r\u001b[K     |██████████████████████████▊     | 2.8MB 12.2MB/s eta 0:00:01\r\u001b[K     |██████████████████████████▉     | 2.8MB 12.2MB/s eta 0:00:01\r\u001b[K     |███████████████████████████     | 2.8MB 12.2MB/s eta 0:00:01\r\u001b[K     |███████████████████████████     | 2.8MB 12.2MB/s eta 0:00:01\r\u001b[K     |███████████████████████████▏    | 2.9MB 12.2MB/s eta 0:00:01\r\u001b[K     |███████████████████████████▎    | 2.9MB 12.2MB/s eta 0:00:01\r\u001b[K     |███████████████████████████▍    | 2.9MB 12.2MB/s eta 0:00:01\r\u001b[K     |███████████████████████████▌    | 2.9MB 12.2MB/s eta 0:00:01\r\u001b[K     |███████████████████████████▋    | 2.9MB 12.2MB/s eta 0:00:01\r\u001b[K     |███████████████████████████▋    | 2.9MB 12.2MB/s eta 0:00:01\r\u001b[K     |███████████████████████████▊    | 2.9MB 12.2MB/s eta 0:00:01\r\u001b[K     |███████████████████████████▉    | 2.9MB 12.2MB/s eta 0:00:01\r\u001b[K     |████████████████████████████    | 2.9MB 12.2MB/s eta 0:00:01\r\u001b[K     |████████████████████████████    | 2.9MB 12.2MB/s eta 0:00:01\r\u001b[K     |████████████████████████████▏   | 3.0MB 12.2MB/s eta 0:00:01\r\u001b[K     |████████████████████████████▎   | 3.0MB 12.2MB/s eta 0:00:01\r\u001b[K     |████████████████████████████▍   | 3.0MB 12.2MB/s eta 0:00:01\r\u001b[K     |████████████████████████████▍   | 3.0MB 12.2MB/s eta 0:00:01\r\u001b[K     |████████████████████████████▌   | 3.0MB 12.2MB/s eta 0:00:01\r\u001b[K     |████████████████████████████▋   | 3.0MB 12.2MB/s eta 0:00:01\r\u001b[K     |████████████████████████████▊   | 3.0MB 12.2MB/s eta 0:00:01\r\u001b[K     |████████████████████████████▉   | 3.0MB 12.2MB/s eta 0:00:01\r\u001b[K     |█████████████████████████████   | 3.0MB 12.2MB/s eta 0:00:01\r\u001b[K     |█████████████████████████████   | 3.1MB 12.2MB/s eta 0:00:01\r\u001b[K     |█████████████████████████████▏  | 3.1MB 12.2MB/s eta 0:00:01\r\u001b[K     |█████████████████████████████▏  | 3.1MB 12.2MB/s eta 0:00:01\r\u001b[K     |█████████████████████████████▎  | 3.1MB 12.2MB/s eta 0:00:01\r\u001b[K     |█████████████████████████████▍  | 3.1MB 12.2MB/s eta 0:00:01\r\u001b[K     |█████████████████████████████▌  | 3.1MB 12.2MB/s eta 0:00:01\r\u001b[K     |█████████████████████████████▋  | 3.1MB 12.2MB/s eta 0:00:01\r\u001b[K     |█████████████████████████████▊  | 3.1MB 12.2MB/s eta 0:00:01\r\u001b[K     |█████████████████████████████▉  | 3.1MB 12.2MB/s eta 0:00:01\r\u001b[K     |██████████████████████████████  | 3.1MB 12.2MB/s eta 0:00:01\r\u001b[K     |██████████████████████████████  | 3.2MB 12.2MB/s eta 0:00:01\r\u001b[K     |██████████████████████████████  | 3.2MB 12.2MB/s eta 0:00:01\r\u001b[K     |██████████████████████████████▏ | 3.2MB 12.2MB/s eta 0:00:01\r\u001b[K     |██████████████████████████████▎ | 3.2MB 12.2MB/s eta 0:00:01\r\u001b[K     |██████████████████████████████▍ | 3.2MB 12.2MB/s eta 0:00:01\r\u001b[K     |██████████████████████████████▌ | 3.2MB 12.2MB/s eta 0:00:01\r\u001b[K     |██████████████████████████████▋ | 3.2MB 12.2MB/s eta 0:00:01\r\u001b[K     |██████████████████████████████▊ | 3.2MB 12.2MB/s eta 0:00:01\r\u001b[K     |██████████████████████████████▊ | 3.2MB 12.2MB/s eta 0:00:01\r\u001b[K     |██████████████████████████████▉ | 3.2MB 12.2MB/s eta 0:00:01\r\u001b[K     |███████████████████████████████ | 3.3MB 12.2MB/s eta 0:00:01\r\u001b[K     |███████████████████████████████ | 3.3MB 12.2MB/s eta 0:00:01\r\u001b[K     |███████████████████████████████▏| 3.3MB 12.2MB/s eta 0:00:01\r\u001b[K     |███████████████████████████████▎| 3.3MB 12.2MB/s eta 0:00:01\r\u001b[K     |███████████████████████████████▍| 3.3MB 12.2MB/s eta 0:00:01\r\u001b[K     |███████████████████████████████▌| 3.3MB 12.2MB/s eta 0:00:01\r\u001b[K     |███████████████████████████████▌| 3.3MB 12.2MB/s eta 0:00:01\r\u001b[K     |███████████████████████████████▋| 3.3MB 12.2MB/s eta 0:00:01\r\u001b[K     |███████████████████████████████▊| 3.3MB 12.2MB/s eta 0:00:01\r\u001b[K     |███████████████████████████████▉| 3.3MB 12.2MB/s eta 0:00:01\r\u001b[K     |████████████████████████████████| 3.4MB 12.2MB/s eta 0:00:01\r\u001b[K     |████████████████████████████████| 3.4MB 12.2MB/s \n",
            "\u001b[?25hRequirement already satisfied: tensorflow<2.5,>=2.4.0 in /usr/local/lib/python3.6/dist-packages (from tensorflow_text) (2.4.0)\n",
            "Requirement already satisfied: tensorflow-hub>=0.8.0 in /usr/local/lib/python3.6/dist-packages (from tensorflow_text) (0.10.0)\n",
            "Requirement already satisfied: astunparse~=1.6.3 in /usr/local/lib/python3.6/dist-packages (from tensorflow<2.5,>=2.4.0->tensorflow_text) (1.6.3)\n",
            "Requirement already satisfied: typing-extensions~=3.7.4 in /usr/local/lib/python3.6/dist-packages (from tensorflow<2.5,>=2.4.0->tensorflow_text) (3.7.4.3)\n",
            "Requirement already satisfied: wheel~=0.35 in /usr/local/lib/python3.6/dist-packages (from tensorflow<2.5,>=2.4.0->tensorflow_text) (0.36.2)\n",
            "Requirement already satisfied: tensorboard~=2.4 in /usr/local/lib/python3.6/dist-packages (from tensorflow<2.5,>=2.4.0->tensorflow_text) (2.4.0)\n",
            "Requirement already satisfied: google-pasta~=0.2 in /usr/local/lib/python3.6/dist-packages (from tensorflow<2.5,>=2.4.0->tensorflow_text) (0.2.0)\n",
            "Requirement already satisfied: absl-py~=0.10 in /usr/local/lib/python3.6/dist-packages (from tensorflow<2.5,>=2.4.0->tensorflow_text) (0.10.0)\n",
            "Requirement already satisfied: flatbuffers~=1.12.0 in /usr/local/lib/python3.6/dist-packages (from tensorflow<2.5,>=2.4.0->tensorflow_text) (1.12)\n",
            "Requirement already satisfied: termcolor~=1.1.0 in /usr/local/lib/python3.6/dist-packages (from tensorflow<2.5,>=2.4.0->tensorflow_text) (1.1.0)\n",
            "Requirement already satisfied: h5py~=2.10.0 in /usr/local/lib/python3.6/dist-packages (from tensorflow<2.5,>=2.4.0->tensorflow_text) (2.10.0)\n",
            "Requirement already satisfied: gast==0.3.3 in /usr/local/lib/python3.6/dist-packages (from tensorflow<2.5,>=2.4.0->tensorflow_text) (0.3.3)\n",
            "Requirement already satisfied: protobuf>=3.9.2 in /usr/local/lib/python3.6/dist-packages (from tensorflow<2.5,>=2.4.0->tensorflow_text) (3.12.4)\n",
            "Requirement already satisfied: wrapt~=1.12.1 in /usr/local/lib/python3.6/dist-packages (from tensorflow<2.5,>=2.4.0->tensorflow_text) (1.12.1)\n",
            "Requirement already satisfied: opt-einsum~=3.3.0 in /usr/local/lib/python3.6/dist-packages (from tensorflow<2.5,>=2.4.0->tensorflow_text) (3.3.0)\n",
            "Requirement already satisfied: grpcio~=1.32.0 in /usr/local/lib/python3.6/dist-packages (from tensorflow<2.5,>=2.4.0->tensorflow_text) (1.32.0)\n",
            "Requirement already satisfied: six~=1.15.0 in /usr/local/lib/python3.6/dist-packages (from tensorflow<2.5,>=2.4.0->tensorflow_text) (1.15.0)\n",
            "Requirement already satisfied: numpy~=1.19.2 in /usr/local/lib/python3.6/dist-packages (from tensorflow<2.5,>=2.4.0->tensorflow_text) (1.19.4)\n",
            "Requirement already satisfied: tensorflow-estimator<2.5.0,>=2.4.0rc0 in /usr/local/lib/python3.6/dist-packages (from tensorflow<2.5,>=2.4.0->tensorflow_text) (2.4.0)\n",
            "Requirement already satisfied: keras-preprocessing~=1.1.2 in /usr/local/lib/python3.6/dist-packages (from tensorflow<2.5,>=2.4.0->tensorflow_text) (1.1.2)\n",
            "Requirement already satisfied: google-auth-oauthlib<0.5,>=0.4.1 in /usr/local/lib/python3.6/dist-packages (from tensorboard~=2.4->tensorflow<2.5,>=2.4.0->tensorflow_text) (0.4.2)\n",
            "Requirement already satisfied: setuptools>=41.0.0 in /usr/local/lib/python3.6/dist-packages (from tensorboard~=2.4->tensorflow<2.5,>=2.4.0->tensorflow_text) (51.0.0)\n",
            "Requirement already satisfied: tensorboard-plugin-wit>=1.6.0 in /usr/local/lib/python3.6/dist-packages (from tensorboard~=2.4->tensorflow<2.5,>=2.4.0->tensorflow_text) (1.7.0)\n",
            "Requirement already satisfied: werkzeug>=0.11.15 in /usr/local/lib/python3.6/dist-packages (from tensorboard~=2.4->tensorflow<2.5,>=2.4.0->tensorflow_text) (1.0.1)\n",
            "Requirement already satisfied: google-auth<2,>=1.6.3 in /usr/local/lib/python3.6/dist-packages (from tensorboard~=2.4->tensorflow<2.5,>=2.4.0->tensorflow_text) (1.17.2)\n",
            "Requirement already satisfied: requests<3,>=2.21.0 in /usr/local/lib/python3.6/dist-packages (from tensorboard~=2.4->tensorflow<2.5,>=2.4.0->tensorflow_text) (2.23.0)\n",
            "Requirement already satisfied: markdown>=2.6.8 in /usr/local/lib/python3.6/dist-packages (from tensorboard~=2.4->tensorflow<2.5,>=2.4.0->tensorflow_text) (3.3.3)\n",
            "Requirement already satisfied: requests-oauthlib>=0.7.0 in /usr/local/lib/python3.6/dist-packages (from google-auth-oauthlib<0.5,>=0.4.1->tensorboard~=2.4->tensorflow<2.5,>=2.4.0->tensorflow_text) (1.3.0)\n",
            "Requirement already satisfied: cachetools<5.0,>=2.0.0 in /usr/local/lib/python3.6/dist-packages (from google-auth<2,>=1.6.3->tensorboard~=2.4->tensorflow<2.5,>=2.4.0->tensorflow_text) (4.2.0)\n",
            "Requirement already satisfied: rsa<5,>=3.1.4; python_version >= \"3\" in /usr/local/lib/python3.6/dist-packages (from google-auth<2,>=1.6.3->tensorboard~=2.4->tensorflow<2.5,>=2.4.0->tensorflow_text) (4.6)\n",
            "Requirement already satisfied: pyasn1-modules>=0.2.1 in /usr/local/lib/python3.6/dist-packages (from google-auth<2,>=1.6.3->tensorboard~=2.4->tensorflow<2.5,>=2.4.0->tensorflow_text) (0.2.8)\n",
            "Requirement already satisfied: certifi>=2017.4.17 in /usr/local/lib/python3.6/dist-packages (from requests<3,>=2.21.0->tensorboard~=2.4->tensorflow<2.5,>=2.4.0->tensorflow_text) (2020.12.5)\n",
            "Requirement already satisfied: idna<3,>=2.5 in /usr/local/lib/python3.6/dist-packages (from requests<3,>=2.21.0->tensorboard~=2.4->tensorflow<2.5,>=2.4.0->tensorflow_text) (2.10)\n",
            "Requirement already satisfied: urllib3!=1.25.0,!=1.25.1,<1.26,>=1.21.1 in /usr/local/lib/python3.6/dist-packages (from requests<3,>=2.21.0->tensorboard~=2.4->tensorflow<2.5,>=2.4.0->tensorflow_text) (1.24.3)\n",
            "Requirement already satisfied: chardet<4,>=3.0.2 in /usr/local/lib/python3.6/dist-packages (from requests<3,>=2.21.0->tensorboard~=2.4->tensorflow<2.5,>=2.4.0->tensorflow_text) (3.0.4)\n",
            "Requirement already satisfied: importlib-metadata; python_version < \"3.8\" in /usr/local/lib/python3.6/dist-packages (from markdown>=2.6.8->tensorboard~=2.4->tensorflow<2.5,>=2.4.0->tensorflow_text) (3.3.0)\n",
            "Requirement already satisfied: oauthlib>=3.0.0 in /usr/local/lib/python3.6/dist-packages (from requests-oauthlib>=0.7.0->google-auth-oauthlib<0.5,>=0.4.1->tensorboard~=2.4->tensorflow<2.5,>=2.4.0->tensorflow_text) (3.1.0)\n",
            "Requirement already satisfied: pyasn1>=0.1.3 in /usr/local/lib/python3.6/dist-packages (from rsa<5,>=3.1.4; python_version >= \"3\"->google-auth<2,>=1.6.3->tensorboard~=2.4->tensorflow<2.5,>=2.4.0->tensorflow_text) (0.4.8)\n",
            "Requirement already satisfied: zipp>=0.5 in /usr/local/lib/python3.6/dist-packages (from importlib-metadata; python_version < \"3.8\"->markdown>=2.6.8->tensorboard~=2.4->tensorflow<2.5,>=2.4.0->tensorflow_text) (3.4.0)\n",
            "Installing collected packages: tensorflow-text\n",
            "Successfully installed tensorflow-text-2.4.2\n"
          ],
          "name": "stdout"
        }
      ]
    },
    {
      "cell_type": "code",
      "metadata": {
        "trusted": true,
        "id": "tsmxIU4b6KG4"
      },
      "source": [
        "import tensorflow\n",
        "import tensorflow_hub as hub\n",
        "import tensorflow_text as text"
      ],
      "execution_count": null,
      "outputs": []
    },
    {
      "cell_type": "code",
      "metadata": {
        "trusted": true,
        "id": "hLkwrtgthUFS"
      },
      "source": [
        "tensorflow.random.set_seed(1234)\n",
        "np.random.seed(1234)\n",
        "import random\n",
        "random.seed(1234)"
      ],
      "execution_count": null,
      "outputs": []
    },
    {
      "cell_type": "code",
      "metadata": {
        "trusted": true,
        "id": "G6aH5uI06KG4"
      },
      "source": [
        "#extracted from the Tensorflow Hub\n",
        "URL_PREPROCESSOR = \"http://tfhub.dev/tensorflow/albert_en_preprocess/2\"\n",
        "URL_ENCODER = \"https://tfhub.dev/tensorflow/albert_en_base/2\""
      ],
      "execution_count": null,
      "outputs": []
    },
    {
      "cell_type": "code",
      "metadata": {
        "trusted": true,
        "id": "kARwApsU6KG5"
      },
      "source": [
        "#Adjusted model based on the example explained in the official documentation available in the following link: \n",
        "#https://www.tensorflow.org/tutorials/text/classify_text_with_bert\n",
        "def build_classifier_model():\n",
        "    text_input = tensorflow.keras.layers.Input(shape=(), dtype=tensorflow.string, name='text')\n",
        "    preprocessing_layer = hub.KerasLayer(URL_PREPROCESSOR, name='preprocessing')\n",
        "    encoder_inputs = preprocessing_layer(text_input)\n",
        "    encoder = hub.KerasLayer(URL_ENCODER, trainable=True, name='ALBERT_encoder')\n",
        "    outputs = encoder(encoder_inputs)\n",
        "    net = outputs['pooled_output']\n",
        "    net = tensorflow.keras.layers.Dropout(0.50)(net)\n",
        "    net = tensorflow.keras.layers.Dense(3, activation='softmax', name='classifier_b')(net)\n",
        "    return tensorflow.keras.Model(text_input, net)"
      ],
      "execution_count": null,
      "outputs": []
    },
    {
      "cell_type": "code",
      "metadata": {
        "trusted": true,
        "id": "FGt10D3X6KG6"
      },
      "source": [
        "classifier_model = build_classifier_model()"
      ],
      "execution_count": null,
      "outputs": []
    },
    {
      "cell_type": "code",
      "metadata": {
        "id": "iQTdbAp0JRTp",
        "trusted": true,
        "colab": {
          "base_uri": "https://localhost:8080/"
        },
        "outputId": "414879e3-9743-4fd5-f9a2-8dfac4caf6e0"
      },
      "source": [
        "!pip install -q tf-models-official"
      ],
      "execution_count": null,
      "outputs": [
        {
          "output_type": "stream",
          "text": [
            "\u001b[K     |████████████████████████████████| 849kB 16.4MB/s \n",
            "\u001b[K     |████████████████████████████████| 36.7MB 86kB/s \n",
            "\u001b[K     |████████████████████████████████| 1.1MB 52.1MB/s \n",
            "\u001b[K     |████████████████████████████████| 102kB 15.8MB/s \n",
            "\u001b[K     |████████████████████████████████| 358kB 58.8MB/s \n",
            "\u001b[K     |████████████████████████████████| 174kB 65.6MB/s \n",
            "\u001b[?25h  Building wheel for py-cpuinfo (setup.py) ... \u001b[?25l\u001b[?25hdone\n"
          ],
          "name": "stdout"
        }
      ]
    },
    {
      "cell_type": "code",
      "metadata": {
        "id": "eJ_zYlcCJRN7",
        "trusted": true
      },
      "source": [
        "from official.nlp import optimization  # to create AdamW optmizer"
      ],
      "execution_count": null,
      "outputs": []
    },
    {
      "cell_type": "code",
      "metadata": {
        "trusted": true,
        "id": "50mi-LQg6KG7",
        "colab": {
          "base_uri": "https://localhost:8080/"
        },
        "outputId": "54f16f85-e316-482c-cfc8-93c904fd63bb"
      },
      "source": [
        "train_tf, test_tf = train_test_split(df, test_size=0.30, stratify=df['author'], random_state=1234)\n",
        "print(train_tf.shape, test_tf.shape)"
      ],
      "execution_count": null,
      "outputs": [
        {
          "output_type": "stream",
          "text": [
            "(13705, 2) (5874, 2)\n"
          ],
          "name": "stdout"
        }
      ]
    },
    {
      "cell_type": "code",
      "metadata": {
        "trusted": true,
        "id": "10Y6kOy06KG8"
      },
      "source": [
        "#Utility referenced in the TF documentation to \"transform\" the pandas dataframe to a TF Tensor\n",
        "#https://www.tensorflow.org/tutorials/structured_data/preprocessing_layers#create_an_input_pipeline_using_tfdata\n",
        "def df_to_dataset(dataframe, batch_size=32, target='author'):\n",
        "    dataframe = dataframe.copy()\n",
        "    labels = dataframe.pop(target)\n",
        "    ds = tensorflow.data.Dataset.from_tensor_slices((dict(dataframe), labels))\n",
        "    ds = ds.batch(batch_size)\n",
        "    return ds"
      ],
      "execution_count": null,
      "outputs": []
    },
    {
      "cell_type": "code",
      "metadata": {
        "trusted": true,
        "id": "eMNiYoSH6KG9"
      },
      "source": [
        "train_ds = df_to_dataset(train_tf, batch_size=32)"
      ],
      "execution_count": null,
      "outputs": []
    },
    {
      "cell_type": "code",
      "metadata": {
        "trusted": true,
        "id": "wq8slVZJ6KG-"
      },
      "source": [
        "test_ds = df_to_dataset(test_tf, batch_size=32)"
      ],
      "execution_count": null,
      "outputs": []
    },
    {
      "cell_type": "code",
      "metadata": {
        "id": "rnk8a6pCKN-1",
        "trusted": true
      },
      "source": [
        "#Optimizer referenced in the documentation example\n",
        "epochs = 5\n",
        "steps_per_epoch = tensorflow.data.experimental.cardinality(train_ds).numpy()\n",
        "num_train_steps = steps_per_epoch * epochs\n",
        "num_warmup_steps = int(0.1*num_train_steps)\n",
        "\n",
        "init_lr = 3e-5\n",
        "optimizer = optimization.create_optimizer(init_lr=init_lr,\n",
        "                                          num_train_steps=num_train_steps,\n",
        "                                          num_warmup_steps=num_warmup_steps,\n",
        "                                          optimizer_type='adamw')"
      ],
      "execution_count": null,
      "outputs": []
    },
    {
      "cell_type": "code",
      "metadata": {
        "id": "aaESrt8sKNz0",
        "trusted": true
      },
      "source": [
        "classifier_model.compile(optimizer=optimizer,\n",
        "                         loss='sparse_categorical_crossentropy',\n",
        "                         metrics=['accuracy'])"
      ],
      "execution_count": null,
      "outputs": []
    },
    {
      "cell_type": "code",
      "metadata": {
        "trusted": true,
        "id": "D5f-Xi2c6KG-",
        "colab": {
          "base_uri": "https://localhost:8080/",
          "height": 52
        },
        "outputId": "4f5f12b9-0a5e-46a7-ceea-5731e2b537fd"
      },
      "source": [
        "#to check the TF version and the GPU used in the training process\n",
        "import tensorflow\n",
        "print(tensorflow.__version__)\n",
        "tensorflow.test.gpu_device_name()"
      ],
      "execution_count": null,
      "outputs": [
        {
          "output_type": "stream",
          "text": [
            "2.4.0\n"
          ],
          "name": "stdout"
        },
        {
          "output_type": "execute_result",
          "data": {
            "application/vnd.google.colaboratory.intrinsic+json": {
              "type": "string"
            },
            "text/plain": [
              "'/device:GPU:0'"
            ]
          },
          "metadata": {
            "tags": []
          },
          "execution_count": 36
        }
      ]
    },
    {
      "cell_type": "code",
      "metadata": {
        "trusted": true,
        "id": "O2Toumfk6KG_",
        "colab": {
          "base_uri": "https://localhost:8080/"
        },
        "outputId": "00aa15e0-7170-4d29-f490-5dc07101dc22"
      },
      "source": [
        "EPOCHS=2\n",
        "with tensorflow.device('/device:GPU:0'):\n",
        "    history = classifier_model.fit(x=train_ds, validation_data=test_ds, batch_size=32, epochs=EPOCHS)"
      ],
      "execution_count": null,
      "outputs": [
        {
          "output_type": "stream",
          "text": [
            "Epoch 1/2\n",
            "429/429 [==============================] - 553s 1s/step - loss: 1.0756 - accuracy: 0.5123 - val_loss: 0.4926 - val_accuracy: 0.8064\n",
            "Epoch 2/2\n",
            "429/429 [==============================] - 545s 1s/step - loss: 0.5447 - accuracy: 0.7893 - val_loss: 0.4615 - val_accuracy: 0.8291\n"
          ],
          "name": "stdout"
        }
      ]
    },
    {
      "cell_type": "code",
      "metadata": {
        "trusted": true,
        "id": "I4MjqUtV6KHA",
        "colab": {
          "base_uri": "https://localhost:8080/"
        },
        "outputId": "3a39dc86-050c-4dfa-9b9a-b28ea234f6cc"
      },
      "source": [
        "classifier_model.evaluate(train_ds, batch_size=32)"
      ],
      "execution_count": null,
      "outputs": [
        {
          "output_type": "stream",
          "text": [
            "429/429 [==============================] - 147s 342ms/step - loss: 0.2624 - accuracy: 0.9007\n"
          ],
          "name": "stdout"
        },
        {
          "output_type": "execute_result",
          "data": {
            "text/plain": [
              "[0.26244640350341797, 0.9006931781768799]"
            ]
          },
          "metadata": {
            "tags": []
          },
          "execution_count": 38
        }
      ]
    },
    {
      "cell_type": "code",
      "metadata": {
        "trusted": true,
        "id": "W75qJCSk6KHA",
        "colab": {
          "base_uri": "https://localhost:8080/"
        },
        "outputId": "56a8d165-a929-4539-b4f5-26332500545f"
      },
      "source": [
        "classifier_model.evaluate(test_ds, batch_size=32)"
      ],
      "execution_count": null,
      "outputs": [
        {
          "output_type": "stream",
          "text": [
            "184/184 [==============================] - 62s 339ms/step - loss: 0.4615 - accuracy: 0.8291\n"
          ],
          "name": "stdout"
        },
        {
          "output_type": "execute_result",
          "data": {
            "text/plain": [
              "[0.4614786207675934, 0.8290773034095764]"
            ]
          },
          "metadata": {
            "tags": []
          },
          "execution_count": 39
        }
      ]
    },
    {
      "cell_type": "code",
      "metadata": {
        "trusted": true,
        "id": "u38BFmDv6KHB"
      },
      "source": [
        "tf_preds = classifier_model.predict(test_ds)"
      ],
      "execution_count": null,
      "outputs": []
    },
    {
      "cell_type": "code",
      "metadata": {
        "trusted": true,
        "id": "QJHjw39p6KHD",
        "colab": {
          "base_uri": "https://localhost:8080/"
        },
        "outputId": "490a1497-40e3-4e93-bef2-ca6b58cefc8b"
      },
      "source": [
        "albert_loss = log_loss(y_test, tf_preds)\n",
        "print(albert_loss)"
      ],
      "execution_count": null,
      "outputs": [
        {
          "output_type": "stream",
          "text": [
            "0.4614784991540173\n"
          ],
          "name": "stdout"
        }
      ]
    },
    {
      "cell_type": "code",
      "metadata": {
        "trusted": true,
        "id": "X5lirmaWhUFa",
        "colab": {
          "base_uri": "https://localhost:8080/"
        },
        "outputId": "4df41757-050d-4c68-d250-79f53edf8598"
      },
      "source": [
        "#Multiclass Loss or Log Loss (sklearn) is the metric defined by Kaggle for this competition\n",
        "diff_loss = nb_loss - albert_loss\n",
        "if albert_loss < nb_loss:\n",
        "    print(\"ALBERT improved the loss metric by {}\".format(diff_loss))\n",
        "else: print(\"loss metric was not improved by ALBERT compared to the base NB model\")"
      ],
      "execution_count": null,
      "outputs": [
        {
          "output_type": "stream",
          "text": [
            "ALBERT improved the loss metric by 0.06874869352731872\n"
          ],
          "name": "stdout"
        }
      ]
    },
    {
      "cell_type": "code",
      "metadata": {
        "trusted": true,
        "id": "ZjR_ySWw6KHE",
        "colab": {
          "base_uri": "https://localhost:8080/"
        },
        "outputId": "3a914a2d-615b-4ee3-c1ee-85a1f14a710f"
      },
      "source": [
        "tf_preds[0:5], y_test.iloc[0:5]"
      ],
      "execution_count": null,
      "outputs": [
        {
          "output_type": "execute_result",
          "data": {
            "text/plain": [
              "(array([[0.00252756, 0.00108689, 0.9963856 ],\n",
              "        [0.64779645, 0.00709284, 0.34511068],\n",
              "        [0.01092714, 0.9655519 , 0.02352085],\n",
              "        [0.10766204, 0.34792036, 0.5444176 ],\n",
              "        [0.9181267 , 0.0457281 , 0.03614512]], dtype=float32), 8659     2\n",
              " 12432    0\n",
              " 2051     1\n",
              " 3344     2\n",
              " 16796    2\n",
              " Name: author, dtype: int64)"
            ]
          },
          "metadata": {
            "tags": []
          },
          "execution_count": 43
        }
      ]
    },
    {
      "cell_type": "code",
      "metadata": {
        "trusted": true,
        "id": "o29bzrDK6KHE"
      },
      "source": [
        "import numpy as np\n",
        "tf_preds_class = np.argmax(tf_preds, axis=1)"
      ],
      "execution_count": null,
      "outputs": []
    },
    {
      "cell_type": "code",
      "metadata": {
        "trusted": true,
        "id": "8CJ_OTwQ6KHF",
        "colab": {
          "base_uri": "https://localhost:8080/"
        },
        "outputId": "2c1b4966-78ad-47a9-a695-d56468ab9015"
      },
      "source": [
        "print(confusion_matrix(y_test, tf_preds_class))\n",
        "print('\\n')\n",
        "print(classification_report(y_test, tf_preds_class))"
      ],
      "execution_count": null,
      "outputs": [
        {
          "output_type": "stream",
          "text": [
            "[[2193   93   84]\n",
            " [ 392 1353   68]\n",
            " [ 317   50 1324]]\n",
            "\n",
            "\n",
            "              precision    recall  f1-score   support\n",
            "\n",
            "           0       0.76      0.93      0.83      2370\n",
            "           1       0.90      0.75      0.82      1813\n",
            "           2       0.90      0.78      0.84      1691\n",
            "\n",
            "    accuracy                           0.83      5874\n",
            "   macro avg       0.85      0.82      0.83      5874\n",
            "weighted avg       0.84      0.83      0.83      5874\n",
            "\n"
          ],
          "name": "stdout"
        }
      ]
    },
    {
      "cell_type": "code",
      "metadata": {
        "trusted": true,
        "id": "o5QZJz7ehUFc"
      },
      "source": [
        "dep = pd.read_csv('/content/test.zip')"
      ],
      "execution_count": null,
      "outputs": []
    },
    {
      "cell_type": "code",
      "metadata": {
        "trusted": true,
        "id": "8I6ZQWHxhUFc",
        "colab": {
          "base_uri": "https://localhost:8080/",
          "height": 111
        },
        "outputId": "2e6674b1-d948-4330-b1f4-9a4f00660155"
      },
      "source": [
        "dep.head(2)"
      ],
      "execution_count": null,
      "outputs": [
        {
          "output_type": "execute_result",
          "data": {
            "text/html": [
              "<div>\n",
              "<style scoped>\n",
              "    .dataframe tbody tr th:only-of-type {\n",
              "        vertical-align: middle;\n",
              "    }\n",
              "\n",
              "    .dataframe tbody tr th {\n",
              "        vertical-align: top;\n",
              "    }\n",
              "\n",
              "    .dataframe thead th {\n",
              "        text-align: right;\n",
              "    }\n",
              "</style>\n",
              "<table border=\"1\" class=\"dataframe\">\n",
              "  <thead>\n",
              "    <tr style=\"text-align: right;\">\n",
              "      <th></th>\n",
              "      <th>id</th>\n",
              "      <th>text</th>\n",
              "    </tr>\n",
              "  </thead>\n",
              "  <tbody>\n",
              "    <tr>\n",
              "      <th>0</th>\n",
              "      <td>id02310</td>\n",
              "      <td>Still, as I urged our leaving Ireland with suc...</td>\n",
              "    </tr>\n",
              "    <tr>\n",
              "      <th>1</th>\n",
              "      <td>id24541</td>\n",
              "      <td>If a fire wanted fanning, it could readily be ...</td>\n",
              "    </tr>\n",
              "  </tbody>\n",
              "</table>\n",
              "</div>"
            ],
            "text/plain": [
              "        id                                               text\n",
              "0  id02310  Still, as I urged our leaving Ireland with suc...\n",
              "1  id24541  If a fire wanted fanning, it could readily be ..."
            ]
          },
          "metadata": {
            "tags": []
          },
          "execution_count": 47
        }
      ]
    },
    {
      "cell_type": "code",
      "metadata": {
        "id": "U5yo_z0QDGRT"
      },
      "source": [
        "dep['text'] = dep['text'].str.lower()"
      ],
      "execution_count": null,
      "outputs": []
    },
    {
      "cell_type": "code",
      "metadata": {
        "trusted": true,
        "id": "FdqZEghdhUFd"
      },
      "source": [
        "dep_preds = classifier_model.predict(dep['text'].values)\n",
        "dep_df = pd.DataFrame(data=dep_preds, columns=['EAP','MWS','HPL'])"
      ],
      "execution_count": null,
      "outputs": []
    },
    {
      "cell_type": "code",
      "metadata": {
        "trusted": true,
        "id": "M7nMleiHhUFd"
      },
      "source": [
        "submit_df = pd.concat([dep,dep_df], axis='columns')\n",
        "submit_df.drop(columns='text', inplace=True)\n",
        "submit_df.to_csv('submit.csv', index=False, index_label=False)"
      ],
      "execution_count": null,
      "outputs": []
    },
    {
      "cell_type": "code",
      "metadata": {
        "trusted": true,
        "id": "GTvRdfyUhUFd",
        "colab": {
          "base_uri": "https://localhost:8080/",
          "height": 111
        },
        "outputId": "c2397525-1234-4760-daf1-69dc83f1bace"
      },
      "source": [
        "submit_df.head(2)"
      ],
      "execution_count": null,
      "outputs": [
        {
          "output_type": "execute_result",
          "data": {
            "text/html": [
              "<div>\n",
              "<style scoped>\n",
              "    .dataframe tbody tr th:only-of-type {\n",
              "        vertical-align: middle;\n",
              "    }\n",
              "\n",
              "    .dataframe tbody tr th {\n",
              "        vertical-align: top;\n",
              "    }\n",
              "\n",
              "    .dataframe thead th {\n",
              "        text-align: right;\n",
              "    }\n",
              "</style>\n",
              "<table border=\"1\" class=\"dataframe\">\n",
              "  <thead>\n",
              "    <tr style=\"text-align: right;\">\n",
              "      <th></th>\n",
              "      <th>id</th>\n",
              "      <th>EAP</th>\n",
              "      <th>MWS</th>\n",
              "      <th>HPL</th>\n",
              "    </tr>\n",
              "  </thead>\n",
              "  <tbody>\n",
              "    <tr>\n",
              "      <th>0</th>\n",
              "      <td>id02310</td>\n",
              "      <td>0.029809</td>\n",
              "      <td>0.962175</td>\n",
              "      <td>0.008016</td>\n",
              "    </tr>\n",
              "    <tr>\n",
              "      <th>1</th>\n",
              "      <td>id24541</td>\n",
              "      <td>0.995124</td>\n",
              "      <td>0.002497</td>\n",
              "      <td>0.002379</td>\n",
              "    </tr>\n",
              "  </tbody>\n",
              "</table>\n",
              "</div>"
            ],
            "text/plain": [
              "        id       EAP       MWS       HPL\n",
              "0  id02310  0.029809  0.962175  0.008016\n",
              "1  id24541  0.995124  0.002497  0.002379"
            ]
          },
          "metadata": {
            "tags": []
          },
          "execution_count": 51
        }
      ]
    },
    {
      "cell_type": "code",
      "metadata": {
        "colab": {
          "base_uri": "https://localhost:8080/",
          "height": 17
        },
        "id": "C5Yy_rjl7bVF",
        "outputId": "29563df9-cffc-4157-eb7b-aa7ccbe96230"
      },
      "source": [
        "files.download('/content/submit.csv')"
      ],
      "execution_count": null,
      "outputs": [
        {
          "output_type": "display_data",
          "data": {
            "application/javascript": [
              "\n",
              "    async function download(id, filename, size) {\n",
              "      if (!google.colab.kernel.accessAllowed) {\n",
              "        return;\n",
              "      }\n",
              "      const div = document.createElement('div');\n",
              "      const label = document.createElement('label');\n",
              "      label.textContent = `Downloading \"${filename}\": `;\n",
              "      div.appendChild(label);\n",
              "      const progress = document.createElement('progress');\n",
              "      progress.max = size;\n",
              "      div.appendChild(progress);\n",
              "      document.body.appendChild(div);\n",
              "\n",
              "      const buffers = [];\n",
              "      let downloaded = 0;\n",
              "\n",
              "      const channel = await google.colab.kernel.comms.open(id);\n",
              "      // Send a message to notify the kernel that we're ready.\n",
              "      channel.send({})\n",
              "\n",
              "      for await (const message of channel.messages) {\n",
              "        // Send a message to notify the kernel that we're ready.\n",
              "        channel.send({})\n",
              "        if (message.buffers) {\n",
              "          for (const buffer of message.buffers) {\n",
              "            buffers.push(buffer);\n",
              "            downloaded += buffer.byteLength;\n",
              "            progress.value = downloaded;\n",
              "          }\n",
              "        }\n",
              "      }\n",
              "      const blob = new Blob(buffers, {type: 'application/binary'});\n",
              "      const a = document.createElement('a');\n",
              "      a.href = window.URL.createObjectURL(blob);\n",
              "      a.download = filename;\n",
              "      div.appendChild(a);\n",
              "      a.click();\n",
              "      div.remove();\n",
              "    }\n",
              "  "
            ],
            "text/plain": [
              "<IPython.core.display.Javascript object>"
            ]
          },
          "metadata": {
            "tags": []
          }
        },
        {
          "output_type": "display_data",
          "data": {
            "application/javascript": [
              "download(\"download_66f4f41c-7b40-4a2f-8a09-5d68bc47f588\", \"submit.csv\", 356450)"
            ],
            "text/plain": [
              "<IPython.core.display.Javascript object>"
            ]
          },
          "metadata": {
            "tags": []
          }
        }
      ]
    },
    {
      "cell_type": "markdown",
      "metadata": {
        "id": "NTTPi9ABM819"
      },
      "source": [
        "As of December 2020, the model scored a log loss of **0.4675** on Kaggle, in our notebook the log loss score was **0.4614**, with just a couple of epochs, it was possible to decrease the loss metric by **0.07**"
      ]
    },
    {
      "cell_type": "markdown",
      "metadata": {
        "id": "cbZpwdqUM39X"
      },
      "source": [
        "![Spooky Author Classification Challenge.jpg](data:image/jpeg;base64,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)"
      ]
    },
    {
      "cell_type": "markdown",
      "metadata": {
        "id": "a9w47t7bhUFe"
      },
      "source": [
        "### Final Notes:\n",
        "- I know a GPU should not be used for the inference stage, however, I wanted to keep the example in one single notebook\n",
        "\n",
        "- An ALBERT (A Light BERT Model) was applied to this dataset based on an example provided in the official TF documentation, same optimizer was used, however, base model was changed and an additional utility was used in order to transform the pandas dataframe to a TF tensor.\n",
        "\n",
        "- This is an example about how the different transformers available in the TF Hub can be used in a Text Classification Task."
      ]
    }
  ]
}