{
  "nbformat": 4,
  "nbformat_minor": 0,
  "metadata": {
    "colab": {
      "name": "Prophet Vs NeuralProphet.ipynb",
      "provenance": [],
      "collapsed_sections": [],
      "toc_visible": true,
      "authorship_tag": "ABX9TyO8C9BeiwhzSfPUv96T5f3+"
    },
    "kernelspec": {
      "name": "python3",
      "display_name": "Python 3"
    },
    "language_info": {
      "name": "python"
    },
    "widgets": {
      "application/vnd.jupyter.widget-state+json": {
        "879506c706604be4860325fcbca07997": {
          "model_module": "@jupyter-widgets/controls",
          "model_name": "HBoxModel",
          "model_module_version": "1.5.0",
          "state": {
            "_view_name": "HBoxView",
            "_dom_classes": [],
            "_model_name": "HBoxModel",
            "_view_module": "@jupyter-widgets/controls",
            "_model_module_version": "1.5.0",
            "_view_count": null,
            "_view_module_version": "1.5.0",
            "box_style": "",
            "layout": "IPY_MODEL_20637dc70f3d47229b80f60d4f629a74",
            "_model_module": "@jupyter-widgets/controls",
            "children": [
              "IPY_MODEL_e2f2a6aeb10d48dca9798f4b452497fa",
              "IPY_MODEL_8cd40c766f67482ab2fe4f6101b4ad80",
              "IPY_MODEL_04b00e677b9d4bbfb51474cad902c0f9"
            ]
          }
        },
        "20637dc70f3d47229b80f60d4f629a74": {
          "model_module": "@jupyter-widgets/base",
          "model_name": "LayoutModel",
          "model_module_version": "1.2.0",
          "state": {
            "_view_name": "LayoutView",
            "grid_template_rows": null,
            "right": null,
            "justify_content": null,
            "_view_module": "@jupyter-widgets/base",
            "overflow": null,
            "_model_module_version": "1.2.0",
            "_view_count": null,
            "flex_flow": null,
            "width": null,
            "min_width": null,
            "border": null,
            "align_items": null,
            "bottom": null,
            "_model_module": "@jupyter-widgets/base",
            "top": null,
            "grid_column": null,
            "overflow_y": null,
            "overflow_x": null,
            "grid_auto_flow": null,
            "grid_area": null,
            "grid_template_columns": null,
            "flex": null,
            "_model_name": "LayoutModel",
            "justify_items": null,
            "grid_row": null,
            "max_height": null,
            "align_content": null,
            "visibility": null,
            "align_self": null,
            "height": null,
            "min_height": null,
            "padding": null,
            "grid_auto_rows": null,
            "grid_gap": null,
            "max_width": null,
            "order": null,
            "_view_module_version": "1.2.0",
            "grid_template_areas": null,
            "object_position": null,
            "object_fit": null,
            "grid_auto_columns": null,
            "margin": null,
            "display": null,
            "left": null
          }
        },
        "e2f2a6aeb10d48dca9798f4b452497fa": {
          "model_module": "@jupyter-widgets/controls",
          "model_name": "HTMLModel",
          "model_module_version": "1.5.0",
          "state": {
            "_view_name": "HTMLView",
            "style": "IPY_MODEL_4a20dd924d674f4bb2f850229b215a0d",
            "_dom_classes": [],
            "description": "",
            "_model_name": "HTMLModel",
            "placeholder": "​",
            "_view_module": "@jupyter-widgets/controls",
            "_model_module_version": "1.5.0",
            "value": " 85%",
            "_view_count": null,
            "_view_module_version": "1.5.0",
            "description_tooltip": null,
            "_model_module": "@jupyter-widgets/controls",
            "layout": "IPY_MODEL_75ff5869bd2d4254ac8894127dc76a7a"
          }
        },
        "8cd40c766f67482ab2fe4f6101b4ad80": {
          "model_module": "@jupyter-widgets/controls",
          "model_name": "FloatProgressModel",
          "model_module_version": "1.5.0",
          "state": {
            "_view_name": "ProgressView",
            "style": "IPY_MODEL_dd2430d58f7f4672ac1fd1a2b7577e00",
            "_dom_classes": [],
            "description": "",
            "_model_name": "FloatProgressModel",
            "bar_style": "danger",
            "max": 233,
            "_view_module": "@jupyter-widgets/controls",
            "_model_module_version": "1.5.0",
            "value": 197,
            "_view_count": null,
            "_view_module_version": "1.5.0",
            "orientation": "horizontal",
            "min": 0,
            "description_tooltip": null,
            "_model_module": "@jupyter-widgets/controls",
            "layout": "IPY_MODEL_71c6c3e6a554493492c41960d466bac7"
          }
        },
        "04b00e677b9d4bbfb51474cad902c0f9": {
          "model_module": "@jupyter-widgets/controls",
          "model_name": "HTMLModel",
          "model_module_version": "1.5.0",
          "state": {
            "_view_name": "HTMLView",
            "style": "IPY_MODEL_7236dbe6643a4587b4851334f4b3492c",
            "_dom_classes": [],
            "description": "",
            "_model_name": "HTMLModel",
            "placeholder": "​",
            "_view_module": "@jupyter-widgets/controls",
            "_model_module_version": "1.5.0",
            "value": " 197/233 [00:00&lt;00:00, 369.03it/s]",
            "_view_count": null,
            "_view_module_version": "1.5.0",
            "description_tooltip": null,
            "_model_module": "@jupyter-widgets/controls",
            "layout": "IPY_MODEL_d9e7b871e00d4cfe895535b602728148"
          }
        },
        "4a20dd924d674f4bb2f850229b215a0d": {
          "model_module": "@jupyter-widgets/controls",
          "model_name": "DescriptionStyleModel",
          "model_module_version": "1.5.0",
          "state": {
            "_view_name": "StyleView",
            "_model_name": "DescriptionStyleModel",
            "description_width": "",
            "_view_module": "@jupyter-widgets/base",
            "_model_module_version": "1.5.0",
            "_view_count": null,
            "_view_module_version": "1.2.0",
            "_model_module": "@jupyter-widgets/controls"
          }
        },
        "75ff5869bd2d4254ac8894127dc76a7a": {
          "model_module": "@jupyter-widgets/base",
          "model_name": "LayoutModel",
          "model_module_version": "1.2.0",
          "state": {
            "_view_name": "LayoutView",
            "grid_template_rows": null,
            "right": null,
            "justify_content": null,
            "_view_module": "@jupyter-widgets/base",
            "overflow": null,
            "_model_module_version": "1.2.0",
            "_view_count": null,
            "flex_flow": null,
            "width": null,
            "min_width": null,
            "border": null,
            "align_items": null,
            "bottom": null,
            "_model_module": "@jupyter-widgets/base",
            "top": null,
            "grid_column": null,
            "overflow_y": null,
            "overflow_x": null,
            "grid_auto_flow": null,
            "grid_area": null,
            "grid_template_columns": null,
            "flex": null,
            "_model_name": "LayoutModel",
            "justify_items": null,
            "grid_row": null,
            "max_height": null,
            "align_content": null,
            "visibility": null,
            "align_self": null,
            "height": null,
            "min_height": null,
            "padding": null,
            "grid_auto_rows": null,
            "grid_gap": null,
            "max_width": null,
            "order": null,
            "_view_module_version": "1.2.0",
            "grid_template_areas": null,
            "object_position": null,
            "object_fit": null,
            "grid_auto_columns": null,
            "margin": null,
            "display": null,
            "left": null
          }
        },
        "dd2430d58f7f4672ac1fd1a2b7577e00": {
          "model_module": "@jupyter-widgets/controls",
          "model_name": "ProgressStyleModel",
          "model_module_version": "1.5.0",
          "state": {
            "_view_name": "StyleView",
            "_model_name": "ProgressStyleModel",
            "description_width": "",
            "_view_module": "@jupyter-widgets/base",
            "_model_module_version": "1.5.0",
            "_view_count": null,
            "_view_module_version": "1.2.0",
            "bar_color": null,
            "_model_module": "@jupyter-widgets/controls"
          }
        },
        "71c6c3e6a554493492c41960d466bac7": {
          "model_module": "@jupyter-widgets/base",
          "model_name": "LayoutModel",
          "model_module_version": "1.2.0",
          "state": {
            "_view_name": "LayoutView",
            "grid_template_rows": null,
            "right": null,
            "justify_content": null,
            "_view_module": "@jupyter-widgets/base",
            "overflow": null,
            "_model_module_version": "1.2.0",
            "_view_count": null,
            "flex_flow": null,
            "width": null,
            "min_width": null,
            "border": null,
            "align_items": null,
            "bottom": null,
            "_model_module": "@jupyter-widgets/base",
            "top": null,
            "grid_column": null,
            "overflow_y": null,
            "overflow_x": null,
            "grid_auto_flow": null,
            "grid_area": null,
            "grid_template_columns": null,
            "flex": null,
            "_model_name": "LayoutModel",
            "justify_items": null,
            "grid_row": null,
            "max_height": null,
            "align_content": null,
            "visibility": null,
            "align_self": null,
            "height": null,
            "min_height": null,
            "padding": null,
            "grid_auto_rows": null,
            "grid_gap": null,
            "max_width": null,
            "order": null,
            "_view_module_version": "1.2.0",
            "grid_template_areas": null,
            "object_position": null,
            "object_fit": null,
            "grid_auto_columns": null,
            "margin": null,
            "display": null,
            "left": null
          }
        },
        "7236dbe6643a4587b4851334f4b3492c": {
          "model_module": "@jupyter-widgets/controls",
          "model_name": "DescriptionStyleModel",
          "model_module_version": "1.5.0",
          "state": {
            "_view_name": "StyleView",
            "_model_name": "DescriptionStyleModel",
            "description_width": "",
            "_view_module": "@jupyter-widgets/base",
            "_model_module_version": "1.5.0",
            "_view_count": null,
            "_view_module_version": "1.2.0",
            "_model_module": "@jupyter-widgets/controls"
          }
        },
        "d9e7b871e00d4cfe895535b602728148": {
          "model_module": "@jupyter-widgets/base",
          "model_name": "LayoutModel",
          "model_module_version": "1.2.0",
          "state": {
            "_view_name": "LayoutView",
            "grid_template_rows": null,
            "right": null,
            "justify_content": null,
            "_view_module": "@jupyter-widgets/base",
            "overflow": null,
            "_model_module_version": "1.2.0",
            "_view_count": null,
            "flex_flow": null,
            "width": null,
            "min_width": null,
            "border": null,
            "align_items": null,
            "bottom": null,
            "_model_module": "@jupyter-widgets/base",
            "top": null,
            "grid_column": null,
            "overflow_y": null,
            "overflow_x": null,
            "grid_auto_flow": null,
            "grid_area": null,
            "grid_template_columns": null,
            "flex": null,
            "_model_name": "LayoutModel",
            "justify_items": null,
            "grid_row": null,
            "max_height": null,
            "align_content": null,
            "visibility": null,
            "align_self": null,
            "height": null,
            "min_height": null,
            "padding": null,
            "grid_auto_rows": null,
            "grid_gap": null,
            "max_width": null,
            "order": null,
            "_view_module_version": "1.2.0",
            "grid_template_areas": null,
            "object_position": null,
            "object_fit": null,
            "grid_auto_columns": null,
            "margin": null,
            "display": null,
            "left": null
          }
        },
        "8de684aa56c74b0a934cbee5b43bf969": {
          "model_module": "@jupyter-widgets/controls",
          "model_name": "HBoxModel",
          "model_module_version": "1.5.0",
          "state": {
            "_view_name": "HBoxView",
            "_dom_classes": [],
            "_model_name": "HBoxModel",
            "_view_module": "@jupyter-widgets/controls",
            "_model_module_version": "1.5.0",
            "_view_count": null,
            "_view_module_version": "1.5.0",
            "box_style": "",
            "layout": "IPY_MODEL_3c546126a3604950ba7b2f45f7daf2bb",
            "_model_module": "@jupyter-widgets/controls",
            "children": [
              "IPY_MODEL_aee3325c9c4446e3a9b1ee248f5cd50f",
              "IPY_MODEL_c086926ae319468aa9cc7b1257b770e6",
              "IPY_MODEL_b94838e2adbf45069c3ca9045bd1b33e"
            ]
          }
        },
        "3c546126a3604950ba7b2f45f7daf2bb": {
          "model_module": "@jupyter-widgets/base",
          "model_name": "LayoutModel",
          "model_module_version": "1.2.0",
          "state": {
            "_view_name": "LayoutView",
            "grid_template_rows": null,
            "right": null,
            "justify_content": null,
            "_view_module": "@jupyter-widgets/base",
            "overflow": null,
            "_model_module_version": "1.2.0",
            "_view_count": null,
            "flex_flow": null,
            "width": null,
            "min_width": null,
            "border": null,
            "align_items": null,
            "bottom": null,
            "_model_module": "@jupyter-widgets/base",
            "top": null,
            "grid_column": null,
            "overflow_y": null,
            "overflow_x": null,
            "grid_auto_flow": null,
            "grid_area": null,
            "grid_template_columns": null,
            "flex": null,
            "_model_name": "LayoutModel",
            "justify_items": null,
            "grid_row": null,
            "max_height": null,
            "align_content": null,
            "visibility": null,
            "align_self": null,
            "height": null,
            "min_height": null,
            "padding": null,
            "grid_auto_rows": null,
            "grid_gap": null,
            "max_width": null,
            "order": null,
            "_view_module_version": "1.2.0",
            "grid_template_areas": null,
            "object_position": null,
            "object_fit": null,
            "grid_auto_columns": null,
            "margin": null,
            "display": null,
            "left": null
          }
        },
        "aee3325c9c4446e3a9b1ee248f5cd50f": {
          "model_module": "@jupyter-widgets/controls",
          "model_name": "HTMLModel",
          "model_module_version": "1.5.0",
          "state": {
            "_view_name": "HTMLView",
            "style": "IPY_MODEL_e243302f19294870a60e687f53a18a87",
            "_dom_classes": [],
            "description": "",
            "_model_name": "HTMLModel",
            "placeholder": "​",
            "_view_module": "@jupyter-widgets/controls",
            "_model_module_version": "1.5.0",
            "value": " 83%",
            "_view_count": null,
            "_view_module_version": "1.5.0",
            "description_tooltip": null,
            "_model_module": "@jupyter-widgets/controls",
            "layout": "IPY_MODEL_257c772c35bc4dfabbb8afcd741341be"
          }
        },
        "c086926ae319468aa9cc7b1257b770e6": {
          "model_module": "@jupyter-widgets/controls",
          "model_name": "FloatProgressModel",
          "model_module_version": "1.5.0",
          "state": {
            "_view_name": "ProgressView",
            "style": "IPY_MODEL_15f1aa00c2ce4de8a4ba1b12b7ca5199",
            "_dom_classes": [],
            "description": "",
            "_model_name": "FloatProgressModel",
            "bar_style": "danger",
            "max": 233,
            "_view_module": "@jupyter-widgets/controls",
            "_model_module_version": "1.5.0",
            "value": 194,
            "_view_count": null,
            "_view_module_version": "1.5.0",
            "orientation": "horizontal",
            "min": 0,
            "description_tooltip": null,
            "_model_module": "@jupyter-widgets/controls",
            "layout": "IPY_MODEL_02b633eae11f404889bbafdc70b1fe96"
          }
        },
        "b94838e2adbf45069c3ca9045bd1b33e": {
          "model_module": "@jupyter-widgets/controls",
          "model_name": "HTMLModel",
          "model_module_version": "1.5.0",
          "state": {
            "_view_name": "HTMLView",
            "style": "IPY_MODEL_cd4d38c9c57942879d040fbd7d69f1a3",
            "_dom_classes": [],
            "description": "",
            "_model_name": "HTMLModel",
            "placeholder": "​",
            "_view_module": "@jupyter-widgets/controls",
            "_model_module_version": "1.5.0",
            "value": " 194/233 [00:00&lt;00:00, 387.21it/s]",
            "_view_count": null,
            "_view_module_version": "1.5.0",
            "description_tooltip": null,
            "_model_module": "@jupyter-widgets/controls",
            "layout": "IPY_MODEL_1bbc8a187803446ca442ffc3e13653fb"
          }
        },
        "e243302f19294870a60e687f53a18a87": {
          "model_module": "@jupyter-widgets/controls",
          "model_name": "DescriptionStyleModel",
          "model_module_version": "1.5.0",
          "state": {
            "_view_name": "StyleView",
            "_model_name": "DescriptionStyleModel",
            "description_width": "",
            "_view_module": "@jupyter-widgets/base",
            "_model_module_version": "1.5.0",
            "_view_count": null,
            "_view_module_version": "1.2.0",
            "_model_module": "@jupyter-widgets/controls"
          }
        },
        "257c772c35bc4dfabbb8afcd741341be": {
          "model_module": "@jupyter-widgets/base",
          "model_name": "LayoutModel",
          "model_module_version": "1.2.0",
          "state": {
            "_view_name": "LayoutView",
            "grid_template_rows": null,
            "right": null,
            "justify_content": null,
            "_view_module": "@jupyter-widgets/base",
            "overflow": null,
            "_model_module_version": "1.2.0",
            "_view_count": null,
            "flex_flow": null,
            "width": null,
            "min_width": null,
            "border": null,
            "align_items": null,
            "bottom": null,
            "_model_module": "@jupyter-widgets/base",
            "top": null,
            "grid_column": null,
            "overflow_y": null,
            "overflow_x": null,
            "grid_auto_flow": null,
            "grid_area": null,
            "grid_template_columns": null,
            "flex": null,
            "_model_name": "LayoutModel",
            "justify_items": null,
            "grid_row": null,
            "max_height": null,
            "align_content": null,
            "visibility": null,
            "align_self": null,
            "height": null,
            "min_height": null,
            "padding": null,
            "grid_auto_rows": null,
            "grid_gap": null,
            "max_width": null,
            "order": null,
            "_view_module_version": "1.2.0",
            "grid_template_areas": null,
            "object_position": null,
            "object_fit": null,
            "grid_auto_columns": null,
            "margin": null,
            "display": null,
            "left": null
          }
        },
        "15f1aa00c2ce4de8a4ba1b12b7ca5199": {
          "model_module": "@jupyter-widgets/controls",
          "model_name": "ProgressStyleModel",
          "model_module_version": "1.5.0",
          "state": {
            "_view_name": "StyleView",
            "_model_name": "ProgressStyleModel",
            "description_width": "",
            "_view_module": "@jupyter-widgets/base",
            "_model_module_version": "1.5.0",
            "_view_count": null,
            "_view_module_version": "1.2.0",
            "bar_color": null,
            "_model_module": "@jupyter-widgets/controls"
          }
        },
        "02b633eae11f404889bbafdc70b1fe96": {
          "model_module": "@jupyter-widgets/base",
          "model_name": "LayoutModel",
          "model_module_version": "1.2.0",
          "state": {
            "_view_name": "LayoutView",
            "grid_template_rows": null,
            "right": null,
            "justify_content": null,
            "_view_module": "@jupyter-widgets/base",
            "overflow": null,
            "_model_module_version": "1.2.0",
            "_view_count": null,
            "flex_flow": null,
            "width": null,
            "min_width": null,
            "border": null,
            "align_items": null,
            "bottom": null,
            "_model_module": "@jupyter-widgets/base",
            "top": null,
            "grid_column": null,
            "overflow_y": null,
            "overflow_x": null,
            "grid_auto_flow": null,
            "grid_area": null,
            "grid_template_columns": null,
            "flex": null,
            "_model_name": "LayoutModel",
            "justify_items": null,
            "grid_row": null,
            "max_height": null,
            "align_content": null,
            "visibility": null,
            "align_self": null,
            "height": null,
            "min_height": null,
            "padding": null,
            "grid_auto_rows": null,
            "grid_gap": null,
            "max_width": null,
            "order": null,
            "_view_module_version": "1.2.0",
            "grid_template_areas": null,
            "object_position": null,
            "object_fit": null,
            "grid_auto_columns": null,
            "margin": null,
            "display": null,
            "left": null
          }
        },
        "cd4d38c9c57942879d040fbd7d69f1a3": {
          "model_module": "@jupyter-widgets/controls",
          "model_name": "DescriptionStyleModel",
          "model_module_version": "1.5.0",
          "state": {
            "_view_name": "StyleView",
            "_model_name": "DescriptionStyleModel",
            "description_width": "",
            "_view_module": "@jupyter-widgets/base",
            "_model_module_version": "1.5.0",
            "_view_count": null,
            "_view_module_version": "1.2.0",
            "_model_module": "@jupyter-widgets/controls"
          }
        },
        "1bbc8a187803446ca442ffc3e13653fb": {
          "model_module": "@jupyter-widgets/base",
          "model_name": "LayoutModel",
          "model_module_version": "1.2.0",
          "state": {
            "_view_name": "LayoutView",
            "grid_template_rows": null,
            "right": null,
            "justify_content": null,
            "_view_module": "@jupyter-widgets/base",
            "overflow": null,
            "_model_module_version": "1.2.0",
            "_view_count": null,
            "flex_flow": null,
            "width": null,
            "min_width": null,
            "border": null,
            "align_items": null,
            "bottom": null,
            "_model_module": "@jupyter-widgets/base",
            "top": null,
            "grid_column": null,
            "overflow_y": null,
            "overflow_x": null,
            "grid_auto_flow": null,
            "grid_area": null,
            "grid_template_columns": null,
            "flex": null,
            "_model_name": "LayoutModel",
            "justify_items": null,
            "grid_row": null,
            "max_height": null,
            "align_content": null,
            "visibility": null,
            "align_self": null,
            "height": null,
            "min_height": null,
            "padding": null,
            "grid_auto_rows": null,
            "grid_gap": null,
            "max_width": null,
            "order": null,
            "_view_module_version": "1.2.0",
            "grid_template_areas": null,
            "object_position": null,
            "object_fit": null,
            "grid_auto_columns": null,
            "margin": null,
            "display": null,
            "left": null
          }
        },
        "b6565411488547f08c49d0b5b45f032c": {
          "model_module": "@jupyter-widgets/controls",
          "model_name": "HBoxModel",
          "model_module_version": "1.5.0",
          "state": {
            "_view_name": "HBoxView",
            "_dom_classes": [],
            "_model_name": "HBoxModel",
            "_view_module": "@jupyter-widgets/controls",
            "_model_module_version": "1.5.0",
            "_view_count": null,
            "_view_module_version": "1.5.0",
            "box_style": "",
            "layout": "IPY_MODEL_4c2f7547385a4ad591991b14ecd57c96",
            "_model_module": "@jupyter-widgets/controls",
            "children": [
              "IPY_MODEL_572a67edbc3d4aceb3887427c1ecace2",
              "IPY_MODEL_7d3428a03b5241d6be709085cbf413af",
              "IPY_MODEL_ceb8eb1c26ab4ca7b0f72e049a119236"
            ]
          }
        },
        "4c2f7547385a4ad591991b14ecd57c96": {
          "model_module": "@jupyter-widgets/base",
          "model_name": "LayoutModel",
          "model_module_version": "1.2.0",
          "state": {
            "_view_name": "LayoutView",
            "grid_template_rows": null,
            "right": null,
            "justify_content": null,
            "_view_module": "@jupyter-widgets/base",
            "overflow": null,
            "_model_module_version": "1.2.0",
            "_view_count": null,
            "flex_flow": null,
            "width": null,
            "min_width": null,
            "border": null,
            "align_items": null,
            "bottom": null,
            "_model_module": "@jupyter-widgets/base",
            "top": null,
            "grid_column": null,
            "overflow_y": null,
            "overflow_x": null,
            "grid_auto_flow": null,
            "grid_area": null,
            "grid_template_columns": null,
            "flex": null,
            "_model_name": "LayoutModel",
            "justify_items": null,
            "grid_row": null,
            "max_height": null,
            "align_content": null,
            "visibility": null,
            "align_self": null,
            "height": null,
            "min_height": null,
            "padding": null,
            "grid_auto_rows": null,
            "grid_gap": null,
            "max_width": null,
            "order": null,
            "_view_module_version": "1.2.0",
            "grid_template_areas": null,
            "object_position": null,
            "object_fit": null,
            "grid_auto_columns": null,
            "margin": null,
            "display": null,
            "left": null
          }
        },
        "572a67edbc3d4aceb3887427c1ecace2": {
          "model_module": "@jupyter-widgets/controls",
          "model_name": "HTMLModel",
          "model_module_version": "1.5.0",
          "state": {
            "_view_name": "HTMLView",
            "style": "IPY_MODEL_9570084b2c31437b99b5040146265e3c",
            "_dom_classes": [],
            "description": "",
            "_model_name": "HTMLModel",
            "placeholder": "​",
            "_view_module": "@jupyter-widgets/controls",
            "_model_module_version": "1.5.0",
            "value": " 84%",
            "_view_count": null,
            "_view_module_version": "1.5.0",
            "description_tooltip": null,
            "_model_module": "@jupyter-widgets/controls",
            "layout": "IPY_MODEL_2e28fb6f28dd4ba89c375c29cf533175"
          }
        },
        "7d3428a03b5241d6be709085cbf413af": {
          "model_module": "@jupyter-widgets/controls",
          "model_name": "FloatProgressModel",
          "model_module_version": "1.5.0",
          "state": {
            "_view_name": "ProgressView",
            "style": "IPY_MODEL_911221e687ec4f9bbfda13f011144261",
            "_dom_classes": [],
            "description": "",
            "_model_name": "FloatProgressModel",
            "bar_style": "danger",
            "max": 233,
            "_view_module": "@jupyter-widgets/controls",
            "_model_module_version": "1.5.0",
            "value": 195,
            "_view_count": null,
            "_view_module_version": "1.5.0",
            "orientation": "horizontal",
            "min": 0,
            "description_tooltip": null,
            "_model_module": "@jupyter-widgets/controls",
            "layout": "IPY_MODEL_7538fdbaf7e141c89c42e37f815aec3a"
          }
        },
        "ceb8eb1c26ab4ca7b0f72e049a119236": {
          "model_module": "@jupyter-widgets/controls",
          "model_name": "HTMLModel",
          "model_module_version": "1.5.0",
          "state": {
            "_view_name": "HTMLView",
            "style": "IPY_MODEL_33db58e9e7414f2a90e048960f315fe3",
            "_dom_classes": [],
            "description": "",
            "_model_name": "HTMLModel",
            "placeholder": "​",
            "_view_module": "@jupyter-widgets/controls",
            "_model_module_version": "1.5.0",
            "value": " 195/233 [00:00&lt;00:00, 378.60it/s]",
            "_view_count": null,
            "_view_module_version": "1.5.0",
            "description_tooltip": null,
            "_model_module": "@jupyter-widgets/controls",
            "layout": "IPY_MODEL_64751a7ddaa54e15ba03735c5f70fe86"
          }
        },
        "9570084b2c31437b99b5040146265e3c": {
          "model_module": "@jupyter-widgets/controls",
          "model_name": "DescriptionStyleModel",
          "model_module_version": "1.5.0",
          "state": {
            "_view_name": "StyleView",
            "_model_name": "DescriptionStyleModel",
            "description_width": "",
            "_view_module": "@jupyter-widgets/base",
            "_model_module_version": "1.5.0",
            "_view_count": null,
            "_view_module_version": "1.2.0",
            "_model_module": "@jupyter-widgets/controls"
          }
        },
        "2e28fb6f28dd4ba89c375c29cf533175": {
          "model_module": "@jupyter-widgets/base",
          "model_name": "LayoutModel",
          "model_module_version": "1.2.0",
          "state": {
            "_view_name": "LayoutView",
            "grid_template_rows": null,
            "right": null,
            "justify_content": null,
            "_view_module": "@jupyter-widgets/base",
            "overflow": null,
            "_model_module_version": "1.2.0",
            "_view_count": null,
            "flex_flow": null,
            "width": null,
            "min_width": null,
            "border": null,
            "align_items": null,
            "bottom": null,
            "_model_module": "@jupyter-widgets/base",
            "top": null,
            "grid_column": null,
            "overflow_y": null,
            "overflow_x": null,
            "grid_auto_flow": null,
            "grid_area": null,
            "grid_template_columns": null,
            "flex": null,
            "_model_name": "LayoutModel",
            "justify_items": null,
            "grid_row": null,
            "max_height": null,
            "align_content": null,
            "visibility": null,
            "align_self": null,
            "height": null,
            "min_height": null,
            "padding": null,
            "grid_auto_rows": null,
            "grid_gap": null,
            "max_width": null,
            "order": null,
            "_view_module_version": "1.2.0",
            "grid_template_areas": null,
            "object_position": null,
            "object_fit": null,
            "grid_auto_columns": null,
            "margin": null,
            "display": null,
            "left": null
          }
        },
        "911221e687ec4f9bbfda13f011144261": {
          "model_module": "@jupyter-widgets/controls",
          "model_name": "ProgressStyleModel",
          "model_module_version": "1.5.0",
          "state": {
            "_view_name": "StyleView",
            "_model_name": "ProgressStyleModel",
            "description_width": "",
            "_view_module": "@jupyter-widgets/base",
            "_model_module_version": "1.5.0",
            "_view_count": null,
            "_view_module_version": "1.2.0",
            "bar_color": null,
            "_model_module": "@jupyter-widgets/controls"
          }
        },
        "7538fdbaf7e141c89c42e37f815aec3a": {
          "model_module": "@jupyter-widgets/base",
          "model_name": "LayoutModel",
          "model_module_version": "1.2.0",
          "state": {
            "_view_name": "LayoutView",
            "grid_template_rows": null,
            "right": null,
            "justify_content": null,
            "_view_module": "@jupyter-widgets/base",
            "overflow": null,
            "_model_module_version": "1.2.0",
            "_view_count": null,
            "flex_flow": null,
            "width": null,
            "min_width": null,
            "border": null,
            "align_items": null,
            "bottom": null,
            "_model_module": "@jupyter-widgets/base",
            "top": null,
            "grid_column": null,
            "overflow_y": null,
            "overflow_x": null,
            "grid_auto_flow": null,
            "grid_area": null,
            "grid_template_columns": null,
            "flex": null,
            "_model_name": "LayoutModel",
            "justify_items": null,
            "grid_row": null,
            "max_height": null,
            "align_content": null,
            "visibility": null,
            "align_self": null,
            "height": null,
            "min_height": null,
            "padding": null,
            "grid_auto_rows": null,
            "grid_gap": null,
            "max_width": null,
            "order": null,
            "_view_module_version": "1.2.0",
            "grid_template_areas": null,
            "object_position": null,
            "object_fit": null,
            "grid_auto_columns": null,
            "margin": null,
            "display": null,
            "left": null
          }
        },
        "33db58e9e7414f2a90e048960f315fe3": {
          "model_module": "@jupyter-widgets/controls",
          "model_name": "DescriptionStyleModel",
          "model_module_version": "1.5.0",
          "state": {
            "_view_name": "StyleView",
            "_model_name": "DescriptionStyleModel",
            "description_width": "",
            "_view_module": "@jupyter-widgets/base",
            "_model_module_version": "1.5.0",
            "_view_count": null,
            "_view_module_version": "1.2.0",
            "_model_module": "@jupyter-widgets/controls"
          }
        },
        "64751a7ddaa54e15ba03735c5f70fe86": {
          "model_module": "@jupyter-widgets/base",
          "model_name": "LayoutModel",
          "model_module_version": "1.2.0",
          "state": {
            "_view_name": "LayoutView",
            "grid_template_rows": null,
            "right": null,
            "justify_content": null,
            "_view_module": "@jupyter-widgets/base",
            "overflow": null,
            "_model_module_version": "1.2.0",
            "_view_count": null,
            "flex_flow": null,
            "width": null,
            "min_width": null,
            "border": null,
            "align_items": null,
            "bottom": null,
            "_model_module": "@jupyter-widgets/base",
            "top": null,
            "grid_column": null,
            "overflow_y": null,
            "overflow_x": null,
            "grid_auto_flow": null,
            "grid_area": null,
            "grid_template_columns": null,
            "flex": null,
            "_model_name": "LayoutModel",
            "justify_items": null,
            "grid_row": null,
            "max_height": null,
            "align_content": null,
            "visibility": null,
            "align_self": null,
            "height": null,
            "min_height": null,
            "padding": null,
            "grid_auto_rows": null,
            "grid_gap": null,
            "max_width": null,
            "order": null,
            "_view_module_version": "1.2.0",
            "grid_template_areas": null,
            "object_position": null,
            "object_fit": null,
            "grid_auto_columns": null,
            "margin": null,
            "display": null,
            "left": null
          }
        }
      }
    }
  },
  "cells": [
    {
      "cell_type": "markdown",
      "metadata": {
        "id": "VMPDxYyw5d6h"
      },
      "source": [
        "# Prophet(Facebook) and [NeuralProphet](https://github.com/ourownstory/neural_prophet) Comparison\n",
        "By: Jhonnatan Torres\n",
        "\n",
        "The goal of this notebook is to compare the *expected values* forecasted by these two models and compare them against the actuals in order to calculate the performance metrics and define which model performs better using this time series dataset (Covid19 Confirmed Cases for Colombia)\n",
        "___ "
      ]
    },
    {
      "cell_type": "markdown",
      "metadata": {
        "id": "00MQ79C35ueh"
      },
      "source": [
        "Importing basic libraries"
      ]
    },
    {
      "cell_type": "code",
      "metadata": {
        "id": "0Ricp40n5W3h"
      },
      "source": [
        "import pandas as pd\n",
        "import numpy as np\n",
        "import matplotlib.pyplot as plt\n",
        "import seaborn as sns"
      ],
      "execution_count": 1,
      "outputs": []
    },
    {
      "cell_type": "code",
      "metadata": {
        "id": "I85geYiv55Tc"
      },
      "source": [
        "np.random.seed(1234)"
      ],
      "execution_count": 2,
      "outputs": []
    },
    {
      "cell_type": "code",
      "metadata": {
        "id": "ngJzMaV17JSb"
      },
      "source": [
        "plt.style.use('ggplot')"
      ],
      "execution_count": 3,
      "outputs": []
    },
    {
      "cell_type": "markdown",
      "metadata": {
        "id": "Ixo5-LLZ6Dlq"
      },
      "source": [
        "Reading the time series"
      ]
    },
    {
      "cell_type": "code",
      "metadata": {
        "id": "hB6idvof57M3"
      },
      "source": [
        "ts = pd.read_csv('https://raw.githubusercontent.com/JOTOR/Datasets/main/Colombia_CovidV2.csv', parse_dates=True)"
      ],
      "execution_count": 4,
      "outputs": []
    },
    {
      "cell_type": "code",
      "metadata": {
        "colab": {
          "base_uri": "https://localhost:8080/",
          "height": 204
        },
        "id": "MoGJH6rE58vv",
        "outputId": "51b845fa-e714-480f-9661-86f3daeafbd8"
      },
      "source": [
        "ts.head()"
      ],
      "execution_count": 5,
      "outputs": [
        {
          "output_type": "execute_result",
          "data": {
            "text/html": [
              "<div>\n",
              "<style scoped>\n",
              "    .dataframe tbody tr th:only-of-type {\n",
              "        vertical-align: middle;\n",
              "    }\n",
              "\n",
              "    .dataframe tbody tr th {\n",
              "        vertical-align: top;\n",
              "    }\n",
              "\n",
              "    .dataframe thead th {\n",
              "        text-align: right;\n",
              "    }\n",
              "</style>\n",
              "<table border=\"1\" class=\"dataframe\">\n",
              "  <thead>\n",
              "    <tr style=\"text-align: right;\">\n",
              "      <th></th>\n",
              "      <th>item_id</th>\n",
              "      <th>timestamp</th>\n",
              "      <th>target_value</th>\n",
              "    </tr>\n",
              "  </thead>\n",
              "  <tbody>\n",
              "    <tr>\n",
              "      <th>0</th>\n",
              "      <td>1</td>\n",
              "      <td>2020-03-06</td>\n",
              "      <td>1</td>\n",
              "    </tr>\n",
              "    <tr>\n",
              "      <th>1</th>\n",
              "      <td>1</td>\n",
              "      <td>2020-03-10</td>\n",
              "      <td>2</td>\n",
              "    </tr>\n",
              "    <tr>\n",
              "      <th>2</th>\n",
              "      <td>1</td>\n",
              "      <td>2020-03-11</td>\n",
              "      <td>6</td>\n",
              "    </tr>\n",
              "    <tr>\n",
              "      <th>3</th>\n",
              "      <td>1</td>\n",
              "      <td>2020-03-13</td>\n",
              "      <td>4</td>\n",
              "    </tr>\n",
              "    <tr>\n",
              "      <th>4</th>\n",
              "      <td>1</td>\n",
              "      <td>2020-03-14</td>\n",
              "      <td>9</td>\n",
              "    </tr>\n",
              "  </tbody>\n",
              "</table>\n",
              "</div>"
            ],
            "text/plain": [
              "   item_id   timestamp  target_value\n",
              "0        1  2020-03-06             1\n",
              "1        1  2020-03-10             2\n",
              "2        1  2020-03-11             6\n",
              "3        1  2020-03-13             4\n",
              "4        1  2020-03-14             9"
            ]
          },
          "metadata": {},
          "execution_count": 5
        }
      ]
    },
    {
      "cell_type": "markdown",
      "metadata": {
        "id": "b61HfMA16Xqn"
      },
      "source": [
        "This is the data format required by AWS Forecast, in order to use this time series with Prophet some changes are required, the first column should be removed and the names of the remaining columns should be changed"
      ]
    },
    {
      "cell_type": "code",
      "metadata": {
        "id": "6xBBx1BI58rT"
      },
      "source": [
        "ts.drop(columns='item_id', inplace=True)\n",
        "ts.rename(columns={'timestamp':'ds','target_value':'y'},inplace=True)"
      ],
      "execution_count": 6,
      "outputs": []
    },
    {
      "cell_type": "code",
      "metadata": {
        "colab": {
          "base_uri": "https://localhost:8080/",
          "height": 204
        },
        "id": "AABTsdSo58nG",
        "outputId": "acf4a8da-9ddc-43e6-81cb-2148981aa8d9"
      },
      "source": [
        "ts.head()"
      ],
      "execution_count": 7,
      "outputs": [
        {
          "output_type": "execute_result",
          "data": {
            "text/html": [
              "<div>\n",
              "<style scoped>\n",
              "    .dataframe tbody tr th:only-of-type {\n",
              "        vertical-align: middle;\n",
              "    }\n",
              "\n",
              "    .dataframe tbody tr th {\n",
              "        vertical-align: top;\n",
              "    }\n",
              "\n",
              "    .dataframe thead th {\n",
              "        text-align: right;\n",
              "    }\n",
              "</style>\n",
              "<table border=\"1\" class=\"dataframe\">\n",
              "  <thead>\n",
              "    <tr style=\"text-align: right;\">\n",
              "      <th></th>\n",
              "      <th>ds</th>\n",
              "      <th>y</th>\n",
              "    </tr>\n",
              "  </thead>\n",
              "  <tbody>\n",
              "    <tr>\n",
              "      <th>0</th>\n",
              "      <td>2020-03-06</td>\n",
              "      <td>1</td>\n",
              "    </tr>\n",
              "    <tr>\n",
              "      <th>1</th>\n",
              "      <td>2020-03-10</td>\n",
              "      <td>2</td>\n",
              "    </tr>\n",
              "    <tr>\n",
              "      <th>2</th>\n",
              "      <td>2020-03-11</td>\n",
              "      <td>6</td>\n",
              "    </tr>\n",
              "    <tr>\n",
              "      <th>3</th>\n",
              "      <td>2020-03-13</td>\n",
              "      <td>4</td>\n",
              "    </tr>\n",
              "    <tr>\n",
              "      <th>4</th>\n",
              "      <td>2020-03-14</td>\n",
              "      <td>9</td>\n",
              "    </tr>\n",
              "  </tbody>\n",
              "</table>\n",
              "</div>"
            ],
            "text/plain": [
              "           ds  y\n",
              "0  2020-03-06  1\n",
              "1  2020-03-10  2\n",
              "2  2020-03-11  6\n",
              "3  2020-03-13  4\n",
              "4  2020-03-14  9"
            ]
          },
          "metadata": {},
          "execution_count": 7
        }
      ]
    },
    {
      "cell_type": "code",
      "metadata": {
        "colab": {
          "base_uri": "https://localhost:8080/",
          "height": 204
        },
        "id": "eaZPrhkh7d-o",
        "outputId": "058c818e-63a3-4a40-f1f7-9f41dfed2576"
      },
      "source": [
        "ts.tail()"
      ],
      "execution_count": 8,
      "outputs": [
        {
          "output_type": "execute_result",
          "data": {
            "text/html": [
              "<div>\n",
              "<style scoped>\n",
              "    .dataframe tbody tr th:only-of-type {\n",
              "        vertical-align: middle;\n",
              "    }\n",
              "\n",
              "    .dataframe tbody tr th {\n",
              "        vertical-align: top;\n",
              "    }\n",
              "\n",
              "    .dataframe thead th {\n",
              "        text-align: right;\n",
              "    }\n",
              "</style>\n",
              "<table border=\"1\" class=\"dataframe\">\n",
              "  <thead>\n",
              "    <tr style=\"text-align: right;\">\n",
              "      <th></th>\n",
              "      <th>ds</th>\n",
              "      <th>y</th>\n",
              "    </tr>\n",
              "  </thead>\n",
              "  <tbody>\n",
              "    <tr>\n",
              "      <th>444</th>\n",
              "      <td>2021-05-28</td>\n",
              "      <td>23374</td>\n",
              "    </tr>\n",
              "    <tr>\n",
              "      <th>445</th>\n",
              "      <td>2021-05-29</td>\n",
              "      <td>20494</td>\n",
              "    </tr>\n",
              "    <tr>\n",
              "      <th>446</th>\n",
              "      <td>2021-05-30</td>\n",
              "      <td>20218</td>\n",
              "    </tr>\n",
              "    <tr>\n",
              "      <th>447</th>\n",
              "      <td>2021-05-31</td>\n",
              "      <td>23177</td>\n",
              "    </tr>\n",
              "    <tr>\n",
              "      <th>448</th>\n",
              "      <td>2021-06-01</td>\n",
              "      <td>25966</td>\n",
              "    </tr>\n",
              "  </tbody>\n",
              "</table>\n",
              "</div>"
            ],
            "text/plain": [
              "             ds      y\n",
              "444  2021-05-28  23374\n",
              "445  2021-05-29  20494\n",
              "446  2021-05-30  20218\n",
              "447  2021-05-31  23177\n",
              "448  2021-06-01  25966"
            ]
          },
          "metadata": {},
          "execution_count": 8
        }
      ]
    },
    {
      "cell_type": "code",
      "metadata": {
        "colab": {
          "base_uri": "https://localhost:8080/",
          "height": 425
        },
        "id": "vDiPYmpK58jC",
        "outputId": "fd851d04-e739-4b2f-86e7-0dde71e1db57"
      },
      "source": [
        "ts.set_index('ds').plot(figsize=(12,6))\n",
        "plt.title('Time Series Plot')"
      ],
      "execution_count": 9,
      "outputs": [
        {
          "output_type": "execute_result",
          "data": {
            "text/plain": [
              "Text(0.5, 1.0, 'Time Series Plot')"
            ]
          },
          "metadata": {},
          "execution_count": 9
        },
        {
          "output_type": "display_data",
          "data": {
            "image/png": "[encoded data removed]",
            "text/plain": [
              "<Figure size 864x432 with 1 Axes>"
            ]
          },
          "metadata": {}
        }
      ]
    },
    {
      "cell_type": "markdown",
      "metadata": {
        "id": "KS5j2phf7qCa"
      },
      "source": [
        "## Prophet Model"
      ]
    },
    {
      "cell_type": "code",
      "metadata": {
        "id": "PsCA_oCp7yYV"
      },
      "source": [
        "!pip install prophet -q"
      ],
      "execution_count": 10,
      "outputs": []
    },
    {
      "cell_type": "code",
      "metadata": {
        "id": "lFac0jli58e3"
      },
      "source": [
        "from prophet import Prophet"
      ],
      "execution_count": 11,
      "outputs": []
    },
    {
      "cell_type": "code",
      "metadata": {
        "id": "3_6QOV_258bJ"
      },
      "source": [
        "m = Prophet(seasonality_mode='multiplicative').add_country_holidays(country_name='CO')"
      ],
      "execution_count": 12,
      "outputs": []
    },
    {
      "cell_type": "markdown",
      "metadata": {
        "id": "n_TgzjgP9pki"
      },
      "source": [
        "*   Holidays for Colombia were included, this is a time series specific for this country\n",
        "*   Using default settings, only the seasonality mode is set to *Multiplicative*\n",
        "\n"
      ]
    },
    {
      "cell_type": "code",
      "metadata": {
        "colab": {
          "base_uri": "https://localhost:8080/"
        },
        "id": "9AcZ5Kga58XQ",
        "outputId": "cc2a687c-4507-4114-ce8a-b52d1ab04906"
      },
      "source": [
        "m.fit(ts)"
      ],
      "execution_count": 13,
      "outputs": [
        {
          "output_type": "stream",
          "name": "stderr",
          "text": [
            "INFO:numexpr.utils:NumExpr defaulting to 2 threads.\n",
            "INFO:prophet:Disabling yearly seasonality. Run prophet with yearly_seasonality=True to override this.\n",
            "INFO:prophet:Disabling daily seasonality. Run prophet with daily_seasonality=True to override this.\n"
          ]
        },
        {
          "output_type": "execute_result",
          "data": {
            "text/plain": [
              "<prophet.forecaster.Prophet at 0x7ff7d248a690>"
            ]
          },
          "metadata": {},
          "execution_count": 13
        }
      ]
    },
    {
      "cell_type": "code",
      "metadata": {
        "id": "Iq-KLct058TY"
      },
      "source": [
        "future = m.make_future_dataframe(periods=30, freq='D')"
      ],
      "execution_count": 14,
      "outputs": []
    },
    {
      "cell_type": "code",
      "metadata": {
        "colab": {
          "base_uri": "https://localhost:8080/",
          "height": 204
        },
        "id": "6dGM0yvo58Pd",
        "outputId": "e21a8994-6a46-4c43-9138-54e0d313d057"
      },
      "source": [
        "future.tail(5)"
      ],
      "execution_count": 15,
      "outputs": [
        {
          "output_type": "execute_result",
          "data": {
            "text/html": [
              "<div>\n",
              "<style scoped>\n",
              "    .dataframe tbody tr th:only-of-type {\n",
              "        vertical-align: middle;\n",
              "    }\n",
              "\n",
              "    .dataframe tbody tr th {\n",
              "        vertical-align: top;\n",
              "    }\n",
              "\n",
              "    .dataframe thead th {\n",
              "        text-align: right;\n",
              "    }\n",
              "</style>\n",
              "<table border=\"1\" class=\"dataframe\">\n",
              "  <thead>\n",
              "    <tr style=\"text-align: right;\">\n",
              "      <th></th>\n",
              "      <th>ds</th>\n",
              "    </tr>\n",
              "  </thead>\n",
              "  <tbody>\n",
              "    <tr>\n",
              "      <th>474</th>\n",
              "      <td>2021-06-27</td>\n",
              "    </tr>\n",
              "    <tr>\n",
              "      <th>475</th>\n",
              "      <td>2021-06-28</td>\n",
              "    </tr>\n",
              "    <tr>\n",
              "      <th>476</th>\n",
              "      <td>2021-06-29</td>\n",
              "    </tr>\n",
              "    <tr>\n",
              "      <th>477</th>\n",
              "      <td>2021-06-30</td>\n",
              "    </tr>\n",
              "    <tr>\n",
              "      <th>478</th>\n",
              "      <td>2021-07-01</td>\n",
              "    </tr>\n",
              "  </tbody>\n",
              "</table>\n",
              "</div>"
            ],
            "text/plain": [
              "            ds\n",
              "474 2021-06-27\n",
              "475 2021-06-28\n",
              "476 2021-06-29\n",
              "477 2021-06-30\n",
              "478 2021-07-01"
            ]
          },
          "metadata": {},
          "execution_count": 15
        }
      ]
    },
    {
      "cell_type": "code",
      "metadata": {
        "id": "OCdhcLtp58LY"
      },
      "source": [
        "forecast = m.predict(future)"
      ],
      "execution_count": 16,
      "outputs": []
    },
    {
      "cell_type": "code",
      "metadata": {
        "colab": {
          "base_uri": "https://localhost:8080/",
          "height": 474
        },
        "id": "0sfWkS3U58Hv",
        "outputId": "716da66a-95ee-4cc4-9752-8a8f78e2d1cf"
      },
      "source": [
        "forecast.tail()"
      ],
      "execution_count": 17,
      "outputs": [
        {
          "output_type": "execute_result",
          "data": {
            "text/html": [
              "<div>\n",
              "<style scoped>\n",
              "    .dataframe tbody tr th:only-of-type {\n",
              "        vertical-align: middle;\n",
              "    }\n",
              "\n",
              "    .dataframe tbody tr th {\n",
              "        vertical-align: top;\n",
              "    }\n",
              "\n",
              "    .dataframe thead th {\n",
              "        text-align: right;\n",
              "    }\n",
              "</style>\n",
              "<table border=\"1\" class=\"dataframe\">\n",
              "  <thead>\n",
              "    <tr style=\"text-align: right;\">\n",
              "      <th></th>\n",
              "      <th>ds</th>\n",
              "      <th>trend</th>\n",
              "      <th>yhat_lower</th>\n",
              "      <th>yhat_upper</th>\n",
              "      <th>trend_lower</th>\n",
              "      <th>trend_upper</th>\n",
              "      <th>Ascensión del señor [Ascension of Jesus](Observed)</th>\n",
              "      <th>Ascensión del señor [Ascension of Jesus](Observed)_lower</th>\n",
              "      <th>Ascensión del señor [Ascension of Jesus](Observed)_upper</th>\n",
              "      <th>Año Nuevo [New Year's Day]</th>\n",
              "      <th>Año Nuevo [New Year's Day]_lower</th>\n",
              "      <th>Año Nuevo [New Year's Day]_upper</th>\n",
              "      <th>Batalla de Boyacá [Battle of Boyacá]</th>\n",
              "      <th>Batalla de Boyacá [Battle of Boyacá]_lower</th>\n",
              "      <th>Batalla de Boyacá [Battle of Boyacá]_upper</th>\n",
              "      <th>Corpus Christi [Corpus Christi](Observed)</th>\n",
              "      <th>Corpus Christi [Corpus Christi](Observed)_lower</th>\n",
              "      <th>Corpus Christi [Corpus Christi](Observed)_upper</th>\n",
              "      <th>Descubrimiento de América [Discovery of America]</th>\n",
              "      <th>Descubrimiento de América [Discovery of America]_lower</th>\n",
              "      <th>Descubrimiento de América [Discovery of America]_upper</th>\n",
              "      <th>Descubrimiento de América [Discovery of America](Observed)</th>\n",
              "      <th>Descubrimiento de América [Discovery of America](Observed)_lower</th>\n",
              "      <th>Descubrimiento de América [Discovery of America](Observed)_upper</th>\n",
              "      <th>Dia de Todos los Santos [All Saint's Day]</th>\n",
              "      <th>Dia de Todos los Santos [All Saint's Day]_lower</th>\n",
              "      <th>Dia de Todos los Santos [All Saint's Day]_upper</th>\n",
              "      <th>Dia de Todos los Santos [All Saint's Day](Observed)</th>\n",
              "      <th>Dia de Todos los Santos [All Saint's Day](Observed)_lower</th>\n",
              "      <th>Dia de Todos los Santos [All Saint's Day](Observed)_upper</th>\n",
              "      <th>Día de San José [Saint Joseph's Day](Observed)</th>\n",
              "      <th>Día de San José [Saint Joseph's Day](Observed)_lower</th>\n",
              "      <th>Día de San José [Saint Joseph's Day](Observed)_upper</th>\n",
              "      <th>Día de la Independencia [Independence Day]</th>\n",
              "      <th>Día de la Independencia [Independence Day]_lower</th>\n",
              "      <th>Día de la Independencia [Independence Day]_upper</th>\n",
              "      <th>Día de los Reyes Magos [Epiphany]</th>\n",
              "      <th>Día de los Reyes Magos [Epiphany]_lower</th>\n",
              "      <th>Día de los Reyes Magos [Epiphany]_upper</th>\n",
              "      <th>Día de los Reyes Magos [Epiphany](Observed)</th>\n",
              "      <th>...</th>\n",
              "      <th>Independencia de Cartagena [Independence of Cartagena](Observed)</th>\n",
              "      <th>Independencia de Cartagena [Independence of Cartagena](Observed)_lower</th>\n",
              "      <th>Independencia de Cartagena [Independence of Cartagena](Observed)_upper</th>\n",
              "      <th>Jueves Santo [Maundy Thursday]</th>\n",
              "      <th>Jueves Santo [Maundy Thursday]_lower</th>\n",
              "      <th>Jueves Santo [Maundy Thursday]_upper</th>\n",
              "      <th>La Asunción [Assumption of Mary](Observed)</th>\n",
              "      <th>La Asunción [Assumption of Mary](Observed)_lower</th>\n",
              "      <th>La Asunción [Assumption of Mary](Observed)_upper</th>\n",
              "      <th>La Inmaculada Concepción [Immaculate Conception]</th>\n",
              "      <th>La Inmaculada Concepción [Immaculate Conception]_lower</th>\n",
              "      <th>La Inmaculada Concepción [Immaculate Conception]_upper</th>\n",
              "      <th>Navidad [Christmas]</th>\n",
              "      <th>Navidad [Christmas]_lower</th>\n",
              "      <th>Navidad [Christmas]_upper</th>\n",
              "      <th>Sagrado Corazón [Sacred Heart](Observed)</th>\n",
              "      <th>Sagrado Corazón [Sacred Heart](Observed)_lower</th>\n",
              "      <th>Sagrado Corazón [Sacred Heart](Observed)_upper</th>\n",
              "      <th>San Pedro y San Pablo [Saint Peter and Saint Paul]</th>\n",
              "      <th>San Pedro y San Pablo [Saint Peter and Saint Paul]_lower</th>\n",
              "      <th>San Pedro y San Pablo [Saint Peter and Saint Paul]_upper</th>\n",
              "      <th>San Pedro y San Pablo [Saint Peter and Saint Paul](Observed)</th>\n",
              "      <th>San Pedro y San Pablo [Saint Peter and Saint Paul](Observed)_lower</th>\n",
              "      <th>San Pedro y San Pablo [Saint Peter and Saint Paul](Observed)_upper</th>\n",
              "      <th>Viernes Santo [Good Friday]</th>\n",
              "      <th>Viernes Santo [Good Friday]_lower</th>\n",
              "      <th>Viernes Santo [Good Friday]_upper</th>\n",
              "      <th>holidays</th>\n",
              "      <th>holidays_lower</th>\n",
              "      <th>holidays_upper</th>\n",
              "      <th>multiplicative_terms</th>\n",
              "      <th>multiplicative_terms_lower</th>\n",
              "      <th>multiplicative_terms_upper</th>\n",
              "      <th>weekly</th>\n",
              "      <th>weekly_lower</th>\n",
              "      <th>weekly_upper</th>\n",
              "      <th>additive_terms</th>\n",
              "      <th>additive_terms_lower</th>\n",
              "      <th>additive_terms_upper</th>\n",
              "      <th>yhat</th>\n",
              "    </tr>\n",
              "  </thead>\n",
              "  <tbody>\n",
              "    <tr>\n",
              "      <th>474</th>\n",
              "      <td>2021-06-27</td>\n",
              "      <td>21402.479039</td>\n",
              "      <td>16962.065228</td>\n",
              "      <td>24895.580078</td>\n",
              "      <td>21218.856332</td>\n",
              "      <td>21589.311310</td>\n",
              "      <td>0.0</td>\n",
              "      <td>0.0</td>\n",
              "      <td>0.0</td>\n",
              "      <td>0.0</td>\n",
              "      <td>0.0</td>\n",
              "      <td>0.0</td>\n",
              "      <td>0.0</td>\n",
              "      <td>0.0</td>\n",
              "      <td>0.0</td>\n",
              "      <td>0.0</td>\n",
              "      <td>0.0</td>\n",
              "      <td>0.0</td>\n",
              "      <td>0.0</td>\n",
              "      <td>0.0</td>\n",
              "      <td>0.0</td>\n",
              "      <td>0.0</td>\n",
              "      <td>0.0</td>\n",
              "      <td>0.0</td>\n",
              "      <td>0.0</td>\n",
              "      <td>0.0</td>\n",
              "      <td>0.0</td>\n",
              "      <td>0.0</td>\n",
              "      <td>0.0</td>\n",
              "      <td>0.0</td>\n",
              "      <td>0.0</td>\n",
              "      <td>0.0</td>\n",
              "      <td>0.0</td>\n",
              "      <td>0.0</td>\n",
              "      <td>0.0</td>\n",
              "      <td>0.0</td>\n",
              "      <td>0.0</td>\n",
              "      <td>0.0</td>\n",
              "      <td>0.0</td>\n",
              "      <td>0.0</td>\n",
              "      <td>...</td>\n",
              "      <td>0.0</td>\n",
              "      <td>0.0</td>\n",
              "      <td>0.0</td>\n",
              "      <td>0.0</td>\n",
              "      <td>0.0</td>\n",
              "      <td>0.0</td>\n",
              "      <td>0.0</td>\n",
              "      <td>0.0</td>\n",
              "      <td>0.0</td>\n",
              "      <td>0.0</td>\n",
              "      <td>0.0</td>\n",
              "      <td>0.0</td>\n",
              "      <td>0.0</td>\n",
              "      <td>0.0</td>\n",
              "      <td>0.0</td>\n",
              "      <td>0.0</td>\n",
              "      <td>0.0</td>\n",
              "      <td>0.0</td>\n",
              "      <td>0.0</td>\n",
              "      <td>0.0</td>\n",
              "      <td>0.0</td>\n",
              "      <td>0.0</td>\n",
              "      <td>0.0</td>\n",
              "      <td>0.0</td>\n",
              "      <td>0.0</td>\n",
              "      <td>0.0</td>\n",
              "      <td>0.0</td>\n",
              "      <td>0.0</td>\n",
              "      <td>0.0</td>\n",
              "      <td>0.0</td>\n",
              "      <td>-0.021814</td>\n",
              "      <td>-0.021814</td>\n",
              "      <td>-0.021814</td>\n",
              "      <td>-0.021814</td>\n",
              "      <td>-0.021814</td>\n",
              "      <td>-0.021814</td>\n",
              "      <td>0.0</td>\n",
              "      <td>0.0</td>\n",
              "      <td>0.0</td>\n",
              "      <td>20935.614154</td>\n",
              "    </tr>\n",
              "    <tr>\n",
              "      <th>475</th>\n",
              "      <td>2021-06-28</td>\n",
              "      <td>21510.372601</td>\n",
              "      <td>15187.737321</td>\n",
              "      <td>22534.404154</td>\n",
              "      <td>21313.941885</td>\n",
              "      <td>21710.077765</td>\n",
              "      <td>0.0</td>\n",
              "      <td>0.0</td>\n",
              "      <td>0.0</td>\n",
              "      <td>0.0</td>\n",
              "      <td>0.0</td>\n",
              "      <td>0.0</td>\n",
              "      <td>0.0</td>\n",
              "      <td>0.0</td>\n",
              "      <td>0.0</td>\n",
              "      <td>0.0</td>\n",
              "      <td>0.0</td>\n",
              "      <td>0.0</td>\n",
              "      <td>0.0</td>\n",
              "      <td>0.0</td>\n",
              "      <td>0.0</td>\n",
              "      <td>0.0</td>\n",
              "      <td>0.0</td>\n",
              "      <td>0.0</td>\n",
              "      <td>0.0</td>\n",
              "      <td>0.0</td>\n",
              "      <td>0.0</td>\n",
              "      <td>0.0</td>\n",
              "      <td>0.0</td>\n",
              "      <td>0.0</td>\n",
              "      <td>0.0</td>\n",
              "      <td>0.0</td>\n",
              "      <td>0.0</td>\n",
              "      <td>0.0</td>\n",
              "      <td>0.0</td>\n",
              "      <td>0.0</td>\n",
              "      <td>0.0</td>\n",
              "      <td>0.0</td>\n",
              "      <td>0.0</td>\n",
              "      <td>0.0</td>\n",
              "      <td>...</td>\n",
              "      <td>0.0</td>\n",
              "      <td>0.0</td>\n",
              "      <td>0.0</td>\n",
              "      <td>0.0</td>\n",
              "      <td>0.0</td>\n",
              "      <td>0.0</td>\n",
              "      <td>0.0</td>\n",
              "      <td>0.0</td>\n",
              "      <td>0.0</td>\n",
              "      <td>0.0</td>\n",
              "      <td>0.0</td>\n",
              "      <td>0.0</td>\n",
              "      <td>0.0</td>\n",
              "      <td>0.0</td>\n",
              "      <td>0.0</td>\n",
              "      <td>0.0</td>\n",
              "      <td>0.0</td>\n",
              "      <td>0.0</td>\n",
              "      <td>0.0</td>\n",
              "      <td>0.0</td>\n",
              "      <td>0.0</td>\n",
              "      <td>0.0</td>\n",
              "      <td>0.0</td>\n",
              "      <td>0.0</td>\n",
              "      <td>0.0</td>\n",
              "      <td>0.0</td>\n",
              "      <td>0.0</td>\n",
              "      <td>0.0</td>\n",
              "      <td>0.0</td>\n",
              "      <td>0.0</td>\n",
              "      <td>-0.127397</td>\n",
              "      <td>-0.127397</td>\n",
              "      <td>-0.127397</td>\n",
              "      <td>-0.127397</td>\n",
              "      <td>-0.127397</td>\n",
              "      <td>-0.127397</td>\n",
              "      <td>0.0</td>\n",
              "      <td>0.0</td>\n",
              "      <td>0.0</td>\n",
              "      <td>18770.020191</td>\n",
              "    </tr>\n",
              "    <tr>\n",
              "      <th>476</th>\n",
              "      <td>2021-06-29</td>\n",
              "      <td>21618.266164</td>\n",
              "      <td>17508.322113</td>\n",
              "      <td>25013.037886</td>\n",
              "      <td>21409.375456</td>\n",
              "      <td>21828.198248</td>\n",
              "      <td>0.0</td>\n",
              "      <td>0.0</td>\n",
              "      <td>0.0</td>\n",
              "      <td>0.0</td>\n",
              "      <td>0.0</td>\n",
              "      <td>0.0</td>\n",
              "      <td>0.0</td>\n",
              "      <td>0.0</td>\n",
              "      <td>0.0</td>\n",
              "      <td>0.0</td>\n",
              "      <td>0.0</td>\n",
              "      <td>0.0</td>\n",
              "      <td>0.0</td>\n",
              "      <td>0.0</td>\n",
              "      <td>0.0</td>\n",
              "      <td>0.0</td>\n",
              "      <td>0.0</td>\n",
              "      <td>0.0</td>\n",
              "      <td>0.0</td>\n",
              "      <td>0.0</td>\n",
              "      <td>0.0</td>\n",
              "      <td>0.0</td>\n",
              "      <td>0.0</td>\n",
              "      <td>0.0</td>\n",
              "      <td>0.0</td>\n",
              "      <td>0.0</td>\n",
              "      <td>0.0</td>\n",
              "      <td>0.0</td>\n",
              "      <td>0.0</td>\n",
              "      <td>0.0</td>\n",
              "      <td>0.0</td>\n",
              "      <td>0.0</td>\n",
              "      <td>0.0</td>\n",
              "      <td>0.0</td>\n",
              "      <td>...</td>\n",
              "      <td>0.0</td>\n",
              "      <td>0.0</td>\n",
              "      <td>0.0</td>\n",
              "      <td>0.0</td>\n",
              "      <td>0.0</td>\n",
              "      <td>0.0</td>\n",
              "      <td>0.0</td>\n",
              "      <td>0.0</td>\n",
              "      <td>0.0</td>\n",
              "      <td>0.0</td>\n",
              "      <td>0.0</td>\n",
              "      <td>0.0</td>\n",
              "      <td>0.0</td>\n",
              "      <td>0.0</td>\n",
              "      <td>0.0</td>\n",
              "      <td>0.0</td>\n",
              "      <td>0.0</td>\n",
              "      <td>0.0</td>\n",
              "      <td>0.0</td>\n",
              "      <td>0.0</td>\n",
              "      <td>0.0</td>\n",
              "      <td>0.0</td>\n",
              "      <td>0.0</td>\n",
              "      <td>0.0</td>\n",
              "      <td>0.0</td>\n",
              "      <td>0.0</td>\n",
              "      <td>0.0</td>\n",
              "      <td>0.0</td>\n",
              "      <td>0.0</td>\n",
              "      <td>0.0</td>\n",
              "      <td>-0.011782</td>\n",
              "      <td>-0.011782</td>\n",
              "      <td>-0.011782</td>\n",
              "      <td>-0.011782</td>\n",
              "      <td>-0.011782</td>\n",
              "      <td>-0.011782</td>\n",
              "      <td>0.0</td>\n",
              "      <td>0.0</td>\n",
              "      <td>0.0</td>\n",
              "      <td>21363.561772</td>\n",
              "    </tr>\n",
              "    <tr>\n",
              "      <th>477</th>\n",
              "      <td>2021-06-30</td>\n",
              "      <td>21726.159726</td>\n",
              "      <td>18616.543041</td>\n",
              "      <td>26194.780838</td>\n",
              "      <td>21501.667405</td>\n",
              "      <td>21948.617134</td>\n",
              "      <td>0.0</td>\n",
              "      <td>0.0</td>\n",
              "      <td>0.0</td>\n",
              "      <td>0.0</td>\n",
              "      <td>0.0</td>\n",
              "      <td>0.0</td>\n",
              "      <td>0.0</td>\n",
              "      <td>0.0</td>\n",
              "      <td>0.0</td>\n",
              "      <td>0.0</td>\n",
              "      <td>0.0</td>\n",
              "      <td>0.0</td>\n",
              "      <td>0.0</td>\n",
              "      <td>0.0</td>\n",
              "      <td>0.0</td>\n",
              "      <td>0.0</td>\n",
              "      <td>0.0</td>\n",
              "      <td>0.0</td>\n",
              "      <td>0.0</td>\n",
              "      <td>0.0</td>\n",
              "      <td>0.0</td>\n",
              "      <td>0.0</td>\n",
              "      <td>0.0</td>\n",
              "      <td>0.0</td>\n",
              "      <td>0.0</td>\n",
              "      <td>0.0</td>\n",
              "      <td>0.0</td>\n",
              "      <td>0.0</td>\n",
              "      <td>0.0</td>\n",
              "      <td>0.0</td>\n",
              "      <td>0.0</td>\n",
              "      <td>0.0</td>\n",
              "      <td>0.0</td>\n",
              "      <td>0.0</td>\n",
              "      <td>...</td>\n",
              "      <td>0.0</td>\n",
              "      <td>0.0</td>\n",
              "      <td>0.0</td>\n",
              "      <td>0.0</td>\n",
              "      <td>0.0</td>\n",
              "      <td>0.0</td>\n",
              "      <td>0.0</td>\n",
              "      <td>0.0</td>\n",
              "      <td>0.0</td>\n",
              "      <td>0.0</td>\n",
              "      <td>0.0</td>\n",
              "      <td>0.0</td>\n",
              "      <td>0.0</td>\n",
              "      <td>0.0</td>\n",
              "      <td>0.0</td>\n",
              "      <td>0.0</td>\n",
              "      <td>0.0</td>\n",
              "      <td>0.0</td>\n",
              "      <td>0.0</td>\n",
              "      <td>0.0</td>\n",
              "      <td>0.0</td>\n",
              "      <td>0.0</td>\n",
              "      <td>0.0</td>\n",
              "      <td>0.0</td>\n",
              "      <td>0.0</td>\n",
              "      <td>0.0</td>\n",
              "      <td>0.0</td>\n",
              "      <td>0.0</td>\n",
              "      <td>0.0</td>\n",
              "      <td>0.0</td>\n",
              "      <td>0.029970</td>\n",
              "      <td>0.029970</td>\n",
              "      <td>0.029970</td>\n",
              "      <td>0.029970</td>\n",
              "      <td>0.029970</td>\n",
              "      <td>0.029970</td>\n",
              "      <td>0.0</td>\n",
              "      <td>0.0</td>\n",
              "      <td>0.0</td>\n",
              "      <td>22377.288325</td>\n",
              "    </tr>\n",
              "    <tr>\n",
              "      <th>478</th>\n",
              "      <td>2021-07-01</td>\n",
              "      <td>21834.053288</td>\n",
              "      <td>19802.613582</td>\n",
              "      <td>27454.058427</td>\n",
              "      <td>21597.688498</td>\n",
              "      <td>22071.155450</td>\n",
              "      <td>0.0</td>\n",
              "      <td>0.0</td>\n",
              "      <td>0.0</td>\n",
              "      <td>0.0</td>\n",
              "      <td>0.0</td>\n",
              "      <td>0.0</td>\n",
              "      <td>0.0</td>\n",
              "      <td>0.0</td>\n",
              "      <td>0.0</td>\n",
              "      <td>0.0</td>\n",
              "      <td>0.0</td>\n",
              "      <td>0.0</td>\n",
              "      <td>0.0</td>\n",
              "      <td>0.0</td>\n",
              "      <td>0.0</td>\n",
              "      <td>0.0</td>\n",
              "      <td>0.0</td>\n",
              "      <td>0.0</td>\n",
              "      <td>0.0</td>\n",
              "      <td>0.0</td>\n",
              "      <td>0.0</td>\n",
              "      <td>0.0</td>\n",
              "      <td>0.0</td>\n",
              "      <td>0.0</td>\n",
              "      <td>0.0</td>\n",
              "      <td>0.0</td>\n",
              "      <td>0.0</td>\n",
              "      <td>0.0</td>\n",
              "      <td>0.0</td>\n",
              "      <td>0.0</td>\n",
              "      <td>0.0</td>\n",
              "      <td>0.0</td>\n",
              "      <td>0.0</td>\n",
              "      <td>0.0</td>\n",
              "      <td>...</td>\n",
              "      <td>0.0</td>\n",
              "      <td>0.0</td>\n",
              "      <td>0.0</td>\n",
              "      <td>0.0</td>\n",
              "      <td>0.0</td>\n",
              "      <td>0.0</td>\n",
              "      <td>0.0</td>\n",
              "      <td>0.0</td>\n",
              "      <td>0.0</td>\n",
              "      <td>0.0</td>\n",
              "      <td>0.0</td>\n",
              "      <td>0.0</td>\n",
              "      <td>0.0</td>\n",
              "      <td>0.0</td>\n",
              "      <td>0.0</td>\n",
              "      <td>0.0</td>\n",
              "      <td>0.0</td>\n",
              "      <td>0.0</td>\n",
              "      <td>0.0</td>\n",
              "      <td>0.0</td>\n",
              "      <td>0.0</td>\n",
              "      <td>0.0</td>\n",
              "      <td>0.0</td>\n",
              "      <td>0.0</td>\n",
              "      <td>0.0</td>\n",
              "      <td>0.0</td>\n",
              "      <td>0.0</td>\n",
              "      <td>0.0</td>\n",
              "      <td>0.0</td>\n",
              "      <td>0.0</td>\n",
              "      <td>0.080923</td>\n",
              "      <td>0.080923</td>\n",
              "      <td>0.080923</td>\n",
              "      <td>0.080923</td>\n",
              "      <td>0.080923</td>\n",
              "      <td>0.080923</td>\n",
              "      <td>0.0</td>\n",
              "      <td>0.0</td>\n",
              "      <td>0.0</td>\n",
              "      <td>23600.928987</td>\n",
              "    </tr>\n",
              "  </tbody>\n",
              "</table>\n",
              "<p>5 rows × 85 columns</p>\n",
              "</div>"
            ],
            "text/plain": [
              "            ds         trend  ...  additive_terms_upper          yhat\n",
              "474 2021-06-27  21402.479039  ...                   0.0  20935.614154\n",
              "475 2021-06-28  21510.372601  ...                   0.0  18770.020191\n",
              "476 2021-06-29  21618.266164  ...                   0.0  21363.561772\n",
              "477 2021-06-30  21726.159726  ...                   0.0  22377.288325\n",
              "478 2021-07-01  21834.053288  ...                   0.0  23600.928987\n",
              "\n",
              "[5 rows x 85 columns]"
            ]
          },
          "metadata": {},
          "execution_count": 17
        }
      ]
    },
    {
      "cell_type": "code",
      "metadata": {
        "colab": {
          "base_uri": "https://localhost:8080/",
          "height": 475
        },
        "id": "DF2s22fk58Em",
        "outputId": "a651a350-57d6-4d42-b3d8-589fd8622a65"
      },
      "source": [
        "m.plot(forecast);\n",
        "plt.title(\"Forecast of the Time Series in the next 30 days\")"
      ],
      "execution_count": 18,
      "outputs": [
        {
          "output_type": "execute_result",
          "data": {
            "text/plain": [
              "Text(0.5, 1.0, 'Forecast of the Time Series in the next 30 days')"
            ]
          },
          "metadata": {},
          "execution_count": 18
        },
        {
          "output_type": "display_data",
          "data": {
            "image/png": "[encoded data removed]",
            "text/plain": [
              "<Figure size 720x432 with 1 Axes>"
            ]
          },
          "metadata": {}
        }
      ]
    },
    {
      "cell_type": "code",
      "metadata": {
        "colab": {
          "base_uri": "https://localhost:8080/",
          "height": 674
        },
        "id": "RWsL_f4eB5B2",
        "outputId": "2a22ed8d-354c-4bdf-c1f1-a94c22e44423"
      },
      "source": [
        "m.plot_components(forecast);\n",
        "print(\"Components of the time series:\")"
      ],
      "execution_count": 19,
      "outputs": [
        {
          "output_type": "stream",
          "name": "stdout",
          "text": [
            "Components of the time series:\n"
          ]
        },
        {
          "output_type": "display_data",
          "data": {
            "image/png": "[encoded data removed]",
            "text/plain": [
              "<Figure size 648x648 with 3 Axes>"
            ]
          },
          "metadata": {}
        }
      ]
    },
    {
      "cell_type": "code",
      "metadata": {
        "id": "jzO55k-q-xqy"
      },
      "source": [
        "detail = forecast[forecast['ds']>'2021-06-01'][['ds','yhat_lower','yhat','yhat_upper']]"
      ],
      "execution_count": 20,
      "outputs": []
    },
    {
      "cell_type": "code",
      "metadata": {
        "colab": {
          "base_uri": "https://localhost:8080/",
          "height": 446
        },
        "id": "D3luqYmd-xjx",
        "outputId": "27964f81-f5d6-473f-bf14-465c982d7cef"
      },
      "source": [
        "plt.figure(figsize=(12,6))\n",
        "plt.xticks(rotation=45)\n",
        "plt.title(\"Detail of Forecast (80% Confidence Interval)\")\n",
        "plt.plot(detail['ds'], detail['yhat'], marker='.', c='navy')\n",
        "plt.fill_between(detail['ds'],detail['yhat_lower'], detail['yhat_upper'], alpha=0.1, color='cyan')"
      ],
      "execution_count": 21,
      "outputs": [
        {
          "output_type": "execute_result",
          "data": {
            "text/plain": [
              "<matplotlib.collections.PolyCollection at 0x7ff7c75dafd0>"
            ]
          },
          "metadata": {},
          "execution_count": 21
        },
        {
          "output_type": "display_data",
          "data": {
            "image/png": "[encoded data removed]",
            "text/plain": [
              "<Figure size 864x432 with 1 Axes>"
            ]
          },
          "metadata": {}
        }
      ]
    },
    {
      "cell_type": "markdown",
      "metadata": {
        "id": "_6n25piaCUKX"
      },
      "source": [
        "### Getting the actuals"
      ]
    },
    {
      "cell_type": "code",
      "metadata": {
        "id": "RB6y-3Pq-xgB"
      },
      "source": [
        "act = pd.read_csv('https://raw.githubusercontent.com/CSSEGISandData/COVID-19/master/csse_covid_19_data/csse_covid_19_time_series/time_series_covid19_confirmed_global.csv')"
      ],
      "execution_count": 22,
      "outputs": []
    },
    {
      "cell_type": "code",
      "metadata": {
        "colab": {
          "base_uri": "https://localhost:8080/",
          "height": 253
        },
        "id": "Zr3ymw15-xZD",
        "outputId": "f03d7bc2-1e99-4ae0-e604-87db1150fcf0"
      },
      "source": [
        "act.head()"
      ],
      "execution_count": 23,
      "outputs": [
        {
          "output_type": "execute_result",
          "data": {
            "text/html": [
              "<div>\n",
              "<style scoped>\n",
              "    .dataframe tbody tr th:only-of-type {\n",
              "        vertical-align: middle;\n",
              "    }\n",
              "\n",
              "    .dataframe tbody tr th {\n",
              "        vertical-align: top;\n",
              "    }\n",
              "\n",
              "    .dataframe thead th {\n",
              "        text-align: right;\n",
              "    }\n",
              "</style>\n",
              "<table border=\"1\" class=\"dataframe\">\n",
              "  <thead>\n",
              "    <tr style=\"text-align: right;\">\n",
              "      <th></th>\n",
              "      <th>Province/State</th>\n",
              "      <th>Country/Region</th>\n",
              "      <th>Lat</th>\n",
              "      <th>Long</th>\n",
              "      <th>1/22/20</th>\n",
              "      <th>1/23/20</th>\n",
              "      <th>1/24/20</th>\n",
              "      <th>1/25/20</th>\n",
              "      <th>1/26/20</th>\n",
              "      <th>1/27/20</th>\n",
              "      <th>1/28/20</th>\n",
              "      <th>1/29/20</th>\n",
              "      <th>1/30/20</th>\n",
              "      <th>1/31/20</th>\n",
              "      <th>2/1/20</th>\n",
              "      <th>2/2/20</th>\n",
              "      <th>2/3/20</th>\n",
              "      <th>2/4/20</th>\n",
              "      <th>2/5/20</th>\n",
              "      <th>2/6/20</th>\n",
              "      <th>2/7/20</th>\n",
              "      <th>2/8/20</th>\n",
              "      <th>2/9/20</th>\n",
              "      <th>2/10/20</th>\n",
              "      <th>2/11/20</th>\n",
              "      <th>2/12/20</th>\n",
              "      <th>2/13/20</th>\n",
              "      <th>2/14/20</th>\n",
              "      <th>2/15/20</th>\n",
              "      <th>2/16/20</th>\n",
              "      <th>2/17/20</th>\n",
              "      <th>2/18/20</th>\n",
              "      <th>2/19/20</th>\n",
              "      <th>2/20/20</th>\n",
              "      <th>2/21/20</th>\n",
              "      <th>2/22/20</th>\n",
              "      <th>2/23/20</th>\n",
              "      <th>2/24/20</th>\n",
              "      <th>2/25/20</th>\n",
              "      <th>2/26/20</th>\n",
              "      <th>...</th>\n",
              "      <th>11/2/21</th>\n",
              "      <th>11/3/21</th>\n",
              "      <th>11/4/21</th>\n",
              "      <th>11/5/21</th>\n",
              "      <th>11/6/21</th>\n",
              "      <th>11/7/21</th>\n",
              "      <th>11/8/21</th>\n",
              "      <th>11/9/21</th>\n",
              "      <th>11/10/21</th>\n",
              "      <th>11/11/21</th>\n",
              "      <th>11/12/21</th>\n",
              "      <th>11/13/21</th>\n",
              "      <th>11/14/21</th>\n",
              "      <th>11/15/21</th>\n",
              "      <th>11/16/21</th>\n",
              "      <th>11/17/21</th>\n",
              "      <th>11/18/21</th>\n",
              "      <th>11/19/21</th>\n",
              "      <th>11/20/21</th>\n",
              "      <th>11/21/21</th>\n",
              "      <th>11/22/21</th>\n",
              "      <th>11/23/21</th>\n",
              "      <th>11/24/21</th>\n",
              "      <th>11/25/21</th>\n",
              "      <th>11/26/21</th>\n",
              "      <th>11/27/21</th>\n",
              "      <th>11/28/21</th>\n",
              "      <th>11/29/21</th>\n",
              "      <th>11/30/21</th>\n",
              "      <th>12/1/21</th>\n",
              "      <th>12/2/21</th>\n",
              "      <th>12/3/21</th>\n",
              "      <th>12/4/21</th>\n",
              "      <th>12/5/21</th>\n",
              "      <th>12/6/21</th>\n",
              "      <th>12/7/21</th>\n",
              "      <th>12/8/21</th>\n",
              "      <th>12/9/21</th>\n",
              "      <th>12/10/21</th>\n",
              "      <th>12/11/21</th>\n",
              "    </tr>\n",
              "  </thead>\n",
              "  <tbody>\n",
              "    <tr>\n",
              "      <th>0</th>\n",
              "      <td>NaN</td>\n",
              "      <td>Afghanistan</td>\n",
              "      <td>33.93911</td>\n",
              "      <td>67.709953</td>\n",
              "      <td>0</td>\n",
              "      <td>0</td>\n",
              "      <td>0</td>\n",
              "      <td>0</td>\n",
              "      <td>0</td>\n",
              "      <td>0</td>\n",
              "      <td>0</td>\n",
              "      <td>0</td>\n",
              "      <td>0</td>\n",
              "      <td>0</td>\n",
              "      <td>0</td>\n",
              "      <td>0</td>\n",
              "      <td>0</td>\n",
              "      <td>0</td>\n",
              "      <td>0</td>\n",
              "      <td>0</td>\n",
              "      <td>0</td>\n",
              "      <td>0</td>\n",
              "      <td>0</td>\n",
              "      <td>0</td>\n",
              "      <td>0</td>\n",
              "      <td>0</td>\n",
              "      <td>0</td>\n",
              "      <td>0</td>\n",
              "      <td>0</td>\n",
              "      <td>0</td>\n",
              "      <td>0</td>\n",
              "      <td>0</td>\n",
              "      <td>0</td>\n",
              "      <td>0</td>\n",
              "      <td>0</td>\n",
              "      <td>0</td>\n",
              "      <td>0</td>\n",
              "      <td>5</td>\n",
              "      <td>5</td>\n",
              "      <td>5</td>\n",
              "      <td>...</td>\n",
              "      <td>156307</td>\n",
              "      <td>156323</td>\n",
              "      <td>156363</td>\n",
              "      <td>156392</td>\n",
              "      <td>156397</td>\n",
              "      <td>156397</td>\n",
              "      <td>156397</td>\n",
              "      <td>156397</td>\n",
              "      <td>156414</td>\n",
              "      <td>156456</td>\n",
              "      <td>156487</td>\n",
              "      <td>156510</td>\n",
              "      <td>156552</td>\n",
              "      <td>156610</td>\n",
              "      <td>156649</td>\n",
              "      <td>156739</td>\n",
              "      <td>156739</td>\n",
              "      <td>156812</td>\n",
              "      <td>156864</td>\n",
              "      <td>156896</td>\n",
              "      <td>156911</td>\n",
              "      <td>157015</td>\n",
              "      <td>157032</td>\n",
              "      <td>157144</td>\n",
              "      <td>157171</td>\n",
              "      <td>157190</td>\n",
              "      <td>157218</td>\n",
              "      <td>157260</td>\n",
              "      <td>157289</td>\n",
              "      <td>157359</td>\n",
              "      <td>157387</td>\n",
              "      <td>157412</td>\n",
              "      <td>157431</td>\n",
              "      <td>157445</td>\n",
              "      <td>157499</td>\n",
              "      <td>157508</td>\n",
              "      <td>157542</td>\n",
              "      <td>157585</td>\n",
              "      <td>157858</td>\n",
              "      <td>157858</td>\n",
              "    </tr>\n",
              "    <tr>\n",
              "      <th>1</th>\n",
              "      <td>NaN</td>\n",
              "      <td>Albania</td>\n",
              "      <td>41.15330</td>\n",
              "      <td>20.168300</td>\n",
              "      <td>0</td>\n",
              "      <td>0</td>\n",
              "      <td>0</td>\n",
              "      <td>0</td>\n",
              "      <td>0</td>\n",
              "      <td>0</td>\n",
              "      <td>0</td>\n",
              "      <td>0</td>\n",
              "      <td>0</td>\n",
              "      <td>0</td>\n",
              "      <td>0</td>\n",
              "      <td>0</td>\n",
              "      <td>0</td>\n",
              "      <td>0</td>\n",
              "      <td>0</td>\n",
              "      <td>0</td>\n",
              "      <td>0</td>\n",
              "      <td>0</td>\n",
              "      <td>0</td>\n",
              "      <td>0</td>\n",
              "      <td>0</td>\n",
              "      <td>0</td>\n",
              "      <td>0</td>\n",
              "      <td>0</td>\n",
              "      <td>0</td>\n",
              "      <td>0</td>\n",
              "      <td>0</td>\n",
              "      <td>0</td>\n",
              "      <td>0</td>\n",
              "      <td>0</td>\n",
              "      <td>0</td>\n",
              "      <td>0</td>\n",
              "      <td>0</td>\n",
              "      <td>0</td>\n",
              "      <td>0</td>\n",
              "      <td>0</td>\n",
              "      <td>...</td>\n",
              "      <td>186222</td>\n",
              "      <td>186793</td>\n",
              "      <td>187363</td>\n",
              "      <td>187994</td>\n",
              "      <td>187994</td>\n",
              "      <td>189125</td>\n",
              "      <td>189355</td>\n",
              "      <td>190125</td>\n",
              "      <td>190815</td>\n",
              "      <td>191440</td>\n",
              "      <td>192013</td>\n",
              "      <td>192600</td>\n",
              "      <td>193075</td>\n",
              "      <td>193269</td>\n",
              "      <td>193856</td>\n",
              "      <td>194472</td>\n",
              "      <td>195021</td>\n",
              "      <td>195523</td>\n",
              "      <td>195988</td>\n",
              "      <td>195988</td>\n",
              "      <td>196611</td>\n",
              "      <td>197167</td>\n",
              "      <td>197776</td>\n",
              "      <td>198292</td>\n",
              "      <td>198732</td>\n",
              "      <td>199137</td>\n",
              "      <td>199555</td>\n",
              "      <td>199750</td>\n",
              "      <td>199945</td>\n",
              "      <td>200173</td>\n",
              "      <td>200639</td>\n",
              "      <td>201045</td>\n",
              "      <td>201402</td>\n",
              "      <td>201730</td>\n",
              "      <td>201902</td>\n",
              "      <td>202295</td>\n",
              "      <td>202641</td>\n",
              "      <td>202863</td>\n",
              "      <td>203215</td>\n",
              "      <td>203524</td>\n",
              "    </tr>\n",
              "    <tr>\n",
              "      <th>2</th>\n",
              "      <td>NaN</td>\n",
              "      <td>Algeria</td>\n",
              "      <td>28.03390</td>\n",
              "      <td>1.659600</td>\n",
              "      <td>0</td>\n",
              "      <td>0</td>\n",
              "      <td>0</td>\n",
              "      <td>0</td>\n",
              "      <td>0</td>\n",
              "      <td>0</td>\n",
              "      <td>0</td>\n",
              "      <td>0</td>\n",
              "      <td>0</td>\n",
              "      <td>0</td>\n",
              "      <td>0</td>\n",
              "      <td>0</td>\n",
              "      <td>0</td>\n",
              "      <td>0</td>\n",
              "      <td>0</td>\n",
              "      <td>0</td>\n",
              "      <td>0</td>\n",
              "      <td>0</td>\n",
              "      <td>0</td>\n",
              "      <td>0</td>\n",
              "      <td>0</td>\n",
              "      <td>0</td>\n",
              "      <td>0</td>\n",
              "      <td>0</td>\n",
              "      <td>0</td>\n",
              "      <td>0</td>\n",
              "      <td>0</td>\n",
              "      <td>0</td>\n",
              "      <td>0</td>\n",
              "      <td>0</td>\n",
              "      <td>0</td>\n",
              "      <td>0</td>\n",
              "      <td>0</td>\n",
              "      <td>0</td>\n",
              "      <td>1</td>\n",
              "      <td>1</td>\n",
              "      <td>...</td>\n",
              "      <td>206649</td>\n",
              "      <td>206754</td>\n",
              "      <td>206878</td>\n",
              "      <td>206995</td>\n",
              "      <td>207079</td>\n",
              "      <td>207156</td>\n",
              "      <td>207254</td>\n",
              "      <td>207385</td>\n",
              "      <td>207509</td>\n",
              "      <td>207624</td>\n",
              "      <td>207764</td>\n",
              "      <td>207873</td>\n",
              "      <td>207970</td>\n",
              "      <td>208104</td>\n",
              "      <td>208245</td>\n",
              "      <td>208380</td>\n",
              "      <td>208532</td>\n",
              "      <td>208695</td>\n",
              "      <td>208839</td>\n",
              "      <td>208952</td>\n",
              "      <td>209111</td>\n",
              "      <td>209283</td>\n",
              "      <td>209463</td>\n",
              "      <td>209624</td>\n",
              "      <td>209817</td>\n",
              "      <td>209980</td>\n",
              "      <td>210152</td>\n",
              "      <td>210344</td>\n",
              "      <td>210531</td>\n",
              "      <td>210723</td>\n",
              "      <td>210921</td>\n",
              "      <td>211112</td>\n",
              "      <td>211297</td>\n",
              "      <td>211469</td>\n",
              "      <td>211662</td>\n",
              "      <td>211859</td>\n",
              "      <td>212047</td>\n",
              "      <td>212224</td>\n",
              "      <td>212434</td>\n",
              "      <td>212652</td>\n",
              "    </tr>\n",
              "    <tr>\n",
              "      <th>3</th>\n",
              "      <td>NaN</td>\n",
              "      <td>Andorra</td>\n",
              "      <td>42.50630</td>\n",
              "      <td>1.521800</td>\n",
              "      <td>0</td>\n",
              "      <td>0</td>\n",
              "      <td>0</td>\n",
              "      <td>0</td>\n",
              "      <td>0</td>\n",
              "      <td>0</td>\n",
              "      <td>0</td>\n",
              "      <td>0</td>\n",
              "      <td>0</td>\n",
              "      <td>0</td>\n",
              "      <td>0</td>\n",
              "      <td>0</td>\n",
              "      <td>0</td>\n",
              "      <td>0</td>\n",
              "      <td>0</td>\n",
              "      <td>0</td>\n",
              "      <td>0</td>\n",
              "      <td>0</td>\n",
              "      <td>0</td>\n",
              "      <td>0</td>\n",
              "      <td>0</td>\n",
              "      <td>0</td>\n",
              "      <td>0</td>\n",
              "      <td>0</td>\n",
              "      <td>0</td>\n",
              "      <td>0</td>\n",
              "      <td>0</td>\n",
              "      <td>0</td>\n",
              "      <td>0</td>\n",
              "      <td>0</td>\n",
              "      <td>0</td>\n",
              "      <td>0</td>\n",
              "      <td>0</td>\n",
              "      <td>0</td>\n",
              "      <td>0</td>\n",
              "      <td>0</td>\n",
              "      <td>...</td>\n",
              "      <td>15516</td>\n",
              "      <td>15572</td>\n",
              "      <td>15618</td>\n",
              "      <td>15618</td>\n",
              "      <td>15618</td>\n",
              "      <td>15618</td>\n",
              "      <td>15705</td>\n",
              "      <td>15717</td>\n",
              "      <td>15744</td>\n",
              "      <td>15744</td>\n",
              "      <td>15819</td>\n",
              "      <td>15819</td>\n",
              "      <td>15819</td>\n",
              "      <td>15907</td>\n",
              "      <td>15929</td>\n",
              "      <td>15972</td>\n",
              "      <td>16035</td>\n",
              "      <td>16086</td>\n",
              "      <td>16086</td>\n",
              "      <td>16086</td>\n",
              "      <td>16299</td>\n",
              "      <td>16342</td>\n",
              "      <td>16426</td>\n",
              "      <td>16566</td>\n",
              "      <td>16712</td>\n",
              "      <td>16712</td>\n",
              "      <td>16712</td>\n",
              "      <td>16712</td>\n",
              "      <td>17115</td>\n",
              "      <td>17426</td>\n",
              "      <td>17658</td>\n",
              "      <td>18010</td>\n",
              "      <td>18010</td>\n",
              "      <td>18010</td>\n",
              "      <td>18631</td>\n",
              "      <td>18815</td>\n",
              "      <td>18815</td>\n",
              "      <td>19272</td>\n",
              "      <td>19440</td>\n",
              "      <td>19440</td>\n",
              "    </tr>\n",
              "    <tr>\n",
              "      <th>4</th>\n",
              "      <td>NaN</td>\n",
              "      <td>Angola</td>\n",
              "      <td>-11.20270</td>\n",
              "      <td>17.873900</td>\n",
              "      <td>0</td>\n",
              "      <td>0</td>\n",
              "      <td>0</td>\n",
              "      <td>0</td>\n",
              "      <td>0</td>\n",
              "      <td>0</td>\n",
              "      <td>0</td>\n",
              "      <td>0</td>\n",
              "      <td>0</td>\n",
              "      <td>0</td>\n",
              "      <td>0</td>\n",
              "      <td>0</td>\n",
              "      <td>0</td>\n",
              "      <td>0</td>\n",
              "      <td>0</td>\n",
              "      <td>0</td>\n",
              "      <td>0</td>\n",
              "      <td>0</td>\n",
              "      <td>0</td>\n",
              "      <td>0</td>\n",
              "      <td>0</td>\n",
              "      <td>0</td>\n",
              "      <td>0</td>\n",
              "      <td>0</td>\n",
              "      <td>0</td>\n",
              "      <td>0</td>\n",
              "      <td>0</td>\n",
              "      <td>0</td>\n",
              "      <td>0</td>\n",
              "      <td>0</td>\n",
              "      <td>0</td>\n",
              "      <td>0</td>\n",
              "      <td>0</td>\n",
              "      <td>0</td>\n",
              "      <td>0</td>\n",
              "      <td>0</td>\n",
              "      <td>...</td>\n",
              "      <td>64487</td>\n",
              "      <td>64533</td>\n",
              "      <td>64583</td>\n",
              "      <td>64612</td>\n",
              "      <td>64654</td>\n",
              "      <td>64674</td>\n",
              "      <td>64724</td>\n",
              "      <td>64762</td>\n",
              "      <td>64815</td>\n",
              "      <td>64857</td>\n",
              "      <td>64875</td>\n",
              "      <td>64899</td>\n",
              "      <td>64913</td>\n",
              "      <td>64913</td>\n",
              "      <td>64940</td>\n",
              "      <td>64968</td>\n",
              "      <td>64985</td>\n",
              "      <td>64997</td>\n",
              "      <td>65011</td>\n",
              "      <td>65024</td>\n",
              "      <td>65033</td>\n",
              "      <td>65061</td>\n",
              "      <td>65080</td>\n",
              "      <td>65105</td>\n",
              "      <td>65130</td>\n",
              "      <td>65139</td>\n",
              "      <td>65144</td>\n",
              "      <td>65155</td>\n",
              "      <td>65168</td>\n",
              "      <td>65183</td>\n",
              "      <td>65208</td>\n",
              "      <td>65223</td>\n",
              "      <td>65244</td>\n",
              "      <td>65259</td>\n",
              "      <td>65259</td>\n",
              "      <td>65301</td>\n",
              "      <td>65332</td>\n",
              "      <td>65346</td>\n",
              "      <td>65371</td>\n",
              "      <td>65397</td>\n",
              "    </tr>\n",
              "  </tbody>\n",
              "</table>\n",
              "<p>5 rows × 694 columns</p>\n",
              "</div>"
            ],
            "text/plain": [
              "  Province/State Country/Region       Lat  ...  12/9/21  12/10/21  12/11/21\n",
              "0            NaN    Afghanistan  33.93911  ...   157585    157858    157858\n",
              "1            NaN        Albania  41.15330  ...   202863    203215    203524\n",
              "2            NaN        Algeria  28.03390  ...   212224    212434    212652\n",
              "3            NaN        Andorra  42.50630  ...    19272     19440     19440\n",
              "4            NaN         Angola -11.20270  ...    65346     65371     65397\n",
              "\n",
              "[5 rows x 694 columns]"
            ]
          },
          "metadata": {},
          "execution_count": 23
        }
      ]
    },
    {
      "cell_type": "code",
      "metadata": {
        "id": "xdo7UYEb-xPd"
      },
      "source": [
        "act = act.loc[act['Country/Region']=='Colombia'].drop(columns=['Province/State', 'Lat', 'Long'])"
      ],
      "execution_count": 24,
      "outputs": []
    },
    {
      "cell_type": "code",
      "metadata": {
        "id": "XVMseqHz-xIn"
      },
      "source": [
        "act = pd.melt(act, id_vars='Country/Region', var_name='ds', value_name='y').drop(columns='Country/Region')"
      ],
      "execution_count": 25,
      "outputs": []
    },
    {
      "cell_type": "code",
      "metadata": {
        "id": "GekoYLjB-xFL"
      },
      "source": [
        "act['ds'] = pd.to_datetime(act['ds'])"
      ],
      "execution_count": 26,
      "outputs": []
    },
    {
      "cell_type": "code",
      "source": [
        "act = act[lambda x: x.ds <= '2021-07-01']"
      ],
      "metadata": {
        "id": "LOT4PGaiP1Cn"
      },
      "execution_count": 27,
      "outputs": []
    },
    {
      "cell_type": "code",
      "metadata": {
        "colab": {
          "base_uri": "https://localhost:8080/",
          "height": 204
        },
        "id": "YYgiGpCuFCcs",
        "outputId": "6771fd49-8d44-49f2-f9d2-1e52ad918f5a"
      },
      "source": [
        "act.tail()"
      ],
      "execution_count": 28,
      "outputs": [
        {
          "output_type": "execute_result",
          "data": {
            "text/html": [
              "<div>\n",
              "<style scoped>\n",
              "    .dataframe tbody tr th:only-of-type {\n",
              "        vertical-align: middle;\n",
              "    }\n",
              "\n",
              "    .dataframe tbody tr th {\n",
              "        vertical-align: top;\n",
              "    }\n",
              "\n",
              "    .dataframe thead th {\n",
              "        text-align: right;\n",
              "    }\n",
              "</style>\n",
              "<table border=\"1\" class=\"dataframe\">\n",
              "  <thead>\n",
              "    <tr style=\"text-align: right;\">\n",
              "      <th></th>\n",
              "      <th>ds</th>\n",
              "      <th>y</th>\n",
              "    </tr>\n",
              "  </thead>\n",
              "  <tbody>\n",
              "    <tr>\n",
              "      <th>522</th>\n",
              "      <td>2021-06-27</td>\n",
              "      <td>4158716</td>\n",
              "    </tr>\n",
              "    <tr>\n",
              "      <th>523</th>\n",
              "      <td>2021-06-28</td>\n",
              "      <td>4187194</td>\n",
              "    </tr>\n",
              "    <tr>\n",
              "      <th>524</th>\n",
              "      <td>2021-06-29</td>\n",
              "      <td>4213074</td>\n",
              "    </tr>\n",
              "    <tr>\n",
              "      <th>525</th>\n",
              "      <td>2021-06-30</td>\n",
              "      <td>4240982</td>\n",
              "    </tr>\n",
              "    <tr>\n",
              "      <th>526</th>\n",
              "      <td>2021-07-01</td>\n",
              "      <td>4269297</td>\n",
              "    </tr>\n",
              "  </tbody>\n",
              "</table>\n",
              "</div>"
            ],
            "text/plain": [
              "            ds        y\n",
              "522 2021-06-27  4158716\n",
              "523 2021-06-28  4187194\n",
              "524 2021-06-29  4213074\n",
              "525 2021-06-30  4240982\n",
              "526 2021-07-01  4269297"
            ]
          },
          "metadata": {},
          "execution_count": 28
        }
      ]
    },
    {
      "cell_type": "markdown",
      "metadata": {
        "id": "hnPoOvzvFFeM"
      },
      "source": [
        "These are the cumulative numbers and the time series used in the model was the difference between the dates ( Date B - Date A )"
      ]
    },
    {
      "cell_type": "code",
      "metadata": {
        "id": "vM51VYNOFO8O"
      },
      "source": [
        "#Calculating the difference\n",
        "act = act.set_index('ds').diff().reset_index()"
      ],
      "execution_count": 29,
      "outputs": []
    },
    {
      "cell_type": "code",
      "metadata": {
        "colab": {
          "base_uri": "https://localhost:8080/",
          "height": 437
        },
        "id": "yv_P9EqXGw44",
        "outputId": "739a9f43-9bea-491e-9b5d-7da3cf206263"
      },
      "source": [
        "act.set_index('ds').plot(figsize=(12,6))\n",
        "plt.title(\"Time Series of Actual Values\")"
      ],
      "execution_count": 30,
      "outputs": [
        {
          "output_type": "execute_result",
          "data": {
            "text/plain": [
              "Text(0.5, 1.0, 'Time Series of Actual Values')"
            ]
          },
          "metadata": {},
          "execution_count": 30
        },
        {
          "output_type": "display_data",
          "data": {
            "image/png": "[encoded data removed]",
            "text/plain": [
              "<Figure size 864x432 with 1 Axes>"
            ]
          },
          "metadata": {}
        }
      ]
    },
    {
      "cell_type": "code",
      "metadata": {
        "id": "WREl4lWJ-w-f"
      },
      "source": [
        "act = act[(act['ds']>'2021-06-01') & (act['ds']<'2021-07-02')]"
      ],
      "execution_count": 31,
      "outputs": []
    },
    {
      "cell_type": "code",
      "metadata": {
        "colab": {
          "base_uri": "https://localhost:8080/",
          "height": 460
        },
        "id": "CPl0q4S_S6pi",
        "outputId": "bce70bf0-3862-4909-cb38-ae66f299452e"
      },
      "source": [
        "act.set_index('ds').plot(figsize=(12,6))\n",
        "plt.title(\"Detail of Actual Values\")"
      ],
      "execution_count": 32,
      "outputs": [
        {
          "output_type": "execute_result",
          "data": {
            "text/plain": [
              "Text(0.5, 1.0, 'Detail of Actual Values')"
            ]
          },
          "metadata": {},
          "execution_count": 32
        },
        {
          "output_type": "display_data",
          "data": {
            "image/png": "[encoded data removed]",
            "text/plain": [
              "<Figure size 864x432 with 1 Axes>"
            ]
          },
          "metadata": {}
        }
      ]
    },
    {
      "cell_type": "markdown",
      "metadata": {
        "id": "RdOD6Z8OFhxj"
      },
      "source": [
        "After all these transformations, these are the actual numbers for the days between June 2nd and July 1st"
      ]
    },
    {
      "cell_type": "code",
      "metadata": {
        "colab": {
          "base_uri": "https://localhost:8080/",
          "height": 204
        },
        "id": "1BlfFjK_-w4P",
        "outputId": "0625a142-f02a-4d9a-a145-6c789de3f097"
      },
      "source": [
        "act.head()"
      ],
      "execution_count": 33,
      "outputs": [
        {
          "output_type": "execute_result",
          "data": {
            "text/html": [
              "<div>\n",
              "<style scoped>\n",
              "    .dataframe tbody tr th:only-of-type {\n",
              "        vertical-align: middle;\n",
              "    }\n",
              "\n",
              "    .dataframe tbody tr th {\n",
              "        vertical-align: top;\n",
              "    }\n",
              "\n",
              "    .dataframe thead th {\n",
              "        text-align: right;\n",
              "    }\n",
              "</style>\n",
              "<table border=\"1\" class=\"dataframe\">\n",
              "  <thead>\n",
              "    <tr style=\"text-align: right;\">\n",
              "      <th></th>\n",
              "      <th>ds</th>\n",
              "      <th>y</th>\n",
              "    </tr>\n",
              "  </thead>\n",
              "  <tbody>\n",
              "    <tr>\n",
              "      <th>497</th>\n",
              "      <td>2021-06-02</td>\n",
              "      <td>27000.0</td>\n",
              "    </tr>\n",
              "    <tr>\n",
              "      <th>498</th>\n",
              "      <td>2021-06-03</td>\n",
              "      <td>28624.0</td>\n",
              "    </tr>\n",
              "    <tr>\n",
              "      <th>499</th>\n",
              "      <td>2021-06-04</td>\n",
              "      <td>30000.0</td>\n",
              "    </tr>\n",
              "    <tr>\n",
              "      <th>500</th>\n",
              "      <td>2021-06-05</td>\n",
              "      <td>28971.0</td>\n",
              "    </tr>\n",
              "    <tr>\n",
              "      <th>501</th>\n",
              "      <td>2021-06-06</td>\n",
              "      <td>24050.0</td>\n",
              "    </tr>\n",
              "  </tbody>\n",
              "</table>\n",
              "</div>"
            ],
            "text/plain": [
              "            ds        y\n",
              "497 2021-06-02  27000.0\n",
              "498 2021-06-03  28624.0\n",
              "499 2021-06-04  30000.0\n",
              "500 2021-06-05  28971.0\n",
              "501 2021-06-06  24050.0"
            ]
          },
          "metadata": {},
          "execution_count": 33
        }
      ]
    },
    {
      "cell_type": "code",
      "metadata": {
        "colab": {
          "base_uri": "https://localhost:8080/",
          "height": 446
        },
        "id": "9bsFNLpE-wvP",
        "outputId": "21843b4f-d949-4f59-df4f-54e3edc4d685"
      },
      "source": [
        "plt.figure(figsize=(12,6))\n",
        "plt.xticks(rotation=45)\n",
        "plt.title(\"Models Comparison\")\n",
        "plt.plot(detail['ds'], detail['yhat'], marker='.', c='navy', label='Prophet')\n",
        "plt.fill_between(detail['ds'],detail['yhat_lower'], detail['yhat_upper'], alpha=0.1, color='cyan')\n",
        "plt.plot(act['ds'], act['y'], c='red', label='Actuals', marker='.')\n",
        "plt.legend()"
      ],
      "execution_count": 34,
      "outputs": [
        {
          "output_type": "execute_result",
          "data": {
            "text/plain": [
              "<matplotlib.legend.Legend at 0x7ff7c5b8e1d0>"
            ]
          },
          "metadata": {},
          "execution_count": 34
        },
        {
          "output_type": "display_data",
          "data": {
            "image/png": "[encoded data removed]",
            "text/plain": [
              "<Figure size 864x432 with 1 Axes>"
            ]
          },
          "metadata": {}
        }
      ]
    },
    {
      "cell_type": "markdown",
      "metadata": {
        "id": "gdCVB2iaLqmS"
      },
      "source": [
        "### Performance Metrics"
      ]
    },
    {
      "cell_type": "code",
      "metadata": {
        "id": "tPJQi-dm-wrf"
      },
      "source": [
        "from sklearn.metrics import mean_absolute_error, mean_squared_error"
      ],
      "execution_count": 35,
      "outputs": []
    },
    {
      "cell_type": "code",
      "metadata": {
        "id": "h3g-k2Bd-wlT"
      },
      "source": [
        "prophet_mae = mean_absolute_error(act['y'], detail['yhat'])\n",
        "prophet_rmse = np.sqrt(mean_squared_error(act['y'], detail['yhat']))"
      ],
      "execution_count": 36,
      "outputs": []
    },
    {
      "cell_type": "code",
      "metadata": {
        "colab": {
          "base_uri": "https://localhost:8080/"
        },
        "id": "shJVx922-wh5",
        "outputId": "8362eca7-9488-45b3-c55d-b5553b8ab96c"
      },
      "source": [
        "print(\"Prophet RMSE: {:.4f}\".format(prophet_rmse))\n",
        "print(\"Prophet MAE: {:.4f}\".format(prophet_mae))"
      ],
      "execution_count": 37,
      "outputs": [
        {
          "output_type": "stream",
          "name": "stdout",
          "text": [
            "Prophet RMSE: 8179.9423\n",
            "Prophet MAE: 7729.1117\n"
          ]
        }
      ]
    },
    {
      "cell_type": "markdown",
      "metadata": {
        "id": "Ut0bqOp6NKXB"
      },
      "source": [
        "## NeuralProphet"
      ]
    },
    {
      "cell_type": "code",
      "source": [
        "!pip install neuralprophet -q"
      ],
      "metadata": {
        "id": "_MmLi72YQUzB"
      },
      "execution_count": 38,
      "outputs": []
    },
    {
      "cell_type": "code",
      "source": [
        "from neuralprophet import NeuralProphet, set_random_seed"
      ],
      "metadata": {
        "id": "z8ZOYrkOQ5A_"
      },
      "execution_count": 39,
      "outputs": []
    },
    {
      "cell_type": "code",
      "source": [
        "set_random_seed(42)"
      ],
      "metadata": {
        "id": "jzVA9PzwVDWF"
      },
      "execution_count": 40,
      "outputs": []
    },
    {
      "cell_type": "code",
      "source": [
        "nm = NeuralProphet(seasonality_mode='multiplicative').add_country_holidays(country_name='CO')"
      ],
      "metadata": {
        "id": "j1etU6abQU2_"
      },
      "execution_count": 41,
      "outputs": []
    },
    {
      "cell_type": "code",
      "source": [
        "nm.fit(ts, freq='D')"
      ],
      "metadata": {
        "colab": {
          "base_uri": "https://localhost:8080/",
          "height": 804,
          "referenced_widgets": [
            "879506c706604be4860325fcbca07997",
            "20637dc70f3d47229b80f60d4f629a74",
            "e2f2a6aeb10d48dca9798f4b452497fa",
            "8cd40c766f67482ab2fe4f6101b4ad80",
            "04b00e677b9d4bbfb51474cad902c0f9",
            "4a20dd924d674f4bb2f850229b215a0d",
            "75ff5869bd2d4254ac8894127dc76a7a",
            "dd2430d58f7f4672ac1fd1a2b7577e00",
            "71c6c3e6a554493492c41960d466bac7",
            "7236dbe6643a4587b4851334f4b3492c",
            "d9e7b871e00d4cfe895535b602728148",
            "8de684aa56c74b0a934cbee5b43bf969",
            "3c546126a3604950ba7b2f45f7daf2bb",
            "aee3325c9c4446e3a9b1ee248f5cd50f",
            "c086926ae319468aa9cc7b1257b770e6",
            "b94838e2adbf45069c3ca9045bd1b33e",
            "e243302f19294870a60e687f53a18a87",
            "257c772c35bc4dfabbb8afcd741341be",
            "15f1aa00c2ce4de8a4ba1b12b7ca5199",
            "02b633eae11f404889bbafdc70b1fe96",
            "cd4d38c9c57942879d040fbd7d69f1a3",
            "1bbc8a187803446ca442ffc3e13653fb",
            "b6565411488547f08c49d0b5b45f032c",
            "4c2f7547385a4ad591991b14ecd57c96",
            "572a67edbc3d4aceb3887427c1ecace2",
            "7d3428a03b5241d6be709085cbf413af",
            "ceb8eb1c26ab4ca7b0f72e049a119236",
            "9570084b2c31437b99b5040146265e3c",
            "2e28fb6f28dd4ba89c375c29cf533175",
            "911221e687ec4f9bbfda13f011144261",
            "7538fdbaf7e141c89c42e37f815aec3a",
            "33db58e9e7414f2a90e048960f315fe3",
            "64751a7ddaa54e15ba03735c5f70fe86"
          ]
        },
        "id": "94DWQAlRQU6l",
        "outputId": "e119abca-ba94-48f8-cf50-60a76f8bbce8"
      },
      "execution_count": 42,
      "outputs": [
        {
          "output_type": "stream",
          "name": "stderr",
          "text": [
            "INFO - (NP.utils.set_auto_seasonalities) - Disabling yearly seasonality. Run NeuralProphet with yearly_seasonality=True to override this.\n",
            "INFO:NP.utils:Disabling yearly seasonality. Run NeuralProphet with yearly_seasonality=True to override this.\n",
            "INFO - (NP.utils.set_auto_seasonalities) - Disabling daily seasonality. Run NeuralProphet with daily_seasonality=True to override this.\n",
            "INFO:NP.utils:Disabling daily seasonality. Run NeuralProphet with daily_seasonality=True to override this.\n",
            "INFO - (NP.config.set_auto_batch_epoch) - Auto-set batch_size to 16\n",
            "INFO:NP.config:Auto-set batch_size to 16\n",
            "INFO - (NP.config.set_auto_batch_epoch) - Auto-set epochs to 220\n",
            "INFO:NP.config:Auto-set epochs to 220\n"
          ]
        },
        {
          "output_type": "display_data",
          "data": {
            "application/vnd.jupyter.widget-view+json": {
              "model_id": "879506c706604be4860325fcbca07997",
              "version_minor": 0,
              "version_major": 2
            },
            "text/plain": [
              "  0%|          | 0/233 [00:00<?, ?it/s]"
            ]
          },
          "metadata": {}
        },
        {
          "output_type": "stream",
          "name": "stderr",
          "text": [
            "INFO - (NP.utils_torch.lr_range_test) - lr-range-test results: steep: 3.86E-02, min: 7.21E-02\n",
            "INFO:NP.utils_torch:lr-range-test results: steep: 3.86E-02, min: 7.21E-02\n"
          ]
        },
        {
          "output_type": "display_data",
          "data": {
            "application/vnd.jupyter.widget-view+json": {
              "model_id": "8de684aa56c74b0a934cbee5b43bf969",
              "version_minor": 0,
              "version_major": 2
            },
            "text/plain": [
              "  0%|          | 0/233 [00:00<?, ?it/s]"
            ]
          },
          "metadata": {}
        },
        {
          "output_type": "stream",
          "name": "stderr",
          "text": [
            "INFO - (NP.utils_torch.lr_range_test) - lr-range-test results: steep: 2.95E-02, min: 6.03E-02\n",
            "INFO:NP.utils_torch:lr-range-test results: steep: 2.95E-02, min: 6.03E-02\n"
          ]
        },
        {
          "output_type": "display_data",
          "data": {
            "application/vnd.jupyter.widget-view+json": {
              "model_id": "b6565411488547f08c49d0b5b45f032c",
              "version_minor": 0,
              "version_major": 2
            },
            "text/plain": [
              "  0%|          | 0/233 [00:00<?, ?it/s]"
            ]
          },
          "metadata": {}
        },
        {
          "output_type": "stream",
          "name": "stderr",
          "text": [
            "INFO - (NP.utils_torch.lr_range_test) - lr-range-test results: steep: 4.22E-02, min: 7.88E-02\n",
            "INFO:NP.utils_torch:lr-range-test results: steep: 4.22E-02, min: 7.88E-02\n",
            "INFO - (NP.forecaster._init_train_loader) - lr-range-test selected learning rate: 3.63E-02\n",
            "INFO:NP.forecaster:lr-range-test selected learning rate: 3.63E-02\n",
            "Epoch[220/220]: 100%|██████████| 220/220 [00:11<00:00, 19.42it/s, SmoothL1Loss=0.00612, MAE=1.29e+3, RMSE=1.89e+3, RegLoss=0]\n"
          ]
        },
        {
          "output_type": "execute_result",
          "data": {
            "text/html": [
              "<div>\n",
              "<style scoped>\n",
              "    .dataframe tbody tr th:only-of-type {\n",
              "        vertical-align: middle;\n",
              "    }\n",
              "\n",
              "    .dataframe tbody tr th {\n",
              "        vertical-align: top;\n",
              "    }\n",
              "\n",
              "    .dataframe thead th {\n",
              "        text-align: right;\n",
              "    }\n",
              "</style>\n",
              "<table border=\"1\" class=\"dataframe\">\n",
              "  <thead>\n",
              "    <tr style=\"text-align: right;\">\n",
              "      <th></th>\n",
              "      <th>SmoothL1Loss</th>\n",
              "      <th>MAE</th>\n",
              "      <th>RMSE</th>\n",
              "      <th>RegLoss</th>\n",
              "    </tr>\n",
              "  </thead>\n",
              "  <tbody>\n",
              "    <tr>\n",
              "      <th>0</th>\n",
              "      <td>0.058551</td>\n",
              "      <td>4743.531636</td>\n",
              "      <td>5907.281288</td>\n",
              "      <td>0.0</td>\n",
              "    </tr>\n",
              "    <tr>\n",
              "      <th>1</th>\n",
              "      <td>0.057574</td>\n",
              "      <td>4723.010990</td>\n",
              "      <td>5871.787072</td>\n",
              "      <td>0.0</td>\n",
              "    </tr>\n",
              "    <tr>\n",
              "      <th>2</th>\n",
              "      <td>0.056882</td>\n",
              "      <td>4708.443151</td>\n",
              "      <td>5790.297280</td>\n",
              "      <td>0.0</td>\n",
              "    </tr>\n",
              "    <tr>\n",
              "      <th>3</th>\n",
              "      <td>0.056121</td>\n",
              "      <td>4679.257419</td>\n",
              "      <td>5795.255661</td>\n",
              "      <td>0.0</td>\n",
              "    </tr>\n",
              "    <tr>\n",
              "      <th>4</th>\n",
              "      <td>0.055260</td>\n",
              "      <td>4646.949996</td>\n",
              "      <td>5706.001508</td>\n",
              "      <td>0.0</td>\n",
              "    </tr>\n",
              "    <tr>\n",
              "      <th>...</th>\n",
              "      <td>...</td>\n",
              "      <td>...</td>\n",
              "      <td>...</td>\n",
              "      <td>...</td>\n",
              "    </tr>\n",
              "    <tr>\n",
              "      <th>215</th>\n",
              "      <td>0.006120</td>\n",
              "      <td>1288.881138</td>\n",
              "      <td>1870.131716</td>\n",
              "      <td>0.0</td>\n",
              "    </tr>\n",
              "    <tr>\n",
              "      <th>216</th>\n",
              "      <td>0.006120</td>\n",
              "      <td>1288.866083</td>\n",
              "      <td>1893.418654</td>\n",
              "      <td>0.0</td>\n",
              "    </tr>\n",
              "    <tr>\n",
              "      <th>217</th>\n",
              "      <td>0.006118</td>\n",
              "      <td>1288.858786</td>\n",
              "      <td>1898.369119</td>\n",
              "      <td>0.0</td>\n",
              "    </tr>\n",
              "    <tr>\n",
              "      <th>218</th>\n",
              "      <td>0.006118</td>\n",
              "      <td>1288.884835</td>\n",
              "      <td>1865.053995</td>\n",
              "      <td>0.0</td>\n",
              "    </tr>\n",
              "    <tr>\n",
              "      <th>219</th>\n",
              "      <td>0.006118</td>\n",
              "      <td>1288.902044</td>\n",
              "      <td>1887.186138</td>\n",
              "      <td>0.0</td>\n",
              "    </tr>\n",
              "  </tbody>\n",
              "</table>\n",
              "<p>220 rows × 4 columns</p>\n",
              "</div>"
            ],
            "text/plain": [
              "     SmoothL1Loss          MAE         RMSE  RegLoss\n",
              "0        0.058551  4743.531636  5907.281288      0.0\n",
              "1        0.057574  4723.010990  5871.787072      0.0\n",
              "2        0.056882  4708.443151  5790.297280      0.0\n",
              "3        0.056121  4679.257419  5795.255661      0.0\n",
              "4        0.055260  4646.949996  5706.001508      0.0\n",
              "..            ...          ...          ...      ...\n",
              "215      0.006120  1288.881138  1870.131716      0.0\n",
              "216      0.006120  1288.866083  1893.418654      0.0\n",
              "217      0.006118  1288.858786  1898.369119      0.0\n",
              "218      0.006118  1288.884835  1865.053995      0.0\n",
              "219      0.006118  1288.902044  1887.186138      0.0\n",
              "\n",
              "[220 rows x 4 columns]"
            ]
          },
          "metadata": {},
          "execution_count": 42
        }
      ]
    },
    {
      "cell_type": "code",
      "source": [
        "n_future = nm.make_future_dataframe(ts, periods=30)"
      ],
      "metadata": {
        "id": "2712r-y6QU_J"
      },
      "execution_count": 43,
      "outputs": []
    },
    {
      "cell_type": "code",
      "source": [
        "n_future.tail()"
      ],
      "metadata": {
        "colab": {
          "base_uri": "https://localhost:8080/",
          "height": 204
        },
        "id": "YEDwelt4QVEC",
        "outputId": "05320861-f7fa-4dd1-d08e-146d658bb393"
      },
      "execution_count": 44,
      "outputs": [
        {
          "output_type": "execute_result",
          "data": {
            "text/html": [
              "<div>\n",
              "<style scoped>\n",
              "    .dataframe tbody tr th:only-of-type {\n",
              "        vertical-align: middle;\n",
              "    }\n",
              "\n",
              "    .dataframe tbody tr th {\n",
              "        vertical-align: top;\n",
              "    }\n",
              "\n",
              "    .dataframe thead th {\n",
              "        text-align: right;\n",
              "    }\n",
              "</style>\n",
              "<table border=\"1\" class=\"dataframe\">\n",
              "  <thead>\n",
              "    <tr style=\"text-align: right;\">\n",
              "      <th></th>\n",
              "      <th>ds</th>\n",
              "      <th>y</th>\n",
              "    </tr>\n",
              "  </thead>\n",
              "  <tbody>\n",
              "    <tr>\n",
              "      <th>25</th>\n",
              "      <td>2021-06-27</td>\n",
              "      <td>None</td>\n",
              "    </tr>\n",
              "    <tr>\n",
              "      <th>26</th>\n",
              "      <td>2021-06-28</td>\n",
              "      <td>None</td>\n",
              "    </tr>\n",
              "    <tr>\n",
              "      <th>27</th>\n",
              "      <td>2021-06-29</td>\n",
              "      <td>None</td>\n",
              "    </tr>\n",
              "    <tr>\n",
              "      <th>28</th>\n",
              "      <td>2021-06-30</td>\n",
              "      <td>None</td>\n",
              "    </tr>\n",
              "    <tr>\n",
              "      <th>29</th>\n",
              "      <td>2021-07-01</td>\n",
              "      <td>None</td>\n",
              "    </tr>\n",
              "  </tbody>\n",
              "</table>\n",
              "</div>"
            ],
            "text/plain": [
              "           ds     y\n",
              "25 2021-06-27  None\n",
              "26 2021-06-28  None\n",
              "27 2021-06-29  None\n",
              "28 2021-06-30  None\n",
              "29 2021-07-01  None"
            ]
          },
          "metadata": {},
          "execution_count": 44
        }
      ]
    },
    {
      "cell_type": "code",
      "source": [
        "n_forecast = nm.predict(n_future)"
      ],
      "metadata": {
        "id": "9itH7Z1sQVIM"
      },
      "execution_count": 45,
      "outputs": []
    },
    {
      "cell_type": "code",
      "source": [
        "n_forecast.tail()"
      ],
      "metadata": {
        "colab": {
          "base_uri": "https://localhost:8080/",
          "height": 428
        },
        "id": "pAxbeCwCQVMu",
        "outputId": "93e7f551-74ca-4717-f0a5-0a97d05ef94f"
      },
      "execution_count": 46,
      "outputs": [
        {
          "output_type": "execute_result",
          "data": {
            "text/html": [
              "<div>\n",
              "<style scoped>\n",
              "    .dataframe tbody tr th:only-of-type {\n",
              "        vertical-align: middle;\n",
              "    }\n",
              "\n",
              "    .dataframe tbody tr th {\n",
              "        vertical-align: top;\n",
              "    }\n",
              "\n",
              "    .dataframe thead th {\n",
              "        text-align: right;\n",
              "    }\n",
              "</style>\n",
              "<table border=\"1\" class=\"dataframe\">\n",
              "  <thead>\n",
              "    <tr style=\"text-align: right;\">\n",
              "      <th></th>\n",
              "      <th>ds</th>\n",
              "      <th>y</th>\n",
              "      <th>yhat1</th>\n",
              "      <th>residual1</th>\n",
              "      <th>trend</th>\n",
              "      <th>season_weekly</th>\n",
              "      <th>events_additive</th>\n",
              "      <th>event_Ascensión del señor [Ascension of Jesus](Observed)</th>\n",
              "      <th>event_Año Nuevo [New Year's Day]</th>\n",
              "      <th>event_Batalla de Boyacá [Battle of Boyacá]</th>\n",
              "      <th>event_Corpus Christi [Corpus Christi](Observed)</th>\n",
              "      <th>event_Descubrimiento de América [Discovery of America]</th>\n",
              "      <th>event_Descubrimiento de América [Discovery of America](Observed)</th>\n",
              "      <th>event_Dia de Todos los Santos [All Saint's Day]</th>\n",
              "      <th>event_Dia de Todos los Santos [All Saint's Day](Observed)</th>\n",
              "      <th>event_Día de San José [Saint Joseph's Day](Observed)</th>\n",
              "      <th>event_Día de la Independencia [Independence Day]</th>\n",
              "      <th>event_Día de los Reyes Magos [Epiphany]</th>\n",
              "      <th>event_Día de los Reyes Magos [Epiphany](Observed)</th>\n",
              "      <th>event_Día del Trabajo [Labour Day]</th>\n",
              "      <th>event_Independencia de Cartagena [Independence of Cartagena](Observed)</th>\n",
              "      <th>event_Jueves Santo [Maundy Thursday]</th>\n",
              "      <th>event_La Asunción [Assumption of Mary](Observed)</th>\n",
              "      <th>event_La Inmaculada Concepción [Immaculate Conception]</th>\n",
              "      <th>event_Navidad [Christmas]</th>\n",
              "      <th>event_Sagrado Corazón [Sacred Heart](Observed)</th>\n",
              "      <th>event_San Pedro y San Pablo [Saint Peter and Saint Paul]</th>\n",
              "      <th>event_San Pedro y San Pablo [Saint Peter and Saint Paul](Observed)</th>\n",
              "      <th>event_Viernes Santo [Good Friday]</th>\n",
              "    </tr>\n",
              "  </thead>\n",
              "  <tbody>\n",
              "    <tr>\n",
              "      <th>25</th>\n",
              "      <td>2021-06-27</td>\n",
              "      <td>None</td>\n",
              "      <td>28570.138672</td>\n",
              "      <td>NaN</td>\n",
              "      <td>29315.476562</td>\n",
              "      <td>-0.025426</td>\n",
              "      <td>0.0</td>\n",
              "      <td>0.0</td>\n",
              "      <td>0.0</td>\n",
              "      <td>0.0</td>\n",
              "      <td>0.0</td>\n",
              "      <td>0.0</td>\n",
              "      <td>0.0</td>\n",
              "      <td>0.0</td>\n",
              "      <td>0.0</td>\n",
              "      <td>0.0</td>\n",
              "      <td>0.0</td>\n",
              "      <td>0.0</td>\n",
              "      <td>0.0</td>\n",
              "      <td>0.0</td>\n",
              "      <td>0.0</td>\n",
              "      <td>0.0</td>\n",
              "      <td>0.0</td>\n",
              "      <td>0.0</td>\n",
              "      <td>0.0</td>\n",
              "      <td>0.0</td>\n",
              "      <td>0.0</td>\n",
              "      <td>0.0</td>\n",
              "      <td>0.0</td>\n",
              "    </tr>\n",
              "    <tr>\n",
              "      <th>26</th>\n",
              "      <td>2021-06-28</td>\n",
              "      <td>None</td>\n",
              "      <td>25399.898438</td>\n",
              "      <td>NaN</td>\n",
              "      <td>29553.908203</td>\n",
              "      <td>-0.140562</td>\n",
              "      <td>0.0</td>\n",
              "      <td>0.0</td>\n",
              "      <td>0.0</td>\n",
              "      <td>0.0</td>\n",
              "      <td>0.0</td>\n",
              "      <td>0.0</td>\n",
              "      <td>0.0</td>\n",
              "      <td>0.0</td>\n",
              "      <td>0.0</td>\n",
              "      <td>0.0</td>\n",
              "      <td>0.0</td>\n",
              "      <td>0.0</td>\n",
              "      <td>0.0</td>\n",
              "      <td>0.0</td>\n",
              "      <td>0.0</td>\n",
              "      <td>0.0</td>\n",
              "      <td>0.0</td>\n",
              "      <td>0.0</td>\n",
              "      <td>0.0</td>\n",
              "      <td>0.0</td>\n",
              "      <td>0.0</td>\n",
              "      <td>0.0</td>\n",
              "      <td>0.0</td>\n",
              "    </tr>\n",
              "    <tr>\n",
              "      <th>27</th>\n",
              "      <td>2021-06-29</td>\n",
              "      <td>None</td>\n",
              "      <td>29064.687500</td>\n",
              "      <td>NaN</td>\n",
              "      <td>29792.339844</td>\n",
              "      <td>-0.024425</td>\n",
              "      <td>0.0</td>\n",
              "      <td>0.0</td>\n",
              "      <td>0.0</td>\n",
              "      <td>0.0</td>\n",
              "      <td>0.0</td>\n",
              "      <td>0.0</td>\n",
              "      <td>0.0</td>\n",
              "      <td>0.0</td>\n",
              "      <td>0.0</td>\n",
              "      <td>0.0</td>\n",
              "      <td>0.0</td>\n",
              "      <td>0.0</td>\n",
              "      <td>0.0</td>\n",
              "      <td>0.0</td>\n",
              "      <td>0.0</td>\n",
              "      <td>0.0</td>\n",
              "      <td>0.0</td>\n",
              "      <td>0.0</td>\n",
              "      <td>0.0</td>\n",
              "      <td>0.0</td>\n",
              "      <td>0.0</td>\n",
              "      <td>0.0</td>\n",
              "      <td>0.0</td>\n",
              "    </tr>\n",
              "    <tr>\n",
              "      <th>28</th>\n",
              "      <td>2021-06-30</td>\n",
              "      <td>None</td>\n",
              "      <td>31485.541016</td>\n",
              "      <td>NaN</td>\n",
              "      <td>30030.779297</td>\n",
              "      <td>0.048444</td>\n",
              "      <td>0.0</td>\n",
              "      <td>0.0</td>\n",
              "      <td>0.0</td>\n",
              "      <td>0.0</td>\n",
              "      <td>0.0</td>\n",
              "      <td>0.0</td>\n",
              "      <td>0.0</td>\n",
              "      <td>0.0</td>\n",
              "      <td>0.0</td>\n",
              "      <td>0.0</td>\n",
              "      <td>0.0</td>\n",
              "      <td>0.0</td>\n",
              "      <td>0.0</td>\n",
              "      <td>0.0</td>\n",
              "      <td>0.0</td>\n",
              "      <td>0.0</td>\n",
              "      <td>0.0</td>\n",
              "      <td>0.0</td>\n",
              "      <td>0.0</td>\n",
              "      <td>0.0</td>\n",
              "      <td>0.0</td>\n",
              "      <td>0.0</td>\n",
              "      <td>0.0</td>\n",
              "    </tr>\n",
              "    <tr>\n",
              "      <th>29</th>\n",
              "      <td>2021-07-01</td>\n",
              "      <td>None</td>\n",
              "      <td>32394.085938</td>\n",
              "      <td>NaN</td>\n",
              "      <td>30269.218750</td>\n",
              "      <td>0.070201</td>\n",
              "      <td>0.0</td>\n",
              "      <td>0.0</td>\n",
              "      <td>0.0</td>\n",
              "      <td>0.0</td>\n",
              "      <td>0.0</td>\n",
              "      <td>0.0</td>\n",
              "      <td>0.0</td>\n",
              "      <td>0.0</td>\n",
              "      <td>0.0</td>\n",
              "      <td>0.0</td>\n",
              "      <td>0.0</td>\n",
              "      <td>0.0</td>\n",
              "      <td>0.0</td>\n",
              "      <td>0.0</td>\n",
              "      <td>0.0</td>\n",
              "      <td>0.0</td>\n",
              "      <td>0.0</td>\n",
              "      <td>0.0</td>\n",
              "      <td>0.0</td>\n",
              "      <td>0.0</td>\n",
              "      <td>0.0</td>\n",
              "      <td>0.0</td>\n",
              "      <td>0.0</td>\n",
              "    </tr>\n",
              "  </tbody>\n",
              "</table>\n",
              "</div>"
            ],
            "text/plain": [
              "           ds  ... event_Viernes Santo [Good Friday]\n",
              "25 2021-06-27  ...                               0.0\n",
              "26 2021-06-28  ...                               0.0\n",
              "27 2021-06-29  ...                               0.0\n",
              "28 2021-06-30  ...                               0.0\n",
              "29 2021-07-01  ...                               0.0\n",
              "\n",
              "[5 rows x 29 columns]"
            ]
          },
          "metadata": {},
          "execution_count": 46
        }
      ]
    },
    {
      "cell_type": "code",
      "source": [
        "plt.figure(figsize=(12,6))\n",
        "plt.xticks(rotation=45)\n",
        "plt.title(\"Models Comparison\")\n",
        "plt.plot(n_forecast['ds'], n_forecast['yhat1'], marker='.', c='navy', label='NeuralProphet')\n",
        "plt.plot(act['ds'], act['y'], c='red', label='Actuals', marker='.', alpha=0.3)\n",
        "plt.legend()"
      ],
      "metadata": {
        "colab": {
          "base_uri": "https://localhost:8080/",
          "height": 446
        },
        "id": "BDfgTxJgQVRz",
        "outputId": "bbf586f8-beb6-4467-d367-d86b362c7e7f"
      },
      "execution_count": 47,
      "outputs": [
        {
          "output_type": "execute_result",
          "data": {
            "text/plain": [
              "<matplotlib.legend.Legend at 0x7ff6c6394290>"
            ]
          },
          "metadata": {},
          "execution_count": 47
        },
        {
          "output_type": "display_data",
          "data": {
            "image/png": "[encoded data removed]",
            "text/plain": [
              "<Figure size 864x432 with 1 Axes>"
            ]
          },
          "metadata": {}
        }
      ]
    },
    {
      "cell_type": "code",
      "source": [
        "nm.plot(pd.concat([ts, n_forecast], ignore_index=True));"
      ],
      "metadata": {
        "colab": {
          "base_uri": "https://localhost:8080/",
          "height": 441
        },
        "id": "RlRTtEIOQVXh",
        "outputId": "a4807c9c-183b-4251-bc24-05ae03933b03"
      },
      "execution_count": 48,
      "outputs": [
        {
          "output_type": "display_data",
          "data": {
            "image/png": "[encoded data removed]",
            "text/plain": [
              "<Figure size 720x432 with 1 Axes>"
            ]
          },
          "metadata": {}
        }
      ]
    },
    {
      "cell_type": "markdown",
      "source": [
        "### Performance Metrics"
      ],
      "metadata": {
        "id": "PxQPboiBTGk6"
      }
    },
    {
      "cell_type": "code",
      "source": [
        "n_prophet_mae = mean_absolute_error(act['y'], n_forecast['yhat1'])\n",
        "n_prophet_rmse = np.sqrt(mean_squared_error(act['y'], n_forecast['yhat1']))"
      ],
      "metadata": {
        "id": "NYjhoFjzQVcz"
      },
      "execution_count": 49,
      "outputs": []
    },
    {
      "cell_type": "code",
      "source": [
        "print(\"Neural Prophet RMSE: {:.4f}\".format(n_prophet_rmse))\n",
        "print(\"Neural Prophet MAE: {:.4f}\".format(n_prophet_mae))"
      ],
      "metadata": {
        "colab": {
          "base_uri": "https://localhost:8080/"
        },
        "id": "qGMxH51hQVih",
        "outputId": "889ecefd-b6be-4fc1-e30a-65029a40f9dd"
      },
      "execution_count": 50,
      "outputs": [
        {
          "output_type": "stream",
          "name": "stdout",
          "text": [
            "Neural Prophet RMSE: 2968.1009\n",
            "Neural Prophet MAE: 2501.3087\n"
          ]
        }
      ]
    },
    {
      "cell_type": "code",
      "source": [
        "print(\"Prophet RMSE: {:.4f}\".format(prophet_rmse))\n",
        "print(\"Prophet MAE: {:.4f}\".format(prophet_mae))"
      ],
      "metadata": {
        "colab": {
          "base_uri": "https://localhost:8080/"
        },
        "id": "PQf5WbhgTwiS",
        "outputId": "4e50d70e-3812-41d9-901d-e66fc4ccf595"
      },
      "execution_count": 51,
      "outputs": [
        {
          "output_type": "stream",
          "name": "stdout",
          "text": [
            "Prophet RMSE: 8179.9423\n",
            "Prophet MAE: 7729.1117\n"
          ]
        }
      ]
    },
    {
      "cell_type": "code",
      "source": [
        "n_prophet_rmse - prophet_rmse"
      ],
      "metadata": {
        "colab": {
          "base_uri": "https://localhost:8080/"
        },
        "id": "2uYHMulJYpiq",
        "outputId": "5e2facbf-0e3b-4a72-d2fa-6b401edc2b36"
      },
      "execution_count": 52,
      "outputs": [
        {
          "output_type": "execute_result",
          "data": {
            "text/plain": [
              "-5211.841382266553"
            ]
          },
          "metadata": {},
          "execution_count": 52
        }
      ]
    },
    {
      "cell_type": "markdown",
      "source": [
        "## Final Comments"
      ],
      "metadata": {
        "id": "Aq80C1pRYTvd"
      }
    },
    {
      "cell_type": "markdown",
      "source": [
        "*   At least for this particular dataset and using the default arguments,  the **NeuralProphet** model scored a **RMSE** of **2968** whereas the **Prophet** model scored a **RMSE** of **8179**, a **5211 (~63.7%) difference** compared against the first model"
      ],
      "metadata": {
        "id": "Z9gvnBfLYcbP"
      }
    }
  ]
}