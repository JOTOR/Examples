{
  "nbformat": 4,
  "nbformat_minor": 0,
  "metadata": {
    "colab": {
      "name": "ActiveLearning_Demo.ipynb",
      "provenance": [],
      "collapsed_sections": [],
      "toc_visible": true,
      "authorship_tag": "ABX9TyOKsnP/s3KjcZ/t9FrOugUR",
      "include_colab_link": true
    },
    "kernelspec": {
      "name": "python3",
      "display_name": "Python 3"
    },
    "language_info": {
      "name": "python"
    }
  },
  "cells": [
    {
      "cell_type": "markdown",
      "metadata": {
        "id": "view-in-github",
        "colab_type": "text"
      },
      "source": [
        "<a href=\"https://colab.research.google.com/github/JOTOR/Examples_Python/blob/master/ActiveLearning_Demo.ipynb\" target=\"_parent\"><img src=\"https://colab.research.google.com/assets/colab-badge.svg\" alt=\"Open In Colab\"/></a>"
      ]
    },
    {
      "cell_type": "markdown",
      "source": [
        "# Active Learning Demo\n",
        "Created by: Jhonnatan Torres (jhonnatan.torres.suarez@gmail.com)\n",
        "___"
      ],
      "metadata": {
        "id": "udNuz2FFac6x"
      }
    },
    {
      "cell_type": "markdown",
      "source": [
        "## Background\n",
        "\n",
        "Let's assume you need to work in a sentiment analysis, you have 1,000 records with a *Positive (1)* or *Negative (0)* labels and around 19,000 without labels, the first option is to increase the number of labeled records, you can do it by yourself or you can hire someone else, but for the sake of this demo, let's say this labeling job is expensive and you cannot afford it.\n",
        "\n",
        "Another option is to use an Active Learning approach;  using the labeled dataset as basis, train a ML model and try to assign or predict the sentiment of the 19000 unlabeled records, you can use a semi-supervised estimator available in scikit-learn, but for this demo, I will be using  [**modAL**](https://modal-python.readthedocs.io/en/latest/) a python library for Active Learning, the main advantage is you can \"help\" the model to classify the observations with the **highest uncertainty**, that is right, you can **teach a learner**"
      ],
      "metadata": {
        "id": "WE_S1nCXapbf"
      }
    },
    {
      "cell_type": "code",
      "execution_count": 1,
      "metadata": {
        "id": "LkYzhAWa3qQS"
      },
      "outputs": [],
      "source": [
        "!pip install modAL -q"
      ]
    },
    {
      "cell_type": "code",
      "source": [
        "import numpy as np\n",
        "import pandas as pd\n",
        "\n",
        "from modAL.models import ActiveLearner\n",
        "from modAL.uncertainty import uncertainty_sampling\n",
        "\n",
        "from sklearn.model_selection import train_test_split\n",
        "from sklearn.svm import LinearSVC, SVC\n",
        "from sklearn.preprocessing import MaxAbsScaler\n",
        "from sklearn.feature_extraction.text import TfidfVectorizer\n",
        "from sklearn.pipeline import make_pipeline\n",
        "\n",
        "import re\n",
        "\n",
        "from IPython import display\n",
        "from matplotlib import pyplot as plt\n",
        "%matplotlib inline"
      ],
      "metadata": {
        "id": "cr6c9L3w32l8"
      },
      "execution_count": 2,
      "outputs": []
    },
    {
      "cell_type": "markdown",
      "source": [
        "## Dataset\n",
        "\n",
        "For this demo I am using a modified version of different reviews and ratings extracted from Trip Advisor and I will be assuming that only 1,000 records (n_initial) have a Positive or Negative label"
      ],
      "metadata": {
        "id": "hBUvYMMgcMhl"
      }
    },
    {
      "cell_type": "code",
      "source": [
        "n_initial = 1000"
      ],
      "metadata": {
        "id": "CCwqb9rY3-FC"
      },
      "execution_count": 3,
      "outputs": []
    },
    {
      "cell_type": "code",
      "source": [
        "df = pd.read_csv('https://raw.githubusercontent.com/JOTOR/Datasets/main/tripadvisor_hotel_reviews.csv')"
      ],
      "metadata": {
        "id": "dOoBIIsbLDSp"
      },
      "execution_count": 4,
      "outputs": []
    },
    {
      "cell_type": "code",
      "source": [
        "df.head(3)"
      ],
      "metadata": {
        "colab": {
          "base_uri": "https://localhost:8080/",
          "height": 143
        },
        "id": "7OwSDu-cLO-Z",
        "outputId": "6588b187-ec4e-4069-bdd9-ee7615aef638"
      },
      "execution_count": 5,
      "outputs": [
        {
          "output_type": "execute_result",
          "data": {
            "text/html": [
              "\n",
              "  <div id=\"df-4f80dc7c-affc-4a79-99b3-c82e68e184d4\">\n",
              "    <div class=\"colab-df-container\">\n",
              "      <div>\n",
              "<style scoped>\n",
              "    .dataframe tbody tr th:only-of-type {\n",
              "        vertical-align: middle;\n",
              "    }\n",
              "\n",
              "    .dataframe tbody tr th {\n",
              "        vertical-align: top;\n",
              "    }\n",
              "\n",
              "    .dataframe thead th {\n",
              "        text-align: right;\n",
              "    }\n",
              "</style>\n",
              "<table border=\"1\" class=\"dataframe\">\n",
              "  <thead>\n",
              "    <tr style=\"text-align: right;\">\n",
              "      <th></th>\n",
              "      <th>Review</th>\n",
              "      <th>Rating</th>\n",
              "    </tr>\n",
              "  </thead>\n",
              "  <tbody>\n",
              "    <tr>\n",
              "      <th>0</th>\n",
              "      <td>nice hotel expensive parking got good deal sta...</td>\n",
              "      <td>1</td>\n",
              "    </tr>\n",
              "    <tr>\n",
              "      <th>1</th>\n",
              "      <td>ok nothing special charge diamond member hilto...</td>\n",
              "      <td>0</td>\n",
              "    </tr>\n",
              "    <tr>\n",
              "      <th>2</th>\n",
              "      <td>nice rooms not 4* experience hotel monaco seat...</td>\n",
              "      <td>0</td>\n",
              "    </tr>\n",
              "  </tbody>\n",
              "</table>\n",
              "</div>\n",
              "      <button class=\"colab-df-convert\" onclick=\"convertToInteractive('df-4f80dc7c-affc-4a79-99b3-c82e68e184d4')\"\n",
              "              title=\"Convert this dataframe to an interactive table.\"\n",
              "              style=\"display:none;\">\n",
              "        \n",
              "  <svg xmlns=\"http://www.w3.org/2000/svg\" height=\"24px\"viewBox=\"0 0 24 24\"\n",
              "       width=\"24px\">\n",
              "    <path d=\"M0 0h24v24H0V0z\" fill=\"none\"/>\n",
              "    <path d=\"M18.56 5.44l.94 2.06.94-2.06 2.06-.94-2.06-.94-.94-2.06-.94 2.06-2.06.94zm-11 1L8.5 8.5l.94-2.06 2.06-.94-2.06-.94L8.5 2.5l-.94 2.06-2.06.94zm10 10l.94 2.06.94-2.06 2.06-.94-2.06-.94-.94-2.06-.94 2.06-2.06.94z\"/><path d=\"M17.41 7.96l-1.37-1.37c-.4-.4-.92-.59-1.43-.59-.52 0-1.04.2-1.43.59L10.3 9.45l-7.72 7.72c-.78.78-.78 2.05 0 2.83L4 21.41c.39.39.9.59 1.41.59.51 0 1.02-.2 1.41-.59l7.78-7.78 2.81-2.81c.8-.78.8-2.07 0-2.86zM5.41 20L4 18.59l7.72-7.72 1.47 1.35L5.41 20z\"/>\n",
              "  </svg>\n",
              "      </button>\n",
              "      \n",
              "  <style>\n",
              "    .colab-df-container {\n",
              "      display:flex;\n",
              "      flex-wrap:wrap;\n",
              "      gap: 12px;\n",
              "    }\n",
              "\n",
              "    .colab-df-convert {\n",
              "      background-color: #E8F0FE;\n",
              "      border: none;\n",
              "      border-radius: 50%;\n",
              "      cursor: pointer;\n",
              "      display: none;\n",
              "      fill: #1967D2;\n",
              "      height: 32px;\n",
              "      padding: 0 0 0 0;\n",
              "      width: 32px;\n",
              "    }\n",
              "\n",
              "    .colab-df-convert:hover {\n",
              "      background-color: #E2EBFA;\n",
              "      box-shadow: 0px 1px 2px rgba(60, 64, 67, 0.3), 0px 1px 3px 1px rgba(60, 64, 67, 0.15);\n",
              "      fill: #174EA6;\n",
              "    }\n",
              "\n",
              "    [theme=dark] .colab-df-convert {\n",
              "      background-color: #3B4455;\n",
              "      fill: #D2E3FC;\n",
              "    }\n",
              "\n",
              "    [theme=dark] .colab-df-convert:hover {\n",
              "      background-color: #434B5C;\n",
              "      box-shadow: 0px 1px 3px 1px rgba(0, 0, 0, 0.15);\n",
              "      filter: drop-shadow(0px 1px 2px rgba(0, 0, 0, 0.3));\n",
              "      fill: #FFFFFF;\n",
              "    }\n",
              "  </style>\n",
              "\n",
              "      <script>\n",
              "        const buttonEl =\n",
              "          document.querySelector('#df-4f80dc7c-affc-4a79-99b3-c82e68e184d4 button.colab-df-convert');\n",
              "        buttonEl.style.display =\n",
              "          google.colab.kernel.accessAllowed ? 'block' : 'none';\n",
              "\n",
              "        async function convertToInteractive(key) {\n",
              "          const element = document.querySelector('#df-4f80dc7c-affc-4a79-99b3-c82e68e184d4');\n",
              "          const dataTable =\n",
              "            await google.colab.kernel.invokeFunction('convertToInteractive',\n",
              "                                                     [key], {});\n",
              "          if (!dataTable) return;\n",
              "\n",
              "          const docLinkHtml = 'Like what you see? Visit the ' +\n",
              "            '<a target=\"_blank\" href=https://colab.research.google.com/notebooks/data_table.ipynb>data table notebook</a>'\n",
              "            + ' to learn more about interactive tables.';\n",
              "          element.innerHTML = '';\n",
              "          dataTable['output_type'] = 'display_data';\n",
              "          await google.colab.output.renderOutput(dataTable, element);\n",
              "          const docLink = document.createElement('div');\n",
              "          docLink.innerHTML = docLinkHtml;\n",
              "          element.appendChild(docLink);\n",
              "        }\n",
              "      </script>\n",
              "    </div>\n",
              "  </div>\n",
              "  "
            ],
            "text/plain": [
              "                                              Review  Rating\n",
              "0  nice hotel expensive parking got good deal sta...       1\n",
              "1  ok nothing special charge diamond member hilto...       0\n",
              "2  nice rooms not 4* experience hotel monaco seat...       0"
            ]
          },
          "metadata": {},
          "execution_count": 5
        }
      ]
    },
    {
      "cell_type": "code",
      "source": [
        "df.shape"
      ],
      "metadata": {
        "colab": {
          "base_uri": "https://localhost:8080/"
        },
        "id": "EOePmc3KLlph",
        "outputId": "27ada12e-1c81-40db-e7fa-e6902feddcb6"
      },
      "execution_count": 6,
      "outputs": [
        {
          "output_type": "execute_result",
          "data": {
            "text/plain": [
              "(20491, 2)"
            ]
          },
          "metadata": {},
          "execution_count": 6
        }
      ]
    },
    {
      "cell_type": "markdown",
      "source": [
        "Simple text-processing"
      ],
      "metadata": {
        "id": "EU3SU1LOcgA7"
      }
    },
    {
      "cell_type": "code",
      "source": [
        "df['Review'] = df['Review'].apply(lambda x: re.sub('[^\\w\\s]',' ',str(x)))\n",
        "df['Review'] = df['Review'].apply(lambda x: re.sub('[0-9]','',str(x)))\n",
        "df['Review'] = df['Review'].apply(lambda x: str(x).strip())"
      ],
      "metadata": {
        "id": "d7LV8ToBLvx4"
      },
      "execution_count": 7,
      "outputs": []
    },
    {
      "cell_type": "code",
      "source": [
        "df.sample(10)"
      ],
      "metadata": {
        "colab": {
          "base_uri": "https://localhost:8080/",
          "height": 363
        },
        "id": "sDqjHG1pLvhc",
        "outputId": "ce805747-17c1-4cf0-bd1d-33bfb7358735"
      },
      "execution_count": 8,
      "outputs": [
        {
          "output_type": "execute_result",
          "data": {
            "text/html": [
              "\n",
              "  <div id=\"df-f0c63e6b-78b6-455d-8027-080098574b1e\">\n",
              "    <div class=\"colab-df-container\">\n",
              "      <div>\n",
              "<style scoped>\n",
              "    .dataframe tbody tr th:only-of-type {\n",
              "        vertical-align: middle;\n",
              "    }\n",
              "\n",
              "    .dataframe tbody tr th {\n",
              "        vertical-align: top;\n",
              "    }\n",
              "\n",
              "    .dataframe thead th {\n",
              "        text-align: right;\n",
              "    }\n",
              "</style>\n",
              "<table border=\"1\" class=\"dataframe\">\n",
              "  <thead>\n",
              "    <tr style=\"text-align: right;\">\n",
              "      <th></th>\n",
              "      <th>Review</th>\n",
              "      <th>Rating</th>\n",
              "    </tr>\n",
              "  </thead>\n",
              "  <tbody>\n",
              "    <tr>\n",
              "      <th>14670</th>\n",
              "      <td>word excellent  word  worried hotel pick booki...</td>\n",
              "      <td>1</td>\n",
              "    </tr>\n",
              "    <tr>\n",
              "      <th>3852</th>\n",
              "      <td>spend couple dollars stayed evening august    ...</td>\n",
              "      <td>0</td>\n",
              "    </tr>\n",
              "    <tr>\n",
              "      <th>17265</th>\n",
              "      <td>stamp approved friends came visit stayed  grea...</td>\n",
              "      <td>0</td>\n",
              "    </tr>\n",
              "    <tr>\n",
              "      <th>130</th>\n",
              "      <td>pretty good  spent nights moore  really like  ...</td>\n",
              "      <td>0</td>\n",
              "    </tr>\n",
              "    <tr>\n",
              "      <th>14226</th>\n",
              "      <td>loved loved  looking forward going  stayed rec...</td>\n",
              "      <td>1</td>\n",
              "    </tr>\n",
              "    <tr>\n",
              "      <th>7044</th>\n",
              "      <td>does n t better husband just returned second v...</td>\n",
              "      <td>1</td>\n",
              "    </tr>\n",
              "    <tr>\n",
              "      <th>8639</th>\n",
              "      <td>great stay jan luyken really close hire bikes ...</td>\n",
              "      <td>1</td>\n",
              "    </tr>\n",
              "    <tr>\n",
              "      <th>3426</th>\n",
              "      <td>not bad wife spent honeymoon san juan stayed r...</td>\n",
              "      <td>1</td>\n",
              "    </tr>\n",
              "    <tr>\n",
              "      <th>120</th>\n",
              "      <td>good hotel walls liked room small  staff great...</td>\n",
              "      <td>1</td>\n",
              "    </tr>\n",
              "    <tr>\n",
              "      <th>16860</th>\n",
              "      <td>worst location does say place eat sub place  m...</td>\n",
              "      <td>0</td>\n",
              "    </tr>\n",
              "  </tbody>\n",
              "</table>\n",
              "</div>\n",
              "      <button class=\"colab-df-convert\" onclick=\"convertToInteractive('df-f0c63e6b-78b6-455d-8027-080098574b1e')\"\n",
              "              title=\"Convert this dataframe to an interactive table.\"\n",
              "              style=\"display:none;\">\n",
              "        \n",
              "  <svg xmlns=\"http://www.w3.org/2000/svg\" height=\"24px\"viewBox=\"0 0 24 24\"\n",
              "       width=\"24px\">\n",
              "    <path d=\"M0 0h24v24H0V0z\" fill=\"none\"/>\n",
              "    <path d=\"M18.56 5.44l.94 2.06.94-2.06 2.06-.94-2.06-.94-.94-2.06-.94 2.06-2.06.94zm-11 1L8.5 8.5l.94-2.06 2.06-.94-2.06-.94L8.5 2.5l-.94 2.06-2.06.94zm10 10l.94 2.06.94-2.06 2.06-.94-2.06-.94-.94-2.06-.94 2.06-2.06.94z\"/><path d=\"M17.41 7.96l-1.37-1.37c-.4-.4-.92-.59-1.43-.59-.52 0-1.04.2-1.43.59L10.3 9.45l-7.72 7.72c-.78.78-.78 2.05 0 2.83L4 21.41c.39.39.9.59 1.41.59.51 0 1.02-.2 1.41-.59l7.78-7.78 2.81-2.81c.8-.78.8-2.07 0-2.86zM5.41 20L4 18.59l7.72-7.72 1.47 1.35L5.41 20z\"/>\n",
              "  </svg>\n",
              "      </button>\n",
              "      \n",
              "  <style>\n",
              "    .colab-df-container {\n",
              "      display:flex;\n",
              "      flex-wrap:wrap;\n",
              "      gap: 12px;\n",
              "    }\n",
              "\n",
              "    .colab-df-convert {\n",
              "      background-color: #E8F0FE;\n",
              "      border: none;\n",
              "      border-radius: 50%;\n",
              "      cursor: pointer;\n",
              "      display: none;\n",
              "      fill: #1967D2;\n",
              "      height: 32px;\n",
              "      padding: 0 0 0 0;\n",
              "      width: 32px;\n",
              "    }\n",
              "\n",
              "    .colab-df-convert:hover {\n",
              "      background-color: #E2EBFA;\n",
              "      box-shadow: 0px 1px 2px rgba(60, 64, 67, 0.3), 0px 1px 3px 1px rgba(60, 64, 67, 0.15);\n",
              "      fill: #174EA6;\n",
              "    }\n",
              "\n",
              "    [theme=dark] .colab-df-convert {\n",
              "      background-color: #3B4455;\n",
              "      fill: #D2E3FC;\n",
              "    }\n",
              "\n",
              "    [theme=dark] .colab-df-convert:hover {\n",
              "      background-color: #434B5C;\n",
              "      box-shadow: 0px 1px 3px 1px rgba(0, 0, 0, 0.15);\n",
              "      filter: drop-shadow(0px 1px 2px rgba(0, 0, 0, 0.3));\n",
              "      fill: #FFFFFF;\n",
              "    }\n",
              "  </style>\n",
              "\n",
              "      <script>\n",
              "        const buttonEl =\n",
              "          document.querySelector('#df-f0c63e6b-78b6-455d-8027-080098574b1e button.colab-df-convert');\n",
              "        buttonEl.style.display =\n",
              "          google.colab.kernel.accessAllowed ? 'block' : 'none';\n",
              "\n",
              "        async function convertToInteractive(key) {\n",
              "          const element = document.querySelector('#df-f0c63e6b-78b6-455d-8027-080098574b1e');\n",
              "          const dataTable =\n",
              "            await google.colab.kernel.invokeFunction('convertToInteractive',\n",
              "                                                     [key], {});\n",
              "          if (!dataTable) return;\n",
              "\n",
              "          const docLinkHtml = 'Like what you see? Visit the ' +\n",
              "            '<a target=\"_blank\" href=https://colab.research.google.com/notebooks/data_table.ipynb>data table notebook</a>'\n",
              "            + ' to learn more about interactive tables.';\n",
              "          element.innerHTML = '';\n",
              "          dataTable['output_type'] = 'display_data';\n",
              "          await google.colab.output.renderOutput(dataTable, element);\n",
              "          const docLink = document.createElement('div');\n",
              "          docLink.innerHTML = docLinkHtml;\n",
              "          element.appendChild(docLink);\n",
              "        }\n",
              "      </script>\n",
              "    </div>\n",
              "  </div>\n",
              "  "
            ],
            "text/plain": [
              "                                                  Review  Rating\n",
              "14670  word excellent  word  worried hotel pick booki...       1\n",
              "3852   spend couple dollars stayed evening august    ...       0\n",
              "17265  stamp approved friends came visit stayed  grea...       0\n",
              "130    pretty good  spent nights moore  really like  ...       0\n",
              "14226  loved loved  looking forward going  stayed rec...       1\n",
              "7044   does n t better husband just returned second v...       1\n",
              "8639   great stay jan luyken really close hire bikes ...       1\n",
              "3426   not bad wife spent honeymoon san juan stayed r...       1\n",
              "120    good hotel walls liked room small  staff great...       1\n",
              "16860  worst location does say place eat sub place  m...       0"
            ]
          },
          "metadata": {},
          "execution_count": 8
        }
      ]
    },
    {
      "cell_type": "code",
      "source": [
        "df.info()"
      ],
      "metadata": {
        "colab": {
          "base_uri": "https://localhost:8080/"
        },
        "id": "JB7Gli2AQqbS",
        "outputId": "2cbc0707-a110-42fe-f5da-3c10e7643704"
      },
      "execution_count": 9,
      "outputs": [
        {
          "output_type": "stream",
          "name": "stdout",
          "text": [
            "<class 'pandas.core.frame.DataFrame'>\n",
            "RangeIndex: 20491 entries, 0 to 20490\n",
            "Data columns (total 2 columns):\n",
            " #   Column  Non-Null Count  Dtype \n",
            "---  ------  --------------  ----- \n",
            " 0   Review  20491 non-null  object\n",
            " 1   Rating  20491 non-null  int64 \n",
            "dtypes: int64(1), object(1)\n",
            "memory usage: 320.3+ KB\n"
          ]
        }
      ]
    },
    {
      "cell_type": "markdown",
      "source": [
        "Creating the initial dataset of 1,000 records to train the model, remaining records are stored in *pool* dataframes"
      ],
      "metadata": {
        "id": "P9m7-iz9cjwK"
      }
    },
    {
      "cell_type": "code",
      "source": [
        "X_train, X_test, y_train, y_test = train_test_split(df['Review'], df['Rating'])\n",
        "\n",
        "initial_idx = np.random.choice(range(len(X_train)), size=n_initial, replace=False)\n",
        "\n",
        "print(len(X_train))\n",
        "\n",
        "X_initial, y_initial = X_train.iloc[initial_idx], y_train.iloc[initial_idx]\n",
        "X_pool, y_pool = np.delete(X_train.values, initial_idx, axis=0), np.delete(y_train.values, initial_idx, axis=0)\n",
        "\n",
        "print(X_train.shape, X_test.shape, y_train.shape, y_test.shape)\n",
        "print(X_initial.shape, y_initial.shape)\n",
        "print(X_pool.shape, y_pool.shape)"
      ],
      "metadata": {
        "colab": {
          "base_uri": "https://localhost:8080/"
        },
        "id": "gpykqNCM4WoL",
        "outputId": "6a931ec1-95fc-4b2e-8805-56347b4783b0"
      },
      "execution_count": 10,
      "outputs": [
        {
          "output_type": "stream",
          "name": "stdout",
          "text": [
            "15368\n",
            "(15368,) (5123,) (15368,) (5123,)\n",
            "(1000,) (1000,)\n",
            "(14368,) (14368,)\n"
          ]
        }
      ]
    },
    {
      "cell_type": "markdown",
      "source": [
        "Since I am dealing with text data, I am creating a \"preprocessor\" to transform the text into vectors and scaling the results with MaxAbsScaler.\n",
        "\n",
        "The estimator is a SVC with a linear kernel and some regularization"
      ],
      "metadata": {
        "id": "2xJ0mBYDc8Al"
      }
    },
    {
      "cell_type": "code",
      "source": [
        "PREPROCESS = make_pipeline(TfidfVectorizer(max_df=0.90, min_df=10, max_features=1500, stop_words='english'),\n",
        "                           MaxAbsScaler())\n",
        "ESTIMATOR = SVC(C=0.1, kernel='linear',class_weight='balanced', random_state=1234, probability=True)"
      ],
      "metadata": {
        "id": "JVzLjPiLNjxK"
      },
      "execution_count": 11,
      "outputs": []
    },
    {
      "cell_type": "code",
      "source": [
        "learner = ActiveLearner(\n",
        "    estimator=ESTIMATOR,\n",
        "    query_strategy=uncertainty_sampling,\n",
        "    X_training=PREPROCESS.fit_transform(X_initial), y_training=y_initial.values\n",
        ")"
      ],
      "metadata": {
        "id": "3GlhOh8F4Wlk"
      },
      "execution_count": 12,
      "outputs": []
    },
    {
      "cell_type": "markdown",
      "source": [
        "## Active Learning Loop\n",
        "\n",
        "For this demo I will be using 5 queries, but according to the official documentation, the more queries, the better"
      ],
      "metadata": {
        "id": "nOdhjkgJdf0b"
      }
    },
    {
      "cell_type": "code",
      "source": [
        "n_queries = 5"
      ],
      "metadata": {
        "id": "Dh-eiz3J4Wi5"
      },
      "execution_count": 13,
      "outputs": []
    },
    {
      "cell_type": "code",
      "source": [
        "learner.score(PREPROCESS.transform(X_test), y_test.values)"
      ],
      "metadata": {
        "colab": {
          "base_uri": "https://localhost:8080/"
        },
        "id": "AGuanwePRaxg",
        "outputId": "8ac99e16-f783-40c4-8674-3a7a9699274d"
      },
      "execution_count": 14,
      "outputs": [
        {
          "output_type": "execute_result",
          "data": {
            "text/plain": [
              "0.8485262541479602"
            ]
          },
          "metadata": {},
          "execution_count": 14
        }
      ]
    },
    {
      "cell_type": "code",
      "source": [
        "accuracy_scores = [learner.score(PREPROCESS.transform(X_test), y_test.values)]\n",
        "\n",
        "for i in range(n_queries):\n",
        "    display.clear_output(wait=True)\n",
        "    query_idx, query_inst = learner.query(PREPROCESS.transform(X_pool))\n",
        "    print(\"Which sentiment is this?\")\n",
        "    print(X_pool[query_idx])\n",
        "    #print(query_inst.reshape(1, -1))\n",
        "    #print(type(query_inst.reshape(1, -1)))\n",
        "    y_new = np.array([int(input())], dtype=int)\n",
        "    learner.teach(query_inst, y=y_new)\n",
        "    #learner.teach(query_inst.reshape(1, -1), y=y_new)\n",
        "    X_pool, y_pool = np.delete(X_pool, query_idx, axis=0), np.delete(y_pool, query_idx, axis=0)\n",
        "    print(learner.score(PREPROCESS.transform(X_test), y_test.values))\n",
        "    accuracy_scores.append(learner.score(PREPROCESS.transform(X_test), y_test.values))"
      ],
      "metadata": {
        "colab": {
          "base_uri": "https://localhost:8080/"
        },
        "id": "tQ3meJjm4WgK",
        "outputId": "9c22a404-bdd6-489d-c27a-83920c4457f8"
      },
      "execution_count": 15,
      "outputs": [
        {
          "output_type": "stream",
          "name": "stdout",
          "text": [
            "Which sentiment is this?\n",
            "['nice need improvements just came  day trip bali friends  hotel lobby nice staffs nice comments trip   no sign check  staff kinda forgot inform us apparently supossed wait coffee lounge looking swimming pool indian ocean  amazing few   check took  minutes tho hotel n t crowded all   bed pillows comfy    amenities provided disappointing  feel like generic stuffs buy gallons  stayed conrad singapore amazing products   right room bungalow indian ocean nice  totally loving it  inconsistency  day fruits room day dont  day newspaper day dont   hotel service service helpful night asking check closing time restaurant waited  minutes did  called answer customer forgot    positive note tanning pool bar attendants basket filled cold mineral water scented water spray nice cold hand towels  nice   breakfast  good food menu changes  day  felt kinda bored  need flies dining area   spa treatment hotel jiwa spa  great treatment']\n",
            "1\n",
            "0.8467694710130783\n"
          ]
        }
      ]
    },
    {
      "cell_type": "code",
      "source": [
        "plt.plot(np.arange(n_queries+1), accuracy_scores, marker='o')"
      ],
      "metadata": {
        "colab": {
          "base_uri": "https://localhost:8080/",
          "height": 282
        },
        "id": "YlGD5B7SgZMn",
        "outputId": "8cb1fe1a-0408-4a9f-f9e2-7a9bd2287dda"
      },
      "execution_count": 20,
      "outputs": [
        {
          "output_type": "execute_result",
          "data": {
            "text/plain": [
              "[<matplotlib.lines.Line2D at 0x7f714d9e5a90>]"
            ]
          },
          "metadata": {},
          "execution_count": 20
        },
        {
          "output_type": "display_data",
          "data": {
            "image/png": "[encoded data removed]",
            "text/plain": [
              "<Figure size 432x288 with 1 Axes>"
            ]
          },
          "metadata": {
            "needs_background": "light"
          }
        }
      ]
    },
    {
      "cell_type": "markdown",
      "source": [
        "Because this is a demo, we have the actual labels to compare with and track the performance of the model, but in the real life, you will be working with unlabeled records, thus to measure the performance of these models can be a little complex, also make sure the data is not so *subjective*. If it is a complicated task for a human, do not expect it is easier for a ML model"
      ],
      "metadata": {
        "id": "sduYpAR6dwuA"
      }
    },
    {
      "cell_type": "markdown",
      "source": [
        "## Saving and reusing the model"
      ],
      "metadata": {
        "id": "IY5TOtf0dtsu"
      }
    },
    {
      "cell_type": "code",
      "source": [
        "import joblib"
      ],
      "metadata": {
        "id": "WDPUPdSQ4WVT"
      },
      "execution_count": null,
      "outputs": []
    },
    {
      "cell_type": "code",
      "source": [
        "joblib.dump(learner, 'ActiveLearner.pkl')"
      ],
      "metadata": {
        "colab": {
          "base_uri": "https://localhost:8080/"
        },
        "id": "0Nz3M2MP6_i_",
        "outputId": "dfabb931-6600-4906-a809-7cd5a825cbf4"
      },
      "execution_count": null,
      "outputs": [
        {
          "output_type": "execute_result",
          "data": {
            "text/plain": [
              "['ActiveLearner.pkl']"
            ]
          },
          "metadata": {},
          "execution_count": 21
        }
      ]
    },
    {
      "cell_type": "code",
      "source": [
        "reloaded_al = joblib.load('/content/ActiveLearner.pkl')"
      ],
      "metadata": {
        "id": "4RUBZ1rg7Ft_"
      },
      "execution_count": null,
      "outputs": []
    },
    {
      "cell_type": "code",
      "source": [
        "reloaded_al.predict(PREPROCESS.transform(X_test[0:1]))"
      ],
      "metadata": {
        "colab": {
          "base_uri": "https://localhost:8080/"
        },
        "id": "U1lXXp-E7SGe",
        "outputId": "79315b12-e180-4103-85d8-f8b2f0c6c971"
      },
      "execution_count": null,
      "outputs": [
        {
          "output_type": "execute_result",
          "data": {
            "text/plain": [
              "array([1])"
            ]
          },
          "metadata": {},
          "execution_count": 23
        }
      ]
    },
    {
      "cell_type": "markdown",
      "source": [
        "You can save the model as a *pickle* object and reuse it, just like a scikit-learn estimator, just keep in mind you would need to save the text processing pipelines as well in order to use the model in a let's say *deployment* environment"
      ],
      "metadata": {
        "id": "2aR0GNi4eHUG"
      }
    },
    {
      "cell_type": "markdown",
      "source": [
        "## Teaching the Learner\n",
        "\n",
        "If you have more labeled examples, you can \"teach\" them to the model by using the **teach** function"
      ],
      "metadata": {
        "id": "O0usAIz7ef39"
      }
    },
    {
      "cell_type": "code",
      "source": [
        "reloaded_al.teach(PREPROCESS.transform([\"worst vacations ever in the worst place ever\",\"best place ever, do not look for another hotel\"]), np.array((0,1)))"
      ],
      "metadata": {
        "id": "3zujO-R5-A14"
      },
      "execution_count": null,
      "outputs": []
    },
    {
      "cell_type": "code",
      "source": [
        "reloaded_al.predict(PREPROCESS.transform(['best place ever, do not look for another place']))"
      ],
      "metadata": {
        "colab": {
          "base_uri": "https://localhost:8080/"
        },
        "id": "FejtYQy8qeI7",
        "outputId": "372ed5ce-4599-45c9-dde9-204d3b012fa9"
      },
      "execution_count": null,
      "outputs": [
        {
          "output_type": "execute_result",
          "data": {
            "text/plain": [
              "array([1])"
            ]
          },
          "metadata": {},
          "execution_count": 33
        }
      ]
    },
    {
      "cell_type": "markdown",
      "source": [
        "## Closing Comments\n",
        "\n",
        "*   At least for this demo and for this particular dataset, increasing the number of initial records to 5000 (25%) increased the time of labeling the queries with the highest uncertainty (Active Learning Loop) to almost 5 minutes.\n",
        "*   Active Learning can be an interesting approach if you are insterested in reducing the price (in terms or time or money) of labeling jobs\n",
        "*   The *ActiveLearner* is not so pandas friendly, so you have to think in terms of arrays\n"
      ],
      "metadata": {
        "id": "sscOWDJTfClu"
      }
    },
    {
      "cell_type": "markdown",
      "source": [
        "## Notes / References\n",
        "\n",
        "*   **Official Documentation** : https://modal-python.readthedocs.io/en/latest/\n",
        "\n",
        "*   **Example adapted from** : https://modal-python.readthedocs.io/en/latest/content/examples/interactive_labeling.html\n",
        "\n",
        "*   **modAL library developers/authors**: Tivadar Danka and Peter Horvath; https://github.com/cosmic-cortex/modAL\n",
        "\n",
        "*   **Dataset authors**: Alam, M. H., Ryu, W.-J., Lee, S., 2016. Joint multi-grain topic sentiment: modeling semantic aspects for online reviews. Information Sciences 339, 206–223."
      ],
      "metadata": {
        "id": "qOcVQu2Zi-TT"
      }
    }
  ]
}