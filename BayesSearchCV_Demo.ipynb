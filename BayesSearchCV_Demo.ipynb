{
  "nbformat": 4,
  "nbformat_minor": 0,
  "metadata": {
    "colab": {
      "name": "BayesSearchCV_Demo.ipynb",
      "provenance": [],
      "collapsed_sections": [],
      "toc_visible": true,
      "authorship_tag": "ABX9TyNZLzqNHhclC7ZIOKHce4UN",
      "include_colab_link": true
    },
    "kernelspec": {
      "name": "python3",
      "display_name": "Python 3"
    },
    "language_info": {
      "name": "python"
    }
  },
  "cells": [
    {
      "cell_type": "markdown",
      "metadata": {
        "id": "view-in-github",
        "colab_type": "text"
      },
      "source": [
        "<a href=\"https://colab.research.google.com/github/JOTOR/Examples_Python/blob/master/BayesSearchCV_Demo.ipynb\" target=\"_parent\"><img src=\"https://colab.research.google.com/assets/colab-badge.svg\" alt=\"Open In Colab\"/></a>"
      ]
    },
    {
      "cell_type": "markdown",
      "source": [
        "# BayesSearchCV Demo <br>\n",
        "Created on: August 2022 <br>\n",
        "By: Jhonnatan Torres (jhonnatan.torres.suarez@gmail.com)\n",
        "___"
      ],
      "metadata": {
        "id": "lfWe7dAQ8fRQ"
      }
    },
    {
      "cell_type": "markdown",
      "source": [
        "The main goal of this notebook is to demonstrate the use of the **BayesSearchCV** to optimize the hyperparameters of a ML model and compare its results against the **RandomizedSearchCV** which is already available in scikit-learn"
      ],
      "metadata": {
        "id": "heQ0oQk88xYd"
      }
    },
    {
      "cell_type": "markdown",
      "source": [
        "Importing required libraries"
      ],
      "metadata": {
        "id": "W1a1kQUV9Rtj"
      }
    },
    {
      "cell_type": "code",
      "execution_count": 1,
      "metadata": {
        "id": "knawFy14lHO4"
      },
      "outputs": [],
      "source": [
        "import numpy as np\n",
        "import pandas as pd\n",
        "import time\n",
        "from collections import Counter\n",
        "from sklearn.datasets import fetch_openml\n",
        "from sklearn.compose import ColumnTransformer\n",
        "from sklearn.pipeline import Pipeline, make_pipeline\n",
        "from sklearn.impute import KNNImputer\n",
        "from sklearn.preprocessing import OneHotEncoder\n",
        "from sklearn.model_selection import train_test_split, RandomizedSearchCV, StratifiedKFold, cross_validate\n",
        "from sklearn.metrics import precision_score, classification_report\n",
        "from xgboost import XGBClassifier"
      ]
    },
    {
      "cell_type": "markdown",
      "source": [
        "Installing **scikit-optimize** and importing **BayesSearchCV**"
      ],
      "metadata": {
        "id": "csdbCczu9UcT"
      }
    },
    {
      "cell_type": "code",
      "source": [
        "!pip install scikit-optimize -q"
      ],
      "metadata": {
        "id": "ntr67RF9xLBC"
      },
      "execution_count": 2,
      "outputs": []
    },
    {
      "cell_type": "code",
      "source": [
        "from skopt import BayesSearchCV\n",
        "from skopt.space import Real, Categorical, Integer"
      ],
      "metadata": {
        "id": "r-7kC4tsxLIc"
      },
      "execution_count": 3,
      "outputs": []
    },
    {
      "cell_type": "code",
      "source": [
        "# for reproducibility purposes\n",
        "np.random.seed(1234)"
      ],
      "metadata": {
        "id": "NL1OoSyxtzN8"
      },
      "execution_count": 4,
      "outputs": []
    },
    {
      "cell_type": "markdown",
      "source": [
        "Getting the data from openml"
      ],
      "metadata": {
        "id": "MrQ2g1Bq9fB7"
      }
    },
    {
      "cell_type": "code",
      "source": [
        "X, y = fetch_openml(\"credit-g\", version=1, as_frame=True, return_X_y=True)"
      ],
      "metadata": {
        "id": "NdgLOH53lI3s"
      },
      "execution_count": 5,
      "outputs": []
    },
    {
      "cell_type": "code",
      "source": [
        "X.head(3)"
      ],
      "metadata": {
        "colab": {
          "base_uri": "https://localhost:8080/",
          "height": 260
        },
        "id": "SxL25oojlI0m",
        "outputId": "42a9e705-2af2-4017-9030-8eb18cd41cb3"
      },
      "execution_count": 6,
      "outputs": [
        {
          "output_type": "execute_result",
          "data": {
            "text/plain": [
              "  checking_status  duration                  credit_history    purpose  \\\n",
              "0              <0       6.0  critical/other existing credit   radio/tv   \n",
              "1        0<=X<200      48.0                   existing paid   radio/tv   \n",
              "2     no checking      12.0  critical/other existing credit  education   \n",
              "\n",
              "   credit_amount    savings_status employment  installment_commitment  \\\n",
              "0         1169.0  no known savings        >=7                     4.0   \n",
              "1         5951.0              <100     1<=X<4                     2.0   \n",
              "2         2096.0              <100     4<=X<7                     2.0   \n",
              "\n",
              "      personal_status other_parties  residence_since property_magnitude   age  \\\n",
              "0         male single          none              4.0        real estate  67.0   \n",
              "1  female div/dep/mar          none              2.0        real estate  22.0   \n",
              "2         male single          none              3.0        real estate  49.0   \n",
              "\n",
              "  other_payment_plans housing  existing_credits                 job  \\\n",
              "0                none     own               2.0             skilled   \n",
              "1                none     own               1.0             skilled   \n",
              "2                none     own               1.0  unskilled resident   \n",
              "\n",
              "   num_dependents own_telephone foreign_worker  \n",
              "0             1.0           yes            yes  \n",
              "1             1.0          none            yes  \n",
              "2             2.0          none            yes  "
            ],
            "text/html": [
              "\n",
              "  <div id=\"df-e374bab8-a242-4a25-bb31-3eb1f8c8096a\">\n",
              "    <div class=\"colab-df-container\">\n",
              "      <div>\n",
              "<style scoped>\n",
              "    .dataframe tbody tr th:only-of-type {\n",
              "        vertical-align: middle;\n",
              "    }\n",
              "\n",
              "    .dataframe tbody tr th {\n",
              "        vertical-align: top;\n",
              "    }\n",
              "\n",
              "    .dataframe thead th {\n",
              "        text-align: right;\n",
              "    }\n",
              "</style>\n",
              "<table border=\"1\" class=\"dataframe\">\n",
              "  <thead>\n",
              "    <tr style=\"text-align: right;\">\n",
              "      <th></th>\n",
              "      <th>checking_status</th>\n",
              "      <th>duration</th>\n",
              "      <th>credit_history</th>\n",
              "      <th>purpose</th>\n",
              "      <th>credit_amount</th>\n",
              "      <th>savings_status</th>\n",
              "      <th>employment</th>\n",
              "      <th>installment_commitment</th>\n",
              "      <th>personal_status</th>\n",
              "      <th>other_parties</th>\n",
              "      <th>residence_since</th>\n",
              "      <th>property_magnitude</th>\n",
              "      <th>age</th>\n",
              "      <th>other_payment_plans</th>\n",
              "      <th>housing</th>\n",
              "      <th>existing_credits</th>\n",
              "      <th>job</th>\n",
              "      <th>num_dependents</th>\n",
              "      <th>own_telephone</th>\n",
              "      <th>foreign_worker</th>\n",
              "    </tr>\n",
              "  </thead>\n",
              "  <tbody>\n",
              "    <tr>\n",
              "      <th>0</th>\n",
              "      <td>&lt;0</td>\n",
              "      <td>6.0</td>\n",
              "      <td>critical/other existing credit</td>\n",
              "      <td>radio/tv</td>\n",
              "      <td>1169.0</td>\n",
              "      <td>no known savings</td>\n",
              "      <td>&gt;=7</td>\n",
              "      <td>4.0</td>\n",
              "      <td>male single</td>\n",
              "      <td>none</td>\n",
              "      <td>4.0</td>\n",
              "      <td>real estate</td>\n",
              "      <td>67.0</td>\n",
              "      <td>none</td>\n",
              "      <td>own</td>\n",
              "      <td>2.0</td>\n",
              "      <td>skilled</td>\n",
              "      <td>1.0</td>\n",
              "      <td>yes</td>\n",
              "      <td>yes</td>\n",
              "    </tr>\n",
              "    <tr>\n",
              "      <th>1</th>\n",
              "      <td>0&lt;=X&lt;200</td>\n",
              "      <td>48.0</td>\n",
              "      <td>existing paid</td>\n",
              "      <td>radio/tv</td>\n",
              "      <td>5951.0</td>\n",
              "      <td>&lt;100</td>\n",
              "      <td>1&lt;=X&lt;4</td>\n",
              "      <td>2.0</td>\n",
              "      <td>female div/dep/mar</td>\n",
              "      <td>none</td>\n",
              "      <td>2.0</td>\n",
              "      <td>real estate</td>\n",
              "      <td>22.0</td>\n",
              "      <td>none</td>\n",
              "      <td>own</td>\n",
              "      <td>1.0</td>\n",
              "      <td>skilled</td>\n",
              "      <td>1.0</td>\n",
              "      <td>none</td>\n",
              "      <td>yes</td>\n",
              "    </tr>\n",
              "    <tr>\n",
              "      <th>2</th>\n",
              "      <td>no checking</td>\n",
              "      <td>12.0</td>\n",
              "      <td>critical/other existing credit</td>\n",
              "      <td>education</td>\n",
              "      <td>2096.0</td>\n",
              "      <td>&lt;100</td>\n",
              "      <td>4&lt;=X&lt;7</td>\n",
              "      <td>2.0</td>\n",
              "      <td>male single</td>\n",
              "      <td>none</td>\n",
              "      <td>3.0</td>\n",
              "      <td>real estate</td>\n",
              "      <td>49.0</td>\n",
              "      <td>none</td>\n",
              "      <td>own</td>\n",
              "      <td>1.0</td>\n",
              "      <td>unskilled resident</td>\n",
              "      <td>2.0</td>\n",
              "      <td>none</td>\n",
              "      <td>yes</td>\n",
              "    </tr>\n",
              "  </tbody>\n",
              "</table>\n",
              "</div>\n",
              "      <button class=\"colab-df-convert\" onclick=\"convertToInteractive('df-e374bab8-a242-4a25-bb31-3eb1f8c8096a')\"\n",
              "              title=\"Convert this dataframe to an interactive table.\"\n",
              "              style=\"display:none;\">\n",
              "        \n",
              "  <svg xmlns=\"http://www.w3.org/2000/svg\" height=\"24px\"viewBox=\"0 0 24 24\"\n",
              "       width=\"24px\">\n",
              "    <path d=\"M0 0h24v24H0V0z\" fill=\"none\"/>\n",
              "    <path d=\"M18.56 5.44l.94 2.06.94-2.06 2.06-.94-2.06-.94-.94-2.06-.94 2.06-2.06.94zm-11 1L8.5 8.5l.94-2.06 2.06-.94-2.06-.94L8.5 2.5l-.94 2.06-2.06.94zm10 10l.94 2.06.94-2.06 2.06-.94-2.06-.94-.94-2.06-.94 2.06-2.06.94z\"/><path d=\"M17.41 7.96l-1.37-1.37c-.4-.4-.92-.59-1.43-.59-.52 0-1.04.2-1.43.59L10.3 9.45l-7.72 7.72c-.78.78-.78 2.05 0 2.83L4 21.41c.39.39.9.59 1.41.59.51 0 1.02-.2 1.41-.59l7.78-7.78 2.81-2.81c.8-.78.8-2.07 0-2.86zM5.41 20L4 18.59l7.72-7.72 1.47 1.35L5.41 20z\"/>\n",
              "  </svg>\n",
              "      </button>\n",
              "      \n",
              "  <style>\n",
              "    .colab-df-container {\n",
              "      display:flex;\n",
              "      flex-wrap:wrap;\n",
              "      gap: 12px;\n",
              "    }\n",
              "\n",
              "    .colab-df-convert {\n",
              "      background-color: #E8F0FE;\n",
              "      border: none;\n",
              "      border-radius: 50%;\n",
              "      cursor: pointer;\n",
              "      display: none;\n",
              "      fill: #1967D2;\n",
              "      height: 32px;\n",
              "      padding: 0 0 0 0;\n",
              "      width: 32px;\n",
              "    }\n",
              "\n",
              "    .colab-df-convert:hover {\n",
              "      background-color: #E2EBFA;\n",
              "      box-shadow: 0px 1px 2px rgba(60, 64, 67, 0.3), 0px 1px 3px 1px rgba(60, 64, 67, 0.15);\n",
              "      fill: #174EA6;\n",
              "    }\n",
              "\n",
              "    [theme=dark] .colab-df-convert {\n",
              "      background-color: #3B4455;\n",
              "      fill: #D2E3FC;\n",
              "    }\n",
              "\n",
              "    [theme=dark] .colab-df-convert:hover {\n",
              "      background-color: #434B5C;\n",
              "      box-shadow: 0px 1px 3px 1px rgba(0, 0, 0, 0.15);\n",
              "      filter: drop-shadow(0px 1px 2px rgba(0, 0, 0, 0.3));\n",
              "      fill: #FFFFFF;\n",
              "    }\n",
              "  </style>\n",
              "\n",
              "      <script>\n",
              "        const buttonEl =\n",
              "          document.querySelector('#df-e374bab8-a242-4a25-bb31-3eb1f8c8096a button.colab-df-convert');\n",
              "        buttonEl.style.display =\n",
              "          google.colab.kernel.accessAllowed ? 'block' : 'none';\n",
              "\n",
              "        async function convertToInteractive(key) {\n",
              "          const element = document.querySelector('#df-e374bab8-a242-4a25-bb31-3eb1f8c8096a');\n",
              "          const dataTable =\n",
              "            await google.colab.kernel.invokeFunction('convertToInteractive',\n",
              "                                                     [key], {});\n",
              "          if (!dataTable) return;\n",
              "\n",
              "          const docLinkHtml = 'Like what you see? Visit the ' +\n",
              "            '<a target=\"_blank\" href=https://colab.research.google.com/notebooks/data_table.ipynb>data table notebook</a>'\n",
              "            + ' to learn more about interactive tables.';\n",
              "          element.innerHTML = '';\n",
              "          dataTable['output_type'] = 'display_data';\n",
              "          await google.colab.output.renderOutput(dataTable, element);\n",
              "          const docLink = document.createElement('div');\n",
              "          docLink.innerHTML = docLinkHtml;\n",
              "          element.appendChild(docLink);\n",
              "        }\n",
              "      </script>\n",
              "    </div>\n",
              "  </div>\n",
              "  "
            ]
          },
          "metadata": {},
          "execution_count": 6
        }
      ]
    },
    {
      "cell_type": "code",
      "source": [
        "y.head(3)"
      ],
      "metadata": {
        "colab": {
          "base_uri": "https://localhost:8080/"
        },
        "id": "csk_5a_ylIyR",
        "outputId": "de347e08-e22a-4eb7-827b-1a42c7f5fe11"
      },
      "execution_count": 7,
      "outputs": [
        {
          "output_type": "execute_result",
          "data": {
            "text/plain": [
              "0    good\n",
              "1     bad\n",
              "2    good\n",
              "Name: class, dtype: category\n",
              "Categories (2, object): ['good', 'bad']"
            ]
          },
          "metadata": {},
          "execution_count": 7
        }
      ]
    },
    {
      "cell_type": "code",
      "source": [
        "X.info()"
      ],
      "metadata": {
        "colab": {
          "base_uri": "https://localhost:8080/"
        },
        "id": "qP2SDFwulIvz",
        "outputId": "7415371a-c248-41a0-9306-1384a8784642"
      },
      "execution_count": 8,
      "outputs": [
        {
          "output_type": "stream",
          "name": "stdout",
          "text": [
            "<class 'pandas.core.frame.DataFrame'>\n",
            "RangeIndex: 1000 entries, 0 to 999\n",
            "Data columns (total 20 columns):\n",
            " #   Column                  Non-Null Count  Dtype   \n",
            "---  ------                  --------------  -----   \n",
            " 0   checking_status         1000 non-null   category\n",
            " 1   duration                1000 non-null   float64 \n",
            " 2   credit_history          1000 non-null   category\n",
            " 3   purpose                 1000 non-null   category\n",
            " 4   credit_amount           1000 non-null   float64 \n",
            " 5   savings_status          1000 non-null   category\n",
            " 6   employment              1000 non-null   category\n",
            " 7   installment_commitment  1000 non-null   float64 \n",
            " 8   personal_status         1000 non-null   category\n",
            " 9   other_parties           1000 non-null   category\n",
            " 10  residence_since         1000 non-null   float64 \n",
            " 11  property_magnitude      1000 non-null   category\n",
            " 12  age                     1000 non-null   float64 \n",
            " 13  other_payment_plans     1000 non-null   category\n",
            " 14  housing                 1000 non-null   category\n",
            " 15  existing_credits        1000 non-null   float64 \n",
            " 16  job                     1000 non-null   category\n",
            " 17  num_dependents          1000 non-null   float64 \n",
            " 18  own_telephone           1000 non-null   category\n",
            " 19  foreign_worker          1000 non-null   category\n",
            "dtypes: category(13), float64(7)\n",
            "memory usage: 69.9 KB\n"
          ]
        }
      ]
    },
    {
      "cell_type": "markdown",
      "source": [
        "This is a \"nice\" dataset, all the *Object* fields have been already transformed to *category*, in addition, there are not null records, the only required preprocessing step is to encode the labels"
      ],
      "metadata": {
        "id": "aH5iDLvE9jS5"
      }
    },
    {
      "cell_type": "code",
      "source": [
        "class_map = {\"good\":1, \"bad\":0}\n",
        "y = pd.Series(y).map(class_map)\n",
        "Counter(y)"
      ],
      "metadata": {
        "id": "weDazXUdlItJ",
        "colab": {
          "base_uri": "https://localhost:8080/"
        },
        "outputId": "eecf3899-3e1a-492d-9578-e439a92775d4"
      },
      "execution_count": 9,
      "outputs": [
        {
          "output_type": "execute_result",
          "data": {
            "text/plain": [
              "Counter({0: 300, 1: 700})"
            ]
          },
          "metadata": {},
          "execution_count": 9
        }
      ]
    },
    {
      "cell_type": "markdown",
      "source": [
        "Train and Test split"
      ],
      "metadata": {
        "id": "IMJMyxL19_uQ"
      }
    },
    {
      "cell_type": "code",
      "source": [
        "X_train, X_test, y_train, y_test = train_test_split(X, y, test_size=0.3, random_state=1234)"
      ],
      "metadata": {
        "id": "mX3R71sAlIoQ"
      },
      "execution_count": 10,
      "outputs": []
    },
    {
      "cell_type": "code",
      "source": [
        "SCALE_POS = pd.Series(y_train).value_counts()[0]/pd.Series(y_train).value_counts()[1]"
      ],
      "metadata": {
        "id": "Q5TfiKyalIlf"
      },
      "execution_count": 11,
      "outputs": []
    },
    {
      "cell_type": "code",
      "source": [
        "CAT_FEATURES = list(X_train.select_dtypes(\"category\").columns)\n",
        "NUM_FEATURES = list(X_train.select_dtypes(\"float64\").columns)\n",
        "print(CAT_FEATURES, '\\n', NUM_FEATURES)"
      ],
      "metadata": {
        "id": "QbFZxVpGlIin",
        "colab": {
          "base_uri": "https://localhost:8080/"
        },
        "outputId": "bc3fffd9-a6de-407b-9216-654bc0206b2e"
      },
      "execution_count": 12,
      "outputs": [
        {
          "output_type": "stream",
          "name": "stdout",
          "text": [
            "['checking_status', 'credit_history', 'purpose', 'savings_status', 'employment', 'personal_status', 'other_parties', 'property_magnitude', 'other_payment_plans', 'housing', 'job', 'own_telephone', 'foreign_worker'] \n",
            " ['duration', 'credit_amount', 'installment_commitment', 'residence_since', 'age', 'existing_credits', 'num_dependents']\n"
          ]
        }
      ]
    },
    {
      "cell_type": "markdown",
      "source": [
        "Preprocessing pipeline"
      ],
      "metadata": {
        "id": "xBW7TAxk-DJ9"
      }
    },
    {
      "cell_type": "code",
      "source": [
        "numeric_transformer = KNNImputer()\n",
        "\n",
        "categorical_transformer = OneHotEncoder(handle_unknown=\"ignore\")\n",
        "\n",
        "preprocessor = ColumnTransformer(\n",
        "    transformers=[\n",
        "        (\"num\", numeric_transformer, NUM_FEATURES),\n",
        "        (\"cat\", categorical_transformer, CAT_FEATURES),\n",
        "    ]\n",
        ")"
      ],
      "metadata": {
        "id": "OckVaTqdoeC0"
      },
      "execution_count": 13,
      "outputs": []
    },
    {
      "cell_type": "code",
      "source": [
        "X_train_p = preprocessor.fit_transform(X_train)\n",
        "X_test_p = preprocessor.transform(X_test)"
      ],
      "metadata": {
        "id": "ZU8c0q39oeAY"
      },
      "execution_count": 14,
      "outputs": []
    },
    {
      "cell_type": "markdown",
      "source": [
        "For this demo the ML model to be optimized is a **XGBClassifier**"
      ],
      "metadata": {
        "id": "rl0Qg42d-GQ6"
      }
    },
    {
      "cell_type": "code",
      "source": [
        "xgb = XGBClassifier(scale_pos_weight=SCALE_POS, eval_set=[(X_test_p, y_test)], early_stopping_rounds=10, random_state=1234)"
      ],
      "metadata": {
        "id": "WF6MIlE3od9t"
      },
      "execution_count": 15,
      "outputs": []
    },
    {
      "cell_type": "markdown",
      "source": [
        "### RandomizedSearchCV"
      ],
      "metadata": {
        "id": "NeDx9Kzy8Tyc"
      }
    },
    {
      "cell_type": "markdown",
      "source": [
        "Defining the parameters"
      ],
      "metadata": {
        "id": "aTITSuSS-WE9"
      }
    },
    {
      "cell_type": "code",
      "source": [
        "params = {\"subsample\":[0.3, 0.5, 0.75, 1],\n",
        "          \"n_estimators\": [50, 100, 250, 750, 1000],\n",
        "          \"learning_rate\": [0.1, 0.2, 0.25, 0.3, 0.4, 0.5],\n",
        "          \"max_depth\": [3, 5, 7]}"
      ],
      "metadata": {
        "id": "TULr0Dseod2V"
      },
      "execution_count": 16,
      "outputs": []
    },
    {
      "cell_type": "code",
      "source": [
        "cv = StratifiedKFold(3)\n",
        "grids = RandomizedSearchCV(estimator=xgb, param_distributions=params, scoring=\"precision\", cv=cv, \n",
        "                           verbose=1, random_state=1234, n_iter=30, n_jobs=4)"
      ],
      "metadata": {
        "id": "LtqwnMXzodz1"
      },
      "execution_count": 17,
      "outputs": []
    },
    {
      "cell_type": "code",
      "source": [
        "t0 = time.time()\n",
        "grids.fit(X_train_p, y_train)\n",
        "t1 = time.time()\n",
        "time_diff = (t1-t0)/60\n",
        "print(f\"Time in minutes: {time_diff:.2f}\")"
      ],
      "metadata": {
        "colab": {
          "base_uri": "https://localhost:8080/"
        },
        "id": "NsdfJSXdodwl",
        "outputId": "7e2c3743-de01-49f2-e252-f299d67070af"
      },
      "execution_count": 18,
      "outputs": [
        {
          "output_type": "stream",
          "name": "stdout",
          "text": [
            "Fitting 3 folds for each of 30 candidates, totalling 90 fits\n",
            "Time in minutes: 0.91\n"
          ]
        }
      ]
    },
    {
      "cell_type": "code",
      "source": [
        "grids.best_params_"
      ],
      "metadata": {
        "colab": {
          "base_uri": "https://localhost:8080/"
        },
        "id": "XziVrUydwA0z",
        "outputId": "42b2a6bd-e82a-47f8-e673-40700efd5f56"
      },
      "execution_count": 19,
      "outputs": [
        {
          "output_type": "execute_result",
          "data": {
            "text/plain": [
              "{'learning_rate': 0.4, 'max_depth': 3, 'n_estimators': 750, 'subsample': 0.75}"
            ]
          },
          "metadata": {},
          "execution_count": 19
        }
      ]
    },
    {
      "cell_type": "code",
      "source": [
        "grids_pred = grids.best_estimator_.predict(X_test_p)\n",
        "print(f\"Precision:{precision_score(y_test, grids_pred):.2f}\")"
      ],
      "metadata": {
        "colab": {
          "base_uri": "https://localhost:8080/"
        },
        "id": "W_OTnM3ywFSo",
        "outputId": "cfd834f7-41c9-4df0-bb07-7c80d3a3e5d9"
      },
      "execution_count": 20,
      "outputs": [
        {
          "output_type": "stream",
          "name": "stdout",
          "text": [
            "Precision:0.77\n"
          ]
        }
      ]
    },
    {
      "cell_type": "code",
      "source": [
        "grid_cv_scores = cross_validate(grids.best_estimator_, X=X_test_p, y=y_test, scoring=\"precision\")\n",
        "grid_mean_cv_score = grid_cv_scores[\"test_score\"].mean()\n",
        "print(pd.DataFrame(grid_cv_scores))\n",
        "print(f\"GridSearch Mean CV Score: {grid_mean_cv_score:.2f}\")"
      ],
      "metadata": {
        "colab": {
          "base_uri": "https://localhost:8080/"
        },
        "id": "mqqRfnlh0mMV",
        "outputId": "b9013024-c7a5-4331-a9b2-4dbe1dd06731"
      },
      "execution_count": 21,
      "outputs": [
        {
          "output_type": "stream",
          "name": "stdout",
          "text": [
            "   fit_time  score_time  test_score\n",
            "0  0.369019    0.002908    0.725490\n",
            "1  0.368416    0.002815    0.822222\n",
            "2  0.360036    0.002726    0.790698\n",
            "3  0.361461    0.002855    0.818182\n",
            "4  0.346534    0.002850    0.738095\n",
            "GridSearch Mean CV Score: 0.78\n"
          ]
        }
      ]
    },
    {
      "cell_type": "markdown",
      "source": [
        "The training took around 1 minute, the original dataset does contain 1000 observations and 20 features, the model was trained with 70% of these observations"
      ],
      "metadata": {
        "id": "j3MdtGV1-awY"
      }
    },
    {
      "cell_type": "markdown",
      "source": [
        "### BayesSearchCV"
      ],
      "metadata": {
        "id": "NVO9qoJ18aDV"
      }
    },
    {
      "cell_type": "markdown",
      "source": [
        "One of the main advantages of the **BayesSearchCV** is the wider search space, you have to specify a \"start\", \"end\" and the distribution, it can be \"uniform\" or \"log-uniform\""
      ],
      "metadata": {
        "id": "dLtk4bqf--ft"
      }
    },
    {
      "cell_type": "code",
      "source": [
        "bayes_params = {\"subsample\":Real(0.3, 1, prior=\"uniform\"),\n",
        "                \"n_estimators\": Integer(50, 1000),\n",
        "                \"learning_rate\": Real(0.1, 0.5, prior=\"uniform\"),\n",
        "                \"max_depth\": Integer(3, 7)}"
      ],
      "metadata": {
        "id": "wOS8KftUwetU"
      },
      "execution_count": 22,
      "outputs": []
    },
    {
      "cell_type": "code",
      "source": [
        "bayes = BayesSearchCV(estimator=xgb, search_spaces=bayes_params, scoring=\"precision\", cv=cv, \n",
        "                      verbose=1, random_state=1234, n_iter=30, n_jobs=4)"
      ],
      "metadata": {
        "id": "5m1bKMV2yFCP"
      },
      "execution_count": 23,
      "outputs": []
    },
    {
      "cell_type": "code",
      "source": [
        "t0 = time.time()\n",
        "bayes.fit(X_train_p, y_train)\n",
        "t1 = time.time()\n",
        "time_diff = (t1-t0)/60\n",
        "print(f\"Time in minutes: {time_diff:.2f}\")"
      ],
      "metadata": {
        "colab": {
          "base_uri": "https://localhost:8080/"
        },
        "id": "2kpFcY7HyE9b",
        "outputId": "5303de28-374a-4639-cd3c-ec77c3325651"
      },
      "execution_count": 24,
      "outputs": [
        {
          "output_type": "stream",
          "name": "stdout",
          "text": [
            "Fitting 3 folds for each of 1 candidates, totalling 3 fits\n",
            "Fitting 3 folds for each of 1 candidates, totalling 3 fits\n",
            "Fitting 3 folds for each of 1 candidates, totalling 3 fits\n",
            "Fitting 3 folds for each of 1 candidates, totalling 3 fits\n",
            "Fitting 3 folds for each of 1 candidates, totalling 3 fits\n",
            "Fitting 3 folds for each of 1 candidates, totalling 3 fits\n",
            "Fitting 3 folds for each of 1 candidates, totalling 3 fits\n",
            "Fitting 3 folds for each of 1 candidates, totalling 3 fits\n",
            "Fitting 3 folds for each of 1 candidates, totalling 3 fits\n",
            "Fitting 3 folds for each of 1 candidates, totalling 3 fits\n",
            "Fitting 3 folds for each of 1 candidates, totalling 3 fits\n",
            "Fitting 3 folds for each of 1 candidates, totalling 3 fits\n",
            "Fitting 3 folds for each of 1 candidates, totalling 3 fits\n",
            "Fitting 3 folds for each of 1 candidates, totalling 3 fits\n",
            "Fitting 3 folds for each of 1 candidates, totalling 3 fits\n",
            "Fitting 3 folds for each of 1 candidates, totalling 3 fits\n",
            "Fitting 3 folds for each of 1 candidates, totalling 3 fits\n",
            "Fitting 3 folds for each of 1 candidates, totalling 3 fits\n",
            "Fitting 3 folds for each of 1 candidates, totalling 3 fits\n",
            "Fitting 3 folds for each of 1 candidates, totalling 3 fits\n",
            "Fitting 3 folds for each of 1 candidates, totalling 3 fits\n",
            "Fitting 3 folds for each of 1 candidates, totalling 3 fits\n",
            "Fitting 3 folds for each of 1 candidates, totalling 3 fits\n",
            "Fitting 3 folds for each of 1 candidates, totalling 3 fits\n",
            "Fitting 3 folds for each of 1 candidates, totalling 3 fits\n",
            "Fitting 3 folds for each of 1 candidates, totalling 3 fits\n",
            "Fitting 3 folds for each of 1 candidates, totalling 3 fits\n",
            "Fitting 3 folds for each of 1 candidates, totalling 3 fits\n",
            "Fitting 3 folds for each of 1 candidates, totalling 3 fits\n",
            "Fitting 3 folds for each of 1 candidates, totalling 3 fits\n",
            "Time in minutes: 1.10\n"
          ]
        }
      ]
    },
    {
      "cell_type": "code",
      "source": [
        "bayes.best_params_"
      ],
      "metadata": {
        "colab": {
          "base_uri": "https://localhost:8080/"
        },
        "id": "RaPzoI6kyE7R",
        "outputId": "cea9de8b-db35-450e-bca8-158f249dded9"
      },
      "execution_count": 25,
      "outputs": [
        {
          "output_type": "execute_result",
          "data": {
            "text/plain": [
              "OrderedDict([('learning_rate', 0.2564215253698481),\n",
              "             ('max_depth', 5),\n",
              "             ('n_estimators', 454),\n",
              "             ('subsample', 0.3552344572320146)])"
            ]
          },
          "metadata": {},
          "execution_count": 25
        }
      ]
    },
    {
      "cell_type": "code",
      "source": [
        "pd.DataFrame(bayes.cv_results_).head()"
      ],
      "metadata": {
        "colab": {
          "base_uri": "https://localhost:8080/",
          "height": 444
        },
        "id": "Cf1ggKM3lp_M",
        "outputId": "c8c1cdae-2557-4ead-b698-ce61e2d3f514"
      },
      "execution_count": 26,
      "outputs": [
        {
          "output_type": "execute_result",
          "data": {
            "text/plain": [
              "   mean_fit_time  std_fit_time  mean_score_time  std_score_time  \\\n",
              "0       0.884591      0.025115         0.006074        0.000650   \n",
              "1       1.891744      0.083772         0.013713        0.004962   \n",
              "2       0.392315      0.058480         0.004149        0.000608   \n",
              "3       0.638589      0.013383         0.005234        0.000505   \n",
              "4       1.618818      0.035842         0.015649        0.006404   \n",
              "\n",
              "  param_learning_rate param_max_depth param_n_estimators param_subsample  \\\n",
              "0            0.264575               7                226        0.884753   \n",
              "1            0.259929               4                776        0.992723   \n",
              "2            0.221693               6                103        0.878703   \n",
              "3            0.449156               4                236        0.951916   \n",
              "4            0.221692               6                489        0.765618   \n",
              "\n",
              "                                              params  split0_test_score  \\\n",
              "0  {'learning_rate': 0.26457490753087193, 'max_de...           0.775956   \n",
              "1  {'learning_rate': 0.259928844847677, 'max_dept...           0.783333   \n",
              "2  {'learning_rate': 0.22169315853032623, 'max_de...           0.776042   \n",
              "3  {'learning_rate': 0.44915567261910405, 'max_de...           0.778378   \n",
              "4  {'learning_rate': 0.2216918092689032, 'max_dep...           0.787709   \n",
              "\n",
              "   split1_test_score  split2_test_score  mean_test_score  std_test_score  \\\n",
              "0           0.773196           0.800000         0.783051        0.012038   \n",
              "1           0.773684           0.803279         0.786765        0.012323   \n",
              "2           0.766839           0.806452         0.783111        0.016927   \n",
              "3           0.780749           0.821622         0.793583        0.019850   \n",
              "4           0.768041           0.804348         0.786700        0.014839   \n",
              "\n",
              "   rank_test_score  \n",
              "0               17  \n",
              "1               11  \n",
              "2               16  \n",
              "3                2  \n",
              "4               12  "
            ],
            "text/html": [
              "\n",
              "  <div id=\"df-07c9b08e-285d-40b1-99e7-ca68254b8b79\">\n",
              "    <div class=\"colab-df-container\">\n",
              "      <div>\n",
              "<style scoped>\n",
              "    .dataframe tbody tr th:only-of-type {\n",
              "        vertical-align: middle;\n",
              "    }\n",
              "\n",
              "    .dataframe tbody tr th {\n",
              "        vertical-align: top;\n",
              "    }\n",
              "\n",
              "    .dataframe thead th {\n",
              "        text-align: right;\n",
              "    }\n",
              "</style>\n",
              "<table border=\"1\" class=\"dataframe\">\n",
              "  <thead>\n",
              "    <tr style=\"text-align: right;\">\n",
              "      <th></th>\n",
              "      <th>mean_fit_time</th>\n",
              "      <th>std_fit_time</th>\n",
              "      <th>mean_score_time</th>\n",
              "      <th>std_score_time</th>\n",
              "      <th>param_learning_rate</th>\n",
              "      <th>param_max_depth</th>\n",
              "      <th>param_n_estimators</th>\n",
              "      <th>param_subsample</th>\n",
              "      <th>params</th>\n",
              "      <th>split0_test_score</th>\n",
              "      <th>split1_test_score</th>\n",
              "      <th>split2_test_score</th>\n",
              "      <th>mean_test_score</th>\n",
              "      <th>std_test_score</th>\n",
              "      <th>rank_test_score</th>\n",
              "    </tr>\n",
              "  </thead>\n",
              "  <tbody>\n",
              "    <tr>\n",
              "      <th>0</th>\n",
              "      <td>0.884591</td>\n",
              "      <td>0.025115</td>\n",
              "      <td>0.006074</td>\n",
              "      <td>0.000650</td>\n",
              "      <td>0.264575</td>\n",
              "      <td>7</td>\n",
              "      <td>226</td>\n",
              "      <td>0.884753</td>\n",
              "      <td>{'learning_rate': 0.26457490753087193, 'max_de...</td>\n",
              "      <td>0.775956</td>\n",
              "      <td>0.773196</td>\n",
              "      <td>0.800000</td>\n",
              "      <td>0.783051</td>\n",
              "      <td>0.012038</td>\n",
              "      <td>17</td>\n",
              "    </tr>\n",
              "    <tr>\n",
              "      <th>1</th>\n",
              "      <td>1.891744</td>\n",
              "      <td>0.083772</td>\n",
              "      <td>0.013713</td>\n",
              "      <td>0.004962</td>\n",
              "      <td>0.259929</td>\n",
              "      <td>4</td>\n",
              "      <td>776</td>\n",
              "      <td>0.992723</td>\n",
              "      <td>{'learning_rate': 0.259928844847677, 'max_dept...</td>\n",
              "      <td>0.783333</td>\n",
              "      <td>0.773684</td>\n",
              "      <td>0.803279</td>\n",
              "      <td>0.786765</td>\n",
              "      <td>0.012323</td>\n",
              "      <td>11</td>\n",
              "    </tr>\n",
              "    <tr>\n",
              "      <th>2</th>\n",
              "      <td>0.392315</td>\n",
              "      <td>0.058480</td>\n",
              "      <td>0.004149</td>\n",
              "      <td>0.000608</td>\n",
              "      <td>0.221693</td>\n",
              "      <td>6</td>\n",
              "      <td>103</td>\n",
              "      <td>0.878703</td>\n",
              "      <td>{'learning_rate': 0.22169315853032623, 'max_de...</td>\n",
              "      <td>0.776042</td>\n",
              "      <td>0.766839</td>\n",
              "      <td>0.806452</td>\n",
              "      <td>0.783111</td>\n",
              "      <td>0.016927</td>\n",
              "      <td>16</td>\n",
              "    </tr>\n",
              "    <tr>\n",
              "      <th>3</th>\n",
              "      <td>0.638589</td>\n",
              "      <td>0.013383</td>\n",
              "      <td>0.005234</td>\n",
              "      <td>0.000505</td>\n",
              "      <td>0.449156</td>\n",
              "      <td>4</td>\n",
              "      <td>236</td>\n",
              "      <td>0.951916</td>\n",
              "      <td>{'learning_rate': 0.44915567261910405, 'max_de...</td>\n",
              "      <td>0.778378</td>\n",
              "      <td>0.780749</td>\n",
              "      <td>0.821622</td>\n",
              "      <td>0.793583</td>\n",
              "      <td>0.019850</td>\n",
              "      <td>2</td>\n",
              "    </tr>\n",
              "    <tr>\n",
              "      <th>4</th>\n",
              "      <td>1.618818</td>\n",
              "      <td>0.035842</td>\n",
              "      <td>0.015649</td>\n",
              "      <td>0.006404</td>\n",
              "      <td>0.221692</td>\n",
              "      <td>6</td>\n",
              "      <td>489</td>\n",
              "      <td>0.765618</td>\n",
              "      <td>{'learning_rate': 0.2216918092689032, 'max_dep...</td>\n",
              "      <td>0.787709</td>\n",
              "      <td>0.768041</td>\n",
              "      <td>0.804348</td>\n",
              "      <td>0.786700</td>\n",
              "      <td>0.014839</td>\n",
              "      <td>12</td>\n",
              "    </tr>\n",
              "  </tbody>\n",
              "</table>\n",
              "</div>\n",
              "      <button class=\"colab-df-convert\" onclick=\"convertToInteractive('df-07c9b08e-285d-40b1-99e7-ca68254b8b79')\"\n",
              "              title=\"Convert this dataframe to an interactive table.\"\n",
              "              style=\"display:none;\">\n",
              "        \n",
              "  <svg xmlns=\"http://www.w3.org/2000/svg\" height=\"24px\"viewBox=\"0 0 24 24\"\n",
              "       width=\"24px\">\n",
              "    <path d=\"M0 0h24v24H0V0z\" fill=\"none\"/>\n",
              "    <path d=\"M18.56 5.44l.94 2.06.94-2.06 2.06-.94-2.06-.94-.94-2.06-.94 2.06-2.06.94zm-11 1L8.5 8.5l.94-2.06 2.06-.94-2.06-.94L8.5 2.5l-.94 2.06-2.06.94zm10 10l.94 2.06.94-2.06 2.06-.94-2.06-.94-.94-2.06-.94 2.06-2.06.94z\"/><path d=\"M17.41 7.96l-1.37-1.37c-.4-.4-.92-.59-1.43-.59-.52 0-1.04.2-1.43.59L10.3 9.45l-7.72 7.72c-.78.78-.78 2.05 0 2.83L4 21.41c.39.39.9.59 1.41.59.51 0 1.02-.2 1.41-.59l7.78-7.78 2.81-2.81c.8-.78.8-2.07 0-2.86zM5.41 20L4 18.59l7.72-7.72 1.47 1.35L5.41 20z\"/>\n",
              "  </svg>\n",
              "      </button>\n",
              "      \n",
              "  <style>\n",
              "    .colab-df-container {\n",
              "      display:flex;\n",
              "      flex-wrap:wrap;\n",
              "      gap: 12px;\n",
              "    }\n",
              "\n",
              "    .colab-df-convert {\n",
              "      background-color: #E8F0FE;\n",
              "      border: none;\n",
              "      border-radius: 50%;\n",
              "      cursor: pointer;\n",
              "      display: none;\n",
              "      fill: #1967D2;\n",
              "      height: 32px;\n",
              "      padding: 0 0 0 0;\n",
              "      width: 32px;\n",
              "    }\n",
              "\n",
              "    .colab-df-convert:hover {\n",
              "      background-color: #E2EBFA;\n",
              "      box-shadow: 0px 1px 2px rgba(60, 64, 67, 0.3), 0px 1px 3px 1px rgba(60, 64, 67, 0.15);\n",
              "      fill: #174EA6;\n",
              "    }\n",
              "\n",
              "    [theme=dark] .colab-df-convert {\n",
              "      background-color: #3B4455;\n",
              "      fill: #D2E3FC;\n",
              "    }\n",
              "\n",
              "    [theme=dark] .colab-df-convert:hover {\n",
              "      background-color: #434B5C;\n",
              "      box-shadow: 0px 1px 3px 1px rgba(0, 0, 0, 0.15);\n",
              "      filter: drop-shadow(0px 1px 2px rgba(0, 0, 0, 0.3));\n",
              "      fill: #FFFFFF;\n",
              "    }\n",
              "  </style>\n",
              "\n",
              "      <script>\n",
              "        const buttonEl =\n",
              "          document.querySelector('#df-07c9b08e-285d-40b1-99e7-ca68254b8b79 button.colab-df-convert');\n",
              "        buttonEl.style.display =\n",
              "          google.colab.kernel.accessAllowed ? 'block' : 'none';\n",
              "\n",
              "        async function convertToInteractive(key) {\n",
              "          const element = document.querySelector('#df-07c9b08e-285d-40b1-99e7-ca68254b8b79');\n",
              "          const dataTable =\n",
              "            await google.colab.kernel.invokeFunction('convertToInteractive',\n",
              "                                                     [key], {});\n",
              "          if (!dataTable) return;\n",
              "\n",
              "          const docLinkHtml = 'Like what you see? Visit the ' +\n",
              "            '<a target=\"_blank\" href=https://colab.research.google.com/notebooks/data_table.ipynb>data table notebook</a>'\n",
              "            + ' to learn more about interactive tables.';\n",
              "          element.innerHTML = '';\n",
              "          dataTable['output_type'] = 'display_data';\n",
              "          await google.colab.output.renderOutput(dataTable, element);\n",
              "          const docLink = document.createElement('div');\n",
              "          docLink.innerHTML = docLinkHtml;\n",
              "          element.appendChild(docLink);\n",
              "        }\n",
              "      </script>\n",
              "    </div>\n",
              "  </div>\n",
              "  "
            ]
          },
          "metadata": {},
          "execution_count": 26
        }
      ]
    },
    {
      "cell_type": "code",
      "source": [
        "bayes_pred = bayes.best_estimator_.predict(X_test_p)\n",
        "print(f\"Precision:{precision_score(y_test, grids_pred):.2f}\")"
      ],
      "metadata": {
        "colab": {
          "base_uri": "https://localhost:8080/"
        },
        "id": "kZO-wypDyE4r",
        "outputId": "1df8839e-5f4f-408a-d72b-dd1f1a82d53c"
      },
      "execution_count": 27,
      "outputs": [
        {
          "output_type": "stream",
          "name": "stdout",
          "text": [
            "Precision:0.77\n"
          ]
        }
      ]
    },
    {
      "cell_type": "code",
      "source": [
        "bayes_cv_scores = cross_validate(bayes.best_estimator_, X=X_test_p, y=y_test, scoring=\"precision\")\n",
        "bayes_mean_cv_score = bayes_cv_scores[\"test_score\"].mean()\n",
        "print(pd.DataFrame(bayes_cv_scores))\n",
        "print(f\"GridSearch Mean CV Score: {bayes_mean_cv_score:.2f}\")"
      ],
      "metadata": {
        "colab": {
          "base_uri": "https://localhost:8080/"
        },
        "id": "DbeaM4UP1GdG",
        "outputId": "2841777c-cac2-4cd9-8807-a0e2f42bbbd8"
      },
      "execution_count": 28,
      "outputs": [
        {
          "output_type": "stream",
          "name": "stdout",
          "text": [
            "   fit_time  score_time  test_score\n",
            "0  0.265529    0.002678    0.760000\n",
            "1  0.264942    0.002740    0.833333\n",
            "2  0.265265    0.002866    0.772727\n",
            "3  0.263618    0.003746    0.863636\n",
            "4  0.259220    0.002641    0.767442\n",
            "GridSearch Mean CV Score: 0.80\n"
          ]
        }
      ]
    },
    {
      "cell_type": "markdown",
      "source": [
        "The training took around 1.5 minutes, with a wider search space and same parameters, the performance metrics are pretty similar with a small difference (0.2) in the mean cv precision score, for this demo \"precision\" was chosen as the key metric because according to the dataset documentation there is a higher cost for the False Positives"
      ],
      "metadata": {
        "id": "VapwInuh_dLM"
      }
    },
    {
      "cell_type": "markdown",
      "source": [
        "### Main References:\n",
        "\n",
        "\n",
        "*   https://scikit-optimize.github.io/stable/modules/generated/skopt.BayesSearchCV.html\n",
        "*   https://scikit-learn.org/stable/modules/generated/sklearn.model_selection.RandomizedSearchCV.html\n",
        "*   https://www.openml.org/search?type=data&sort=runs&status=active&id=31\n"
      ],
      "metadata": {
        "id": "jYJltuiAAdDN"
      }
    }
  ]
}