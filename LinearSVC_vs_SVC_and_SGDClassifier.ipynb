{
  "nbformat": 4,
  "nbformat_minor": 0,
  "metadata": {
    "colab": {
      "name": "LinearSVC vs SVC and SGDClassifier.ipynb",
      "provenance": [],
      "collapsed_sections": [],
      "authorship_tag": "ABX9TyMj2h8J2tzizof74aPDfqBW",
      "include_colab_link": true
    },
    "kernelspec": {
      "name": "python3",
      "display_name": "Python 3"
    }
  },
  "cells": [
    {
      "cell_type": "markdown",
      "metadata": {
        "id": "view-in-github",
        "colab_type": "text"
      },
      "source": [
        "<a href=\"https://colab.research.google.com/github/JOTOR/Examples_Python/blob/master/LinearSVC_vs_SVC_and_SGDClassifier.ipynb\" target=\"_parent\"><img src=\"https://colab.research.google.com/assets/colab-badge.svg\" alt=\"Open In Colab\"/></a>"
      ]
    },
    {
      "cell_type": "markdown",
      "metadata": {
        "id": "MCIZUMcbmBtM",
        "colab_type": "text"
      },
      "source": [
        "# **LinearSVC vs SVC and SGDClassifier**\n",
        "\n",
        "**Goal:**\n",
        "The goal of this notebook is to compare the performance of 3 estimators with a similar behavior. **LinearSVC** and **SGDClassifier** have the same *hinge* loss function. **SVC** is using a *linear* kernel\n",
        "\n",
        "Developed by: jhonnatan.torres.suarez@gmail.com\n",
        "___"
      ]
    },
    {
      "cell_type": "markdown",
      "metadata": {
        "id": "QpyEcSOMnZ1T",
        "colab_type": "text"
      },
      "source": [
        "##Data Stage\n",
        "\n",
        "The data used in this comparison is the famous **iris** dataset, for simplicity, the dataset was filtered by its first 2 attributes/features and first 100 observations (2 classes/labels)"
      ]
    },
    {
      "cell_type": "code",
      "metadata": {
        "id": "cl8PbBBa4w4S",
        "colab_type": "code",
        "colab": {}
      },
      "source": [
        "import numpy as np\n",
        "import matplotlib.pyplot as plt\n",
        "from sklearn.svm import LinearSVC, SVC\n",
        "from sklearn.linear_model import SGDClassifier\n",
        "from sklearn.datasets import load_iris\n",
        "from sklearn.model_selection import train_test_split\n",
        "from sklearn.pipeline import make_pipeline\n",
        "from sklearn.preprocessing import StandardScaler"
      ],
      "execution_count": 0,
      "outputs": []
    },
    {
      "cell_type": "code",
      "metadata": {
        "id": "CY3Fw5XidIdf",
        "colab_type": "code",
        "colab": {}
      },
      "source": [
        "plt.style.use('seaborn')"
      ],
      "execution_count": 0,
      "outputs": []
    },
    {
      "cell_type": "code",
      "metadata": {
        "id": "nBOREx3g7VKZ",
        "colab_type": "code",
        "colab": {}
      },
      "source": [
        "iris = load_iris()"
      ],
      "execution_count": 0,
      "outputs": []
    },
    {
      "cell_type": "code",
      "metadata": {
        "id": "0yQ120NB7VAg",
        "colab_type": "code",
        "colab": {}
      },
      "source": [
        "X = iris.data[0:100,0:2]"
      ],
      "execution_count": 0,
      "outputs": []
    },
    {
      "cell_type": "code",
      "metadata": {
        "id": "qht8lpvs7U1e",
        "colab_type": "code",
        "colab": {}
      },
      "source": [
        "y = iris.target[0:100]"
      ],
      "execution_count": 0,
      "outputs": []
    },
    {
      "cell_type": "markdown",
      "metadata": {
        "id": "FFHunQgSonbM",
        "colab_type": "text"
      },
      "source": [
        "##ML Stage\n",
        "\n",
        "The 3 estimators were trained using 70 observations, the remaining 30 observations were used for testing"
      ]
    },
    {
      "cell_type": "code",
      "metadata": {
        "id": "55EXLs3Y8pgh",
        "colab_type": "code",
        "colab": {}
      },
      "source": [
        "X_train, X_test, y_train, y_test = train_test_split(X, y, test_size=0.3, random_state=1234, stratify=y, shuffle=True)"
      ],
      "execution_count": 0,
      "outputs": []
    },
    {
      "cell_type": "code",
      "metadata": {
        "id": "xbI5WmLz411F",
        "colab_type": "code",
        "outputId": "3273e000-9963-4039-8985-323546e81cd2",
        "colab": {
          "base_uri": "https://localhost:8080/",
          "height": 85
        }
      },
      "source": [
        "print(X_train.shape)\n",
        "print(X_test.shape)\n",
        "print(y_train.shape)\n",
        "print(y_test.shape)"
      ],
      "execution_count": 0,
      "outputs": [
        {
          "output_type": "stream",
          "text": [
            "(70, 2)\n",
            "(30, 2)\n",
            "(70,)\n",
            "(30,)\n"
          ],
          "name": "stdout"
        }
      ]
    },
    {
      "cell_type": "markdown",
      "metadata": {
        "id": "Mi-xz2f9pPNm",
        "colab_type": "text"
      },
      "source": [
        "Observations were scaled prior to be fitted by the estimators"
      ]
    },
    {
      "cell_type": "code",
      "metadata": {
        "id": "ZcvzzyEi41qK",
        "colab_type": "code",
        "colab": {}
      },
      "source": [
        "scaler = StandardScaler()\n",
        "lsvc = LinearSVC(loss=\"hinge\",random_state=1234)\n",
        "svc  = SVC(kernel=\"linear\", random_state=1234)\n",
        "sgd  = SGDClassifier(loss=\"hinge\",random_state=1234, shuffle=False)"
      ],
      "execution_count": 0,
      "outputs": []
    },
    {
      "cell_type": "code",
      "metadata": {
        "id": "NIrTgoZX-jk_",
        "colab_type": "code",
        "colab": {}
      },
      "source": [
        "pl_lsvc = make_pipeline(scaler,lsvc)\n",
        "pl_svc  = make_pipeline(scaler,svc)\n",
        "pl_sgd  = make_pipeline(scaler,sgd)"
      ],
      "execution_count": 0,
      "outputs": []
    },
    {
      "cell_type": "code",
      "metadata": {
        "id": "1x0rwY5v-kEc",
        "colab_type": "code",
        "outputId": "25e5a87c-93ee-4550-baec-d56e53815606",
        "colab": {
          "base_uri": "https://localhost:8080/",
          "height": 34
        }
      },
      "source": [
        "pl_lsvc.fit(X_train, y_train)\n",
        "%timeit pl_lsvc.fit(X_train, y_train)"
      ],
      "execution_count": 0,
      "outputs": [
        {
          "output_type": "stream",
          "text": [
            "1000 loops, best of 3: 1.06 ms per loop\n"
          ],
          "name": "stdout"
        }
      ]
    },
    {
      "cell_type": "code",
      "metadata": {
        "id": "iyqRrnQs-j86",
        "colab_type": "code",
        "outputId": "f9c60ea4-77ad-4422-fa53-60b0ee1c9980",
        "colab": {
          "base_uri": "https://localhost:8080/",
          "height": 34
        }
      },
      "source": [
        "pl_svc.fit(X_train, y_train)\n",
        "%timeit pl_svc.fit(X_train, y_train)"
      ],
      "execution_count": 0,
      "outputs": [
        {
          "output_type": "stream",
          "text": [
            "1000 loops, best of 3: 1.1 ms per loop\n"
          ],
          "name": "stdout"
        }
      ]
    },
    {
      "cell_type": "code",
      "metadata": {
        "id": "IXNOwf9t-jzg",
        "colab_type": "code",
        "outputId": "0b71d2fe-0a05-40f5-bb56-a7df65296581",
        "colab": {
          "base_uri": "https://localhost:8080/",
          "height": 34
        }
      },
      "source": [
        "pl_sgd.fit(X_train, y_train)\n",
        "%timeit pl_sgd.fit(X_train, y_train)"
      ],
      "execution_count": 0,
      "outputs": [
        {
          "output_type": "stream",
          "text": [
            "1000 loops, best of 3: 1.17 ms per loop\n"
          ],
          "name": "stdout"
        }
      ]
    },
    {
      "cell_type": "code",
      "metadata": {
        "id": "StJKQm_X41ez",
        "colab_type": "code",
        "colab": {}
      },
      "source": [
        "lsvc_predictions = pl_lsvc.predict(X_test)\n",
        "svc_predictions = pl_svc.predict(X_test)\n",
        "sgd_predictions = pl_sgd.predict(X_test)"
      ],
      "execution_count": 0,
      "outputs": []
    },
    {
      "cell_type": "code",
      "metadata": {
        "id": "QEjA-972G06w",
        "colab_type": "code",
        "colab": {}
      },
      "source": [
        "mc_lsvc = np.where(y_test != lsvc_predictions,\"red\",\"white\")\n",
        "mc_svc = np.where(y_test != svc_predictions,\"red\",\"white\")\n",
        "mc_sdg = np.where(y_test != sgd_predictions,\"red\",\"white\")"
      ],
      "execution_count": 0,
      "outputs": []
    },
    {
      "cell_type": "markdown",
      "metadata": {
        "id": "zHaoUqvfplU1",
        "colab_type": "text"
      },
      "source": [
        "##Results & Conclusion\n",
        "\n",
        "In terms of time, all the estimators were fitted in a similar time due to the small amount of observations (100), however, in terms of performance, the **SGDClassifier** was the only estimator that replicated the same class distribution of the original dataset\n",
        "\n",
        "Please notice the misclassified points circled in red"
      ]
    },
    {
      "cell_type": "code",
      "metadata": {
        "id": "YNfLvCHD41Sl",
        "colab_type": "code",
        "outputId": "35699187-4793-4971-b091-44ec67a1fcef",
        "colab": {
          "base_uri": "https://localhost:8080/",
          "height": 441
        }
      },
      "source": [
        "plt.figure(figsize=(10,6))\n",
        "plt.subplot(2,2,1)\n",
        "plt.scatter(X_test[:,0], X_test[:,1], c=y_test, edgecolors =\"white\", linewidths=2)\n",
        "plt.title(\"Actual Target Distribution\")\n",
        "plt.subplot(2,2,2)\n",
        "plt.scatter(X_test[:,0], X_test[:,1], c=lsvc_predictions, edgecolors=mc_lsvc, s=60, linewidths=2)\n",
        "plt.title(\"LinearSVC Predictions\")\n",
        "plt.subplot(2,2,3)\n",
        "plt.scatter(X_test[:,0], X_test[:,1], c=svc_predictions, edgecolors=mc_svc, s=60, linewidths=2)\n",
        "plt.title(\"SVC (Kernel=Linear) Predictions\")\n",
        "plt.subplot(2,2,4)\n",
        "plt.scatter(X_test[:,0], X_test[:,1], c=sgd_predictions, edgecolors=mc_sdg, s=60, linewidths=2)\n",
        "plt.title(\"SGDClassifier Predictions\")\n",
        "plt.tight_layout()"
      ],
      "execution_count": 0,
      "outputs": [
        {
          "output_type": "display_data",
          "data": {
            "image/png": "[encoded data removed]",
            "text/plain": [
              "<Figure size 720x432 with 4 Axes>"
            ]
          },
          "metadata": {
            "tags": []
          }
        }
      ]
    }
  ]
}